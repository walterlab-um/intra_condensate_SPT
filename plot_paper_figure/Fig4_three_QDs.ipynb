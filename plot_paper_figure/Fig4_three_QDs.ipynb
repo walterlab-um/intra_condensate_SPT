{
 "cells": [
  {
   "cell_type": "code",
   "execution_count": 1,
   "id": "3df85541-f0e0-4ae7-8e29-3c0b9eee29fc",
   "metadata": {
    "tags": []
   },
   "outputs": [],
   "source": [
    "import os\n",
    "import numpy as np\n",
    "import pandas as pd\n",
    "import matplotlib.pyplot as plt\n",
    "import seaborn as sns\n",
    "\n",
    "sns.set(color_codes=True, style=\"white\")\n",
    "pd.options.mode.chained_assignment = None  # default='warn'\n",
    "\n",
    "# Displacement threshold for immobile molecules\n",
    "immobile_stepsize_threshold_nm = 30\n",
    "# alpha component threshold for constrained diffusion\n",
    "threshold_alpha = 0.5\n",
    "\n",
    "# FL mRNA 30368\n",
    "# 20 nm (-)beads 4027\n",
    "\n",
    "label_1 = \"QD-PEG\"\n",
    "label_2 = \"QD-Amine\"\n",
    "color_1 = \"#bcb1ca\"\n",
    "color_2 = \"#f8a29e\"\n",
    "palette = [color_1, color_2]\n",
    "\n",
    "postfix = \"QD-PEG-amine_in_condensate.png\"\n",
    "\n",
    "folder_save = \"/home/gmgao/Desktop/RNAinFUS_PaperFigures/Fig4_regulation/Charge-three_QDs\"\n",
    "fname_AIO_1 = \"SPT_results_AIO_concat-QD_PEG.csv\"\n",
    "fname_AIO_2 = \"SPT_results_AIO_concat-QD_amine.csv\"\n",
    "fname_saspt_1 = \"saSPT-pooled-mobile-QD_PEG.csv\"\n",
    "fname_saspt_2 = \"saSPT-pooled-mobile-QD_amine.csv\""
   ]
  },
  {
   "cell_type": "markdown",
   "id": "f98b124d-ca89-45dc-8a59-5961e397af45",
   "metadata": {
    "tags": []
   },
   "source": [
    "## Combine dataframes"
   ]
  },
  {
   "cell_type": "code",
   "execution_count": 2,
   "id": "eb010148",
   "metadata": {},
   "outputs": [],
   "source": [
    "os.chdir(folder_save)\n",
    "\n",
    "df1 = pd.read_csv(fname_AIO_1)\n",
    "df2 = pd.read_csv(fname_AIO_2)\n",
    "\n",
    "df1.insert(0, \"label\", np.repeat(label_1, df1.shape[0]))\n",
    "df2.insert(0, \"label\", np.repeat(label_2, df2.shape[0]))\n",
    "\n",
    "# Below sequence is important for the layer order\n",
    "df_AIO = pd.concat([df1, df2], ignore_index=True)"
   ]
  },
  {
   "cell_type": "code",
   "execution_count": 3,
   "id": "5d4d9906-41fc-4660-ac04-bc7fd77624da",
   "metadata": {
    "tags": []
   },
   "outputs": [],
   "source": [
    "df1 = pd.read_csv(fname_saspt_1, dtype=float)\n",
    "df2 = pd.read_csv(fname_saspt_2, dtype=float)\n",
    "\n",
    "\n",
    "def extract_log10D_density(df_current_file):\n",
    "    range_D = df_current_file[\"diff_coef\"].unique()\n",
    "    log10D_density = []\n",
    "    for log10D in range_D:\n",
    "        df_current_log10D = df_current_file[df_current_file[\"diff_coef\"] == log10D]\n",
    "        log10D_density.append(df_current_log10D[\"mean_posterior_occupation\"].sum())\n",
    "\n",
    "    df_toplot = pd.DataFrame(\n",
    "        {\"log10D\": np.log10(range_D), \"Probability\": log10D_density}, dtype=float\n",
    "    )\n",
    "\n",
    "    return df_toplot\n",
    "\n",
    "\n",
    "df_saspt_1 = extract_log10D_density(df1)\n",
    "df_saspt_2 = extract_log10D_density(df2)\n",
    "\n",
    "df_saspt_1.insert(0, \"label\", np.repeat(label_1, df_saspt_1.shape[0]))\n",
    "df_saspt_2.insert(0, \"label\", np.repeat(label_2, df_saspt_2.shape[0]))\n",
    "\n",
    "# Below sequence is important for the layer order\n",
    "df_saspt = pd.concat([df_saspt_1, df_saspt_2], ignore_index=True)"
   ]
  },
  {
   "cell_type": "markdown",
   "id": "ab26b113-3b03-431c-8f44-b4c59a3a28ba",
   "metadata": {},
   "source": [
    "# Plots"
   ]
  },
  {
   "cell_type": "markdown",
   "id": "0ca7aacc-379d-42da-ab7e-4314b0b821d0",
   "metadata": {
    "tags": []
   },
   "source": [
    "### Localization error"
   ]
  },
  {
   "cell_type": "code",
   "execution_count": 4,
   "id": "32301dfc-eddc-4999-8583-1da4dadecb6d",
   "metadata": {
    "tags": []
   },
   "outputs": [
    {
     "name": "stderr",
     "output_type": "stream",
     "text": [
      "/home/gmgao/miniconda3/envs/spt/lib/python3.9/site-packages/seaborn/_oldcore.py:1498: FutureWarning: is_categorical_dtype is deprecated and will be removed in a future version. Use isinstance(dtype, CategoricalDtype) instead\n",
      "  if pd.api.types.is_categorical_dtype(vector):\n",
      "/home/gmgao/miniconda3/envs/spt/lib/python3.9/site-packages/seaborn/_oldcore.py:1498: FutureWarning: is_categorical_dtype is deprecated and will be removed in a future version. Use isinstance(dtype, CategoricalDtype) instead\n",
      "  if pd.api.types.is_categorical_dtype(vector):\n",
      "/home/gmgao/miniconda3/envs/spt/lib/python3.9/site-packages/seaborn/_oldcore.py:1498: FutureWarning: is_categorical_dtype is deprecated and will be removed in a future version. Use isinstance(dtype, CategoricalDtype) instead\n",
      "  if pd.api.types.is_categorical_dtype(vector):\n",
      "/home/gmgao/miniconda3/envs/spt/lib/python3.9/site-packages/seaborn/_oldcore.py:1498: FutureWarning: is_categorical_dtype is deprecated and will be removed in a future version. Use isinstance(dtype, CategoricalDtype) instead\n",
      "  if pd.api.types.is_categorical_dtype(vector):\n",
      "/home/gmgao/miniconda3/envs/spt/lib/python3.9/site-packages/seaborn/_oldcore.py:1119: FutureWarning: use_inf_as_na option is deprecated and will be removed in a future version. Convert inf values to NaN before operating instead.\n",
      "  with pd.option_context('mode.use_inf_as_na', True):\n"
     ]
    },
    {
     "data": {
      "image/png": "[encoded data removed]",
      "text/plain": [
       "<Figure size 300x200 with 1 Axes>"
      ]
     },
     "metadata": {},
     "output_type": "display_data"
    }
   ],
   "source": [
    "data = df_AIO[df_AIO[\"mean_stepsize_nm\"] > immobile_stepsize_threshold_nm]\n",
    "data = data[data[\"linear_fit_R2\"] > 0.7]\n",
    "# quantile = np.quantile(df_AIO[\"linear_fit_sigma\"].dropna().to_numpy(), 0.999)\n",
    "plt.figure(figsize=(3, 2))\n",
    "ax = sns.histplot(\n",
    "    data=data,\n",
    "    x=\"linear_fit_sigma\",\n",
    "    hue=\"label\",\n",
    "    palette=palette,\n",
    "    bins=30,\n",
    "    binrange=(0, 200),\n",
    "    stat=\"probability\",\n",
    "    common_norm=False,\n",
    "    alpha=0.5,\n",
    ")\n",
    "plt.axvline(immobile_stepsize_threshold_nm, ls=\"--\", color=\"black\")\n",
    "plt.xlim(0, 200)\n",
    "sns.move_legend(ax, 0, title=None, frameon=False)\n",
    "plt.xlabel(\"Localization Error, nm\", fontsize=15)\n",
    "plt.ylabel(\"Probability\", fontsize=15)\n",
    "plt.gca().spines[:].set_linewidth(1)\n",
    "plt.gca().tick_params(\n",
    "    axis=\"both\",\n",
    "    which=\"major\",\n",
    "    labelsize=15,\n",
    "    direction=\"in\",\n",
    "    bottom=True,\n",
    "    left=True,\n",
    "    length=5,\n",
    "    width=1,\n",
    ")\n",
    "plt.gca().set_axisbelow(False)\n",
    "plt.gca().tick_params(axis=\"both\", which=\"major\", labelsize=15)\n",
    "plt.savefig(\"1.LocError_histo_\" + postfix, format=\"png\", bbox_inches=\"tight\", dpi=300)\n",
    "plt.show()"
   ]
  },
  {
   "cell_type": "markdown",
   "id": "cedcb26c-e155-4407-9ad7-9283bfc74e14",
   "metadata": {
    "tags": []
   },
   "source": [
    "### Mean Step Size (whether static molecule)"
   ]
  },
  {
   "cell_type": "code",
   "execution_count": 5,
   "id": "3dc9b397-cc74-4915-a3f7-d470465b5748",
   "metadata": {
    "tags": []
   },
   "outputs": [
    {
     "name": "stderr",
     "output_type": "stream",
     "text": [
      "/home/gmgao/miniconda3/envs/spt/lib/python3.9/site-packages/seaborn/_oldcore.py:1498: FutureWarning: is_categorical_dtype is deprecated and will be removed in a future version. Use isinstance(dtype, CategoricalDtype) instead\n",
      "  if pd.api.types.is_categorical_dtype(vector):\n",
      "/home/gmgao/miniconda3/envs/spt/lib/python3.9/site-packages/seaborn/_oldcore.py:1498: FutureWarning: is_categorical_dtype is deprecated and will be removed in a future version. Use isinstance(dtype, CategoricalDtype) instead\n",
      "  if pd.api.types.is_categorical_dtype(vector):\n",
      "/home/gmgao/miniconda3/envs/spt/lib/python3.9/site-packages/seaborn/_oldcore.py:1498: FutureWarning: is_categorical_dtype is deprecated and will be removed in a future version. Use isinstance(dtype, CategoricalDtype) instead\n",
      "  if pd.api.types.is_categorical_dtype(vector):\n",
      "/home/gmgao/miniconda3/envs/spt/lib/python3.9/site-packages/seaborn/_oldcore.py:1498: FutureWarning: is_categorical_dtype is deprecated and will be removed in a future version. Use isinstance(dtype, CategoricalDtype) instead\n",
      "  if pd.api.types.is_categorical_dtype(vector):\n",
      "/home/gmgao/miniconda3/envs/spt/lib/python3.9/site-packages/seaborn/_oldcore.py:1119: FutureWarning: use_inf_as_na option is deprecated and will be removed in a future version. Convert inf values to NaN before operating instead.\n",
      "  with pd.option_context('mode.use_inf_as_na', True):\n"
     ]
    },
    {
     "data": {
      "image/png": "[encoded data removed]",
      "text/plain": [
       "<Figure size 300x200 with 1 Axes>"
      ]
     },
     "metadata": {},
     "output_type": "display_data"
    },
    {
     "name": "stdout",
     "output_type": "stream",
     "text": [
      "QD-PEG 117985\n",
      "QD-Amine 1425695\n"
     ]
    }
   ],
   "source": [
    "plt.figure(figsize=(3, 2))\n",
    "ax = sns.histplot(\n",
    "    data=df_AIO,\n",
    "    x=\"mean_stepsize_nm\",\n",
    "    hue=\"label\",\n",
    "    palette=palette,\n",
    "    bins=40,\n",
    "    stat=\"probability\",\n",
    "    common_norm=False,\n",
    "    binrange=(0, 300),\n",
    "    alpha=0.5,\n",
    ")\n",
    "plt.xlim(0, 300)\n",
    "sns.move_legend(ax, 0, title=None, frameon=False)\n",
    "plt.axvline(30, ls=\"--\", color=\"black\")\n",
    "plt.xlabel(\"Mean Step Size per Track, nm\", fontsize=15)\n",
    "plt.ylabel(\"Probability\", fontsize=15)\n",
    "plt.gca().spines[:].set_linewidth(1)\n",
    "plt.gca().tick_params(\n",
    "    axis=\"both\",\n",
    "    which=\"major\",\n",
    "    labelsize=15,\n",
    "    direction=\"in\",\n",
    "    bottom=True,\n",
    "    left=True,\n",
    "    length=5,\n",
    "    width=1,\n",
    ")\n",
    "plt.gca().set_axisbelow(False)\n",
    "plt.gca().tick_params(axis=\"both\", which=\"major\", labelsize=15)\n",
    "plt.savefig(\"2.mean_stepsize_nm_histo_\" + postfix, format=\"png\", bbox_inches=\"tight\", dpi=300)\n",
    "plt.show()\n",
    "print(label_1, data[data[\"label\"] == label_1].shape[0])\n",
    "print(label_2, data[data[\"label\"] == label_2].shape[0])"
   ]
  },
  {
   "cell_type": "markdown",
   "id": "bc326ba2-4d5e-4b38-85a7-e4ce77a9bedc",
   "metadata": {
    "tags": []
   },
   "source": [
    "### alpha distribution"
   ]
  },
  {
   "cell_type": "code",
   "execution_count": 6,
   "id": "eda3ff98-618a-4a22-a0b3-00f252a957a8",
   "metadata": {},
   "outputs": [
    {
     "name": "stderr",
     "output_type": "stream",
     "text": [
      "/home/gmgao/miniconda3/envs/spt/lib/python3.9/site-packages/seaborn/_oldcore.py:1498: FutureWarning: is_categorical_dtype is deprecated and will be removed in a future version. Use isinstance(dtype, CategoricalDtype) instead\n",
      "  if pd.api.types.is_categorical_dtype(vector):\n",
      "/home/gmgao/miniconda3/envs/spt/lib/python3.9/site-packages/seaborn/_oldcore.py:1498: FutureWarning: is_categorical_dtype is deprecated and will be removed in a future version. Use isinstance(dtype, CategoricalDtype) instead\n",
      "  if pd.api.types.is_categorical_dtype(vector):\n",
      "/home/gmgao/miniconda3/envs/spt/lib/python3.9/site-packages/seaborn/_oldcore.py:1498: FutureWarning: is_categorical_dtype is deprecated and will be removed in a future version. Use isinstance(dtype, CategoricalDtype) instead\n",
      "  if pd.api.types.is_categorical_dtype(vector):\n",
      "/home/gmgao/miniconda3/envs/spt/lib/python3.9/site-packages/seaborn/_oldcore.py:1498: FutureWarning: is_categorical_dtype is deprecated and will be removed in a future version. Use isinstance(dtype, CategoricalDtype) instead\n",
      "  if pd.api.types.is_categorical_dtype(vector):\n",
      "/home/gmgao/miniconda3/envs/spt/lib/python3.9/site-packages/seaborn/_oldcore.py:1119: FutureWarning: use_inf_as_na option is deprecated and will be removed in a future version. Convert inf values to NaN before operating instead.\n",
      "  with pd.option_context('mode.use_inf_as_na', True):\n"
     ]
    },
    {
     "data": {
      "image/png": "[encoded data removed]",
      "text/plain": [
       "<Figure size 300x200 with 1 Axes>"
      ]
     },
     "metadata": {},
     "output_type": "display_data"
    },
    {
     "name": "stdout",
     "output_type": "stream",
     "text": [
      "QD-PEG 116320\n",
      "QD-Amine 1498711\n"
     ]
    }
   ],
   "source": [
    "plt.figure(figsize=(3, 2))\n",
    "data = df_AIO[df_AIO[\"mean_stepsize_nm\"] > immobile_stepsize_threshold_nm]\n",
    "data = data[data[\"loglog_fit_R2\"] > 0.7]\n",
    "data = data[data[\"alpha\"] > 0]\n",
    "ax = sns.histplot(\n",
    "    data=data,\n",
    "    x=\"alpha\",\n",
    "    hue=\"label\",\n",
    "    palette=palette,\n",
    "    bins=30,\n",
    "    stat=\"probability\",\n",
    "    common_norm=False,\n",
    "    binrange=(0, 2.3),\n",
    "    alpha=0.5,\n",
    "    legend=False,\n",
    ")\n",
    "# sns.move_legend(ax, 0, title=None, frameon=False)\n",
    "plt.axvline(0.7, ls=\"--\", color=\"black\")\n",
    "plt.xlim(0, 2.3)\n",
    "plt.xlabel(r\"$\\alpha$ Component\", fontsize=15)\n",
    "plt.ylabel(\"Probability\", fontsize=15)\n",
    "plt.gca().spines[:].set_linewidth(1)\n",
    "plt.gca().tick_params(\n",
    "    axis=\"both\",\n",
    "    which=\"major\",\n",
    "    labelsize=15,\n",
    "    direction=\"in\",\n",
    "    bottom=True,\n",
    "    left=True,\n",
    "    length=5,\n",
    "    width=1,\n",
    ")\n",
    "plt.gca().set_axisbelow(False)\n",
    "plt.gca().tick_params(axis=\"both\", which=\"major\", labelsize=15)\n",
    "plt.savefig(\"3.alpha_histo_\" + postfix, format=\"png\", bbox_inches=\"tight\", dpi=300)\n",
    "plt.show()\n",
    "print(label_1, data[data[\"label\"] == label_1].shape[0])\n",
    "print(label_2, data[data[\"label\"] == label_2].shape[0])"
   ]
  },
  {
   "cell_type": "markdown",
   "id": "6ad4ef8b-f6f3-4f3f-afb4-f7d4dc495a1e",
   "metadata": {
    "tags": []
   },
   "source": [
    "### Angle Distribution"
   ]
  },
  {
   "cell_type": "code",
   "execution_count": 7,
   "id": "3cfda476-905f-4212-84d3-39164fc2ac26",
   "metadata": {
    "tags": []
   },
   "outputs": [
    {
     "name": "stderr",
     "output_type": "stream",
     "text": [
      "/home/gmgao/miniconda3/envs/spt/lib/python3.9/site-packages/seaborn/_oldcore.py:1498: FutureWarning: is_categorical_dtype is deprecated and will be removed in a future version. Use isinstance(dtype, CategoricalDtype) instead\n",
      "  if pd.api.types.is_categorical_dtype(vector):\n",
      "/home/gmgao/miniconda3/envs/spt/lib/python3.9/site-packages/seaborn/_oldcore.py:1498: FutureWarning: is_categorical_dtype is deprecated and will be removed in a future version. Use isinstance(dtype, CategoricalDtype) instead\n",
      "  if pd.api.types.is_categorical_dtype(vector):\n",
      "/home/gmgao/miniconda3/envs/spt/lib/python3.9/site-packages/seaborn/_oldcore.py:1498: FutureWarning: is_categorical_dtype is deprecated and will be removed in a future version. Use isinstance(dtype, CategoricalDtype) instead\n",
      "  if pd.api.types.is_categorical_dtype(vector):\n",
      "/home/gmgao/miniconda3/envs/spt/lib/python3.9/site-packages/seaborn/_oldcore.py:1498: FutureWarning: is_categorical_dtype is deprecated and will be removed in a future version. Use isinstance(dtype, CategoricalDtype) instead\n",
      "  if pd.api.types.is_categorical_dtype(vector):\n",
      "/home/gmgao/miniconda3/envs/spt/lib/python3.9/site-packages/seaborn/_oldcore.py:1119: FutureWarning: use_inf_as_na option is deprecated and will be removed in a future version. Convert inf values to NaN before operating instead.\n",
      "  with pd.option_context('mode.use_inf_as_na', True):\n"
     ]
    },
    {
     "data": {
      "image/png": "[encoded data removed]",
      "text/plain": [
       "<Figure size 300x200 with 1 Axes>"
      ]
     },
     "metadata": {},
     "output_type": "display_data"
    }
   ],
   "source": [
    "lst_angle = []\n",
    "lst_label = []\n",
    "for _, row in df_AIO[df_AIO[\"mean_stepsize_nm\"] > immobile_stepsize_threshold_nm].iterrows():\n",
    "    angles = np.fromstring(\n",
    "        row[\"list_of_angles\"][1:-1],\n",
    "        dtype=float,\n",
    "        sep=\", \",\n",
    "    )\n",
    "    labels = np.repeat(row[\"label\"], angles.shape[0])\n",
    "    lst_angle.extend(angles)\n",
    "    lst_label.extend(labels)\n",
    "\n",
    "data = pd.DataFrame(\n",
    "    {\n",
    "        \"angle\": np.abs(lst_angle),\n",
    "        \"label\": lst_label,\n",
    "    },\n",
    "    dtype=object,\n",
    ")\n",
    "\n",
    "plt.figure(figsize=(3, 2))\n",
    "bins = 30\n",
    "ax = sns.histplot(\n",
    "    data=data,\n",
    "    x=\"angle\",\n",
    "    hue=\"label\",\n",
    "    palette=palette,\n",
    "    bins=bins,\n",
    "    stat=\"probability\",\n",
    "    common_norm=False,\n",
    "    binrange=(0, 180),\n",
    "    alpha=0.5,\n",
    "    legend=False,\n",
    ")\n",
    "# sns.move_legend(ax, 0, title=None, frameon=False)\n",
    "plt.axhline(1 / bins, color=\"black\", ls=\"--\", lw=3)\n",
    "plt.xlim(0, 180)\n",
    "plt.xticks([0, 30, 60, 90, 120, 150, 180])\n",
    "plt.ylim(0, 0.08)\n",
    "plt.xlabel(\"Angle, Degree\", fontsize=15)\n",
    "plt.ylabel(\"Probability\", fontsize=15)\n",
    "plt.gca().spines[:].set_linewidth(1)\n",
    "plt.gca().tick_params(\n",
    "    axis=\"both\",\n",
    "    which=\"major\",\n",
    "    labelsize=15,\n",
    "    direction=\"in\",\n",
    "    bottom=True,\n",
    "    left=True,\n",
    "    length=5,\n",
    "    width=1,\n",
    ")\n",
    "plt.gca().set_axisbelow(False)\n",
    "plt.gca().tick_params(axis=\"both\", which=\"major\", labelsize=15)\n",
    "plt.savefig(\"4.angle_histo_\" + postfix, format=\"png\", bbox_inches=\"tight\", dpi=300)\n",
    "plt.show()"
   ]
  },
  {
   "cell_type": "markdown",
   "id": "ddbebb84-cc8a-4a49-8c23-c5397737065b",
   "metadata": {
    "tags": []
   },
   "source": [
    "### D distribution among the non contrained molecules"
   ]
  },
  {
   "cell_type": "code",
   "execution_count": 8,
   "id": "4545771a-0b70-4178-9889-3c1c5fa1be1b",
   "metadata": {
    "tags": []
   },
   "outputs": [
    {
     "name": "stderr",
     "output_type": "stream",
     "text": [
      "/home/gmgao/miniconda3/envs/spt/lib/python3.9/site-packages/seaborn/_oldcore.py:1498: FutureWarning: is_categorical_dtype is deprecated and will be removed in a future version. Use isinstance(dtype, CategoricalDtype) instead\n",
      "  if pd.api.types.is_categorical_dtype(vector):\n",
      "/home/gmgao/miniconda3/envs/spt/lib/python3.9/site-packages/seaborn/_oldcore.py:1498: FutureWarning: is_categorical_dtype is deprecated and will be removed in a future version. Use isinstance(dtype, CategoricalDtype) instead\n",
      "  if pd.api.types.is_categorical_dtype(vector):\n",
      "/home/gmgao/miniconda3/envs/spt/lib/python3.9/site-packages/seaborn/_oldcore.py:1498: FutureWarning: is_categorical_dtype is deprecated and will be removed in a future version. Use isinstance(dtype, CategoricalDtype) instead\n",
      "  if pd.api.types.is_categorical_dtype(vector):\n",
      "/home/gmgao/miniconda3/envs/spt/lib/python3.9/site-packages/seaborn/_oldcore.py:1498: FutureWarning: is_categorical_dtype is deprecated and will be removed in a future version. Use isinstance(dtype, CategoricalDtype) instead\n",
      "  if pd.api.types.is_categorical_dtype(vector):\n",
      "/home/gmgao/miniconda3/envs/spt/lib/python3.9/site-packages/seaborn/_oldcore.py:1119: FutureWarning: use_inf_as_na option is deprecated and will be removed in a future version. Convert inf values to NaN before operating instead.\n",
      "  with pd.option_context('mode.use_inf_as_na', True):\n"
     ]
    },
    {
     "data": {
      "image/png": "[encoded data removed]",
      "text/plain": [
       "<Figure size 300x200 with 1 Axes>"
      ]
     },
     "metadata": {},
     "output_type": "display_data"
    },
    {
     "name": "stdout",
     "output_type": "stream",
     "text": [
      "QD-PEG 83399\n",
      "QD-Amine 1092037\n"
     ]
    }
   ],
   "source": [
    "data = df_AIO[df_AIO[\"linear_fit_R2\"] > 0.7]\n",
    "data = data[data[\"mean_stepsize_nm\"] > immobile_stepsize_threshold_nm]\n",
    "data = data[data[\"alpha\"] > 0.5]\n",
    "plt.figure(figsize=(3, 2))\n",
    "ax = sns.histplot(\n",
    "    data=data,\n",
    "    x=\"linear_fit_log10D\",\n",
    "    hue=\"label\",\n",
    "    palette=palette,\n",
    "    bins=40,\n",
    "    stat=\"probability\",\n",
    "    common_norm=False,\n",
    "    binrange=(-3, 2.5),\n",
    "    alpha=0.5,\n",
    "    legend=False,\n",
    ")\n",
    "# sns.move_legend(ax, 1, title=None, frameon=False)\n",
    "plt.xlim(-3, 2.5)\n",
    "plt.xlabel(r\"log$_{10}$D$_{app}$, $\\mu$m$^2$/s\", fontsize=15)\n",
    "plt.ylabel(\"Probability\", fontsize=15)\n",
    "plt.gca().spines[:].set_linewidth(1)\n",
    "plt.gca().tick_params(\n",
    "    axis=\"both\",\n",
    "    which=\"major\",\n",
    "    labelsize=15,\n",
    "    direction=\"in\",\n",
    "    bottom=True,\n",
    "    left=True,\n",
    "    length=5,\n",
    "    width=1,\n",
    ")\n",
    "plt.gca().set_axisbelow(False)\n",
    "plt.gca().tick_params(axis=\"both\", which=\"major\", labelsize=15)\n",
    "plt.savefig(\"5.ApparentD_linear_histo_\" + postfix, format=\"png\", bbox_inches=\"tight\", dpi=300)\n",
    "plt.show()\n",
    "print(label_1, data[data[\"label\"] == label_1].shape[0])\n",
    "print(label_2, data[data[\"label\"] == label_2].shape[0])"
   ]
  },
  {
   "cell_type": "markdown",
   "id": "6227460c-da19-457f-968f-805f59435b0b",
   "metadata": {
    "tags": []
   },
   "source": [
    "### Plot saSPT"
   ]
  },
  {
   "cell_type": "code",
   "execution_count": 17,
   "id": "70cb9959-dc7c-470f-84bf-377b5ec71470",
   "metadata": {
    "tags": []
   },
   "outputs": [
    {
     "name": "stderr",
     "output_type": "stream",
     "text": [
      "/home/gmgao/miniconda3/envs/spt/lib/python3.9/site-packages/seaborn/_oldcore.py:1498: FutureWarning: is_categorical_dtype is deprecated and will be removed in a future version. Use isinstance(dtype, CategoricalDtype) instead\n",
      "  if pd.api.types.is_categorical_dtype(vector):\n",
      "/home/gmgao/miniconda3/envs/spt/lib/python3.9/site-packages/seaborn/_oldcore.py:1498: FutureWarning: is_categorical_dtype is deprecated and will be removed in a future version. Use isinstance(dtype, CategoricalDtype) instead\n",
      "  if pd.api.types.is_categorical_dtype(vector):\n",
      "/home/gmgao/miniconda3/envs/spt/lib/python3.9/site-packages/seaborn/_oldcore.py:1498: FutureWarning: is_categorical_dtype is deprecated and will be removed in a future version. Use isinstance(dtype, CategoricalDtype) instead\n",
      "  if pd.api.types.is_categorical_dtype(vector):\n",
      "/home/gmgao/miniconda3/envs/spt/lib/python3.9/site-packages/seaborn/_oldcore.py:1498: FutureWarning: is_categorical_dtype is deprecated and will be removed in a future version. Use isinstance(dtype, CategoricalDtype) instead\n",
      "  if pd.api.types.is_categorical_dtype(vector):\n",
      "/home/gmgao/miniconda3/envs/spt/lib/python3.9/site-packages/seaborn/_oldcore.py:1498: FutureWarning: is_categorical_dtype is deprecated and will be removed in a future version. Use isinstance(dtype, CategoricalDtype) instead\n",
      "  if pd.api.types.is_categorical_dtype(vector):\n",
      "/home/gmgao/miniconda3/envs/spt/lib/python3.9/site-packages/seaborn/_oldcore.py:1119: FutureWarning: use_inf_as_na option is deprecated and will be removed in a future version. Convert inf values to NaN before operating instead.\n",
      "  with pd.option_context('mode.use_inf_as_na', True):\n",
      "/home/gmgao/miniconda3/envs/spt/lib/python3.9/site-packages/seaborn/_oldcore.py:1119: FutureWarning: use_inf_as_na option is deprecated and will be removed in a future version. Convert inf values to NaN before operating instead.\n",
      "  with pd.option_context('mode.use_inf_as_na', True):\n"
     ]
    },
    {
     "data": {
      "image/png": "[encoded data removed]",
      "text/plain": [
       "<Figure size 300x200 with 1 Axes>"
      ]
     },
     "metadata": {},
     "output_type": "display_data"
    }
   ],
   "source": [
    "plt.figure(figsize=(3, 2))\n",
    "ax = sns.lineplot(\n",
    "    data=df_saspt,\n",
    "    x=\"log10D\",\n",
    "    y=\"Probability\",\n",
    "    hue=\"label\",\n",
    "    palette=palette,\n",
    "    lw=3,\n",
    "    alpha=0.7,\n",
    "    legend=False,\n",
    ")\n",
    "log10D = df_saspt[\"log10D\"].to_numpy(dtype=float)\n",
    "\n",
    "# sns.move_legend(ax, 1, title=None, frameon=False)\n",
    "plt.xlim(-2, 0)\n",
    "plt.ylim(0, 0.04)\n",
    "plt.xlabel(r\"log$_{10}$D$_{app}$, $\\mu$m$^2$/s\", fontsize=15)\n",
    "plt.ylabel(\"SA Occupation\", fontsize=15)\n",
    "plt.gca().spines[:].set_linewidth(1)\n",
    "plt.gca().tick_params(\n",
    "    axis=\"both\",\n",
    "    which=\"major\",\n",
    "    labelsize=15,\n",
    "    direction=\"in\",\n",
    "    bottom=True,\n",
    "    left=True,\n",
    "    length=5,\n",
    "    width=1,\n",
    ")\n",
    "plt.gca().set_axisbelow(False)\n",
    "plt.gca().tick_params(axis=\"both\", which=\"major\", labelsize=15)\n",
    "plt.savefig(\"6.saspt_histo_\" + postfix, format=\"png\", bbox_inches=\"tight\", dpi=300)\n",
    "plt.show()"
   ]
  },
  {
   "cell_type": "markdown",
   "id": "255a4b50-faea-436e-b473-a5f30b54eb11",
   "metadata": {
    "tags": []
   },
   "source": [
    "### Stacked bar plot of fractions"
   ]
  },
  {
   "cell_type": "markdown",
   "id": "df0eaee3-6c47-412d-a88c-afe04e8896c8",
   "metadata": {},
   "source": [
    "#### Calculations"
   ]
  },
  {
   "cell_type": "code",
   "execution_count": 10,
   "id": "4063f09b-1ca0-4761-862f-35d838733371",
   "metadata": {
    "tags": []
   },
   "outputs": [],
   "source": [
    "# Output file structure\n",
    "labels = [label_1, label_2]\n",
    "columns = [\n",
    "    \"label\",\n",
    "    \"replicate_prefix\",\n",
    "    \"N, Total\",\n",
    "    \"N, Mobile\",\n",
    "    \"N, Constrained\",\n",
    "    \"Static Fraction\",\n",
    "    \"Constrained Fraction\",\n",
    "]"
   ]
  },
  {
   "cell_type": "code",
   "execution_count": 11,
   "id": "f5527e49-6fd2-485e-8e10-5cb365763c22",
   "metadata": {
    "tags": []
   },
   "outputs": [],
   "source": [
    "lst_rows_of_df = []\n",
    "fnames = [fname_AIO_1, fname_AIO_2]\n",
    "\n",
    "for i in range(2):\n",
    "    df_current = pd.read_csv(fnames[i])\n",
    "    df_current = df_current.astype(\n",
    "        {\"linear_fit_log10D\": float, \"mean_stepsize_nm\": float, \"alpha\": float}\n",
    "    )\n",
    "    # all filenames within the current condition/file\n",
    "    all_filenames = df_current[\"filename\"].unique().tolist()\n",
    "    # filename prefix for each replicate\n",
    "    replicate_prefixs = np.unique([f.split(\"FOV\")[0] for f in all_filenames])\n",
    "\n",
    "    for prefix in replicate_prefixs:\n",
    "        current_replicate_filenames = [f for f in all_filenames if prefix in f]\n",
    "        df_current_replicate = df_current[\n",
    "            df_current[\"filename\"].isin(current_replicate_filenames)\n",
    "        ]\n",
    "\n",
    "        # Judege if immobile by mean step size\n",
    "        df_mobile = df_current_replicate[\n",
    "            df_current_replicate[\"mean_stepsize_nm\"] >= immobile_stepsize_threshold_nm\n",
    "        ]\n",
    "\n",
    "        # Judge if constrained by alpha component\n",
    "        df_constrained = df_mobile[df_mobile[\"alpha\"] <= threshold_alpha]\n",
    "\n",
    "        N_total = df_current_replicate.shape[0]\n",
    "        N_mobile = df_mobile.shape[0]\n",
    "        N_constrained = df_constrained.shape[0]\n",
    "\n",
    "        if N_constrained < 1:\n",
    "            continue\n",
    "\n",
    "        F_immobile = (N_total - N_mobile) / N_total\n",
    "        F_constrained = N_constrained / N_mobile\n",
    "\n",
    "        # save\n",
    "        lst_rows_of_df.append(\n",
    "            [\n",
    "                labels[i],\n",
    "                prefix,\n",
    "                N_total,\n",
    "                N_mobile,\n",
    "                N_constrained,\n",
    "                F_immobile,\n",
    "                F_constrained,\n",
    "            ]\n",
    "        )\n",
    "\n",
    "data = pd.DataFrame.from_records(\n",
    "    lst_rows_of_df,\n",
    "    columns=columns,\n",
    ")"
   ]
  },
  {
   "cell_type": "code",
   "execution_count": 12,
   "id": "2a2cbb42-e9b0-4afb-aa99-b541817c11f0",
   "metadata": {},
   "outputs": [],
   "source": [
    "N_total = data[\"N, Total\"].to_numpy(int)\n",
    "N_mobile = data[\"N, Mobile\"].to_numpy(int)\n",
    "N_immobile = N_total - N_mobile\n",
    "N_constrained = data[\"N, Constrained\"].to_numpy(int)\n",
    "N_normal = N_mobile - N_constrained\n",
    "\n",
    "frac_immobile = N_immobile / N_total\n",
    "frac_constrained = N_constrained / N_total\n",
    "frac_normal = N_normal / N_total\n",
    "\n",
    "data[\"Immobile\"] = frac_immobile\n",
    "data[\"Constrained\"] = frac_constrained\n",
    "data[\"Normal\"] = frac_normal\n",
    "\n",
    "df_mean_error = pd.DataFrame(\n",
    "    {\n",
    "        \"label\": data[\"label\"].unique(),\n",
    "        \"F_immobile_mean\": [\n",
    "            data[data[\"label\"] == label][\"Immobile\"].mean()\n",
    "            for label in data[\"label\"].unique()\n",
    "        ],\n",
    "        \"F_immobile_sem\": [\n",
    "            data[data[\"label\"] == label][\"Immobile\"].sem()\n",
    "            for label in data[\"label\"].unique()\n",
    "        ],\n",
    "        \"F_constrained_mean\": [\n",
    "            data[data[\"label\"] == label][\"Constrained\"].mean()\n",
    "            for label in data[\"label\"].unique()\n",
    "        ],\n",
    "        \"F_constrained_sem\": [\n",
    "            data[data[\"label\"] == label][\"Constrained\"].sem()\n",
    "            for label in data[\"label\"].unique()\n",
    "        ],\n",
    "        \"F_normal_mean\": [\n",
    "            data[data[\"label\"] == label][\"Normal\"].mean()\n",
    "            for label in data[\"label\"].unique()\n",
    "        ],\n",
    "        \"F_normal_sem\": [\n",
    "            data[data[\"label\"] == label][\"Normal\"].sem()\n",
    "            for label in data[\"label\"].unique()\n",
    "        ],\n",
    "    },\n",
    "    dtype=object,\n",
    ")"
   ]
  },
  {
   "cell_type": "markdown",
   "id": "80968e0d-937e-455d-9da2-ff3fbb72447a",
   "metadata": {
    "tags": []
   },
   "source": [
    "#### Plot"
   ]
  },
  {
   "cell_type": "code",
   "execution_count": 13,
   "id": "abd89ac5",
   "metadata": {},
   "outputs": [
    {
     "data": {
      "image/png": "[encoded data removed]",
      "text/plain": [
       "<Figure size 300x400 with 1 Axes>"
      ]
     },
     "metadata": {},
     "output_type": "display_data"
    }
   ],
   "source": [
    "fig = plt.figure(figsize=(3, 4))\n",
    "x = [1, 2]\n",
    "colors = [\n",
    "    \"#333232\",\n",
    "    \"#f7b801\",\n",
    "    \"#87a878\",\n",
    "]\n",
    "\n",
    "df_fractions = df_mean_error[df_mean_error[\"label\"].isin(labels)]\n",
    "bottom = np.zeros(len(x))\n",
    "categories = [\"F_immobile_mean\", \"F_constrained_mean\", \"F_normal_mean\"]\n",
    "for i in range(len(categories)):\n",
    "    plt.bar(\n",
    "        x=x,\n",
    "        height=df_fractions[categories[i]],\n",
    "        yerr=df_fractions[categories[i][:-4] + \"sem\"],\n",
    "        error_kw={\"elinewidth\": 1},\n",
    "        capsize=3,\n",
    "        label=labels,\n",
    "        bottom=bottom,\n",
    "        color=colors[i],\n",
    "    )\n",
    "    bottom += df_fractions[categories[i]]\n",
    "plt.ylim(0, 1.08)\n",
    "plt.ylabel(\"Fraction\", size=25)\n",
    "plt.xticks([])\n",
    "plt.yticks([0, 0.5, 1], size=15)\n",
    "plt.gca().spines[:].set_linewidth(3)\n",
    "plt.gca().spines[['right', 'top', 'bottom']].set_visible(False)\n",
    "plt.gca().tick_params(\n",
    "    axis=\"y\",\n",
    "    which=\"major\",\n",
    "    labelsize=20,\n",
    "    direction=\"in\",\n",
    "    bottom=True,\n",
    "    left=True,\n",
    "    length=5,\n",
    "    width=3,\n",
    ")\n",
    "canvas_width = 0.5\n",
    "plt.xlim(1-canvas_width,2+canvas_width)\n",
    "plt.xlabel(\"\")\n",
    "plt.tight_layout()\n",
    "plt.savefig(\"Fracs_compare_left_PEG_right_amine_same20ms.png\", format=\"png\", bbox_inches=\"tight\", dpi=300)\n",
    "plt.show()"
   ]
  },
  {
   "cell_type": "markdown",
   "id": "aa6fffaa-a806-4727-af70-a7e65e44c4c4",
   "metadata": {
    "tags": []
   },
   "source": [
    "### Fitting R2 of all mobile molecules"
   ]
  },
  {
   "cell_type": "code",
   "execution_count": 14,
   "id": "eb7d7cd1-b8c4-4740-8d10-7e59faefb7c6",
   "metadata": {},
   "outputs": [
    {
     "name": "stderr",
     "output_type": "stream",
     "text": [
      "/home/gmgao/miniconda3/envs/spt/lib/python3.9/site-packages/seaborn/_oldcore.py:1498: FutureWarning: is_categorical_dtype is deprecated and will be removed in a future version. Use isinstance(dtype, CategoricalDtype) instead\n",
      "  if pd.api.types.is_categorical_dtype(vector):\n",
      "/home/gmgao/miniconda3/envs/spt/lib/python3.9/site-packages/seaborn/_oldcore.py:1498: FutureWarning: is_categorical_dtype is deprecated and will be removed in a future version. Use isinstance(dtype, CategoricalDtype) instead\n",
      "  if pd.api.types.is_categorical_dtype(vector):\n",
      "/home/gmgao/miniconda3/envs/spt/lib/python3.9/site-packages/seaborn/_oldcore.py:1498: FutureWarning: is_categorical_dtype is deprecated and will be removed in a future version. Use isinstance(dtype, CategoricalDtype) instead\n",
      "  if pd.api.types.is_categorical_dtype(vector):\n",
      "/home/gmgao/miniconda3/envs/spt/lib/python3.9/site-packages/seaborn/_oldcore.py:1498: FutureWarning: is_categorical_dtype is deprecated and will be removed in a future version. Use isinstance(dtype, CategoricalDtype) instead\n",
      "  if pd.api.types.is_categorical_dtype(vector):\n",
      "/home/gmgao/miniconda3/envs/spt/lib/python3.9/site-packages/seaborn/_oldcore.py:1119: FutureWarning: use_inf_as_na option is deprecated and will be removed in a future version. Convert inf values to NaN before operating instead.\n",
      "  with pd.option_context('mode.use_inf_as_na', True):\n"
     ]
    },
    {
     "data": {
      "image/png": "[encoded data removed]",
      "text/plain": [
       "<Figure size 300x200 with 1 Axes>"
      ]
     },
     "metadata": {},
     "output_type": "display_data"
    },
    {
     "name": "stdout",
     "output_type": "stream",
     "text": [
      "QD-PEG 212886\n",
      "QD-Amine 2209378\n"
     ]
    }
   ],
   "source": [
    "data = df_AIO[df_AIO[\"mean_stepsize_nm\"] > immobile_stepsize_threshold_nm]\n",
    "plt.figure(figsize=(3, 2))\n",
    "ax = sns.histplot(\n",
    "    data=data,\n",
    "    x=\"linear_fit_R2\",\n",
    "    hue=\"label\",\n",
    "    palette=palette,\n",
    "    bins=40,\n",
    "    stat=\"probability\",\n",
    "    common_norm=False,\n",
    "    binrange=(0, 1),\n",
    "    legend=False,\n",
    ")\n",
    "# sns.move_legend(ax, 0, title=None, frameon=False)\n",
    "plt.xlim(0, 1)\n",
    "plt.xlabel(r\"Fitting R$^2$\", fontsize=15)\n",
    "plt.ylabel(\"Probability\", fontsize=15)\n",
    "plt.gca().spines[:].set_linewidth(1)\n",
    "plt.gca().tick_params(\n",
    "    axis=\"both\",\n",
    "    which=\"major\",\n",
    "    labelsize=15,\n",
    "    direction=\"in\",\n",
    "    bottom=True,\n",
    "    left=True,\n",
    "    length=5,\n",
    "    width=1,\n",
    ")\n",
    "plt.savefig(\"SM1.fitting_R2_histo_\" + postfix, format=\"png\", bbox_inches=\"tight\", dpi=300)\n",
    "plt.show()\n",
    "print(label_1, data[data[\"label\"] == label_1].shape[0])\n",
    "print(label_2, data[data[\"label\"] == label_2].shape[0])"
   ]
  },
  {
   "cell_type": "code",
   "execution_count": null,
   "id": "03eee10f",
   "metadata": {},
   "outputs": [],
   "source": []
  }
 ],
 "metadata": {
  "kernelspec": {
   "display_name": "Python 3 (ipykernel)",
   "language": "python",
   "name": "python3"
  },
  "language_info": {
   "codemirror_mode": {
    "name": "ipython",
    "version": 3
   },
   "file_extension": ".py",
   "mimetype": "text/x-python",
   "name": "python",
   "nbconvert_exporter": "python",
   "pygments_lexer": "ipython3",
   "version": "3.9.18"
  }
 },
 "nbformat": 4,
 "nbformat_minor": 5
}
