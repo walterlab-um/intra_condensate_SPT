{
 "cells": [
  {
   "cell_type": "code",
   "execution_count": 137,
   "id": "194875db-8a0c-49f1-a0c3-d10432deba23",
   "metadata": {
    "tags": []
   },
   "outputs": [],
   "source": [
    "from tifffile import imread\n",
    "import os\n",
    "from os.path import exists, join\n",
    "from scipy.ndimage import gaussian_filter\n",
    "import matplotlib.pyplot as plt\n",
    "import matplotlib.colors as clr\n",
    "import numpy as np\n",
    "import pandas as pd\n",
    "\n",
    "pd.options.mode.chained_assignment = None  # default='warn'"
   ]
  },
  {
   "cell_type": "markdown",
   "id": "22d485d1-c89b-4854-9595-14cf5e62eff2",
   "metadata": {},
   "source": [
    "### Parameters and path"
   ]
  },
  {
   "cell_type": "code",
   "execution_count": 138,
   "id": "82178fca-05d9-48ec-b517-4bfe124433d1",
   "metadata": {
    "tags": []
   },
   "outputs": [],
   "source": [
    "um_per_pixel = 0.117\n",
    "s_per_frame = 0.03\n",
    "folder_save = \"/Volumes/lsa-nwalter/Guoming_Gao_turbo/Walterlab_server/PROCESSED_DATA/RNA-diffusion-in-FUS/RNAinFUS_PaperFigures/Fig1_system design/rotation\"\n",
    "\n",
    "img_folder = \"/Volumes/lsa-nwalter/Guoming_Gao_turbo/Walterlab_server/PROCESSED_DATA/RNA-diffusion-in-FUS/RNAinFUS_PaperFigures/Fig1_system design/rotation\"\n",
    "os.chdir(img_folder)\n",
    "lst_imgs = [f for f in os.listdir(img_folder) if f.endswith(\".tif\")]\n",
    "\n",
    "plow = 0.5  # imshow intensity percentile\n",
    "phigh = 90\n",
    "scalebar_color = \"white\"\n",
    "\n",
    "cmap_color_start = \"black\"\n",
    "cmap_color_end = \"#B9DBF4\"\n",
    "cmap_name = \"dark2blue\"\n",
    "cmap_blue = clr.LinearSegmentedColormap.from_list(\n",
    "    cmap_name,\n",
    "    [cmap_color_start, cmap_color_end],\n",
    ")\n",
    "\n",
    "cmap_color_start = (0.753, 0.22, 0.188, 0)\n",
    "cmap_color_end = (0.753, 0.22, 0.188, 1)\n",
    "cmap_name = \"transparent2red\"\n",
    "cmap_red = clr.LinearSegmentedColormap.from_list(\n",
    "    cmap_name,\n",
    "    [cmap_color_start, cmap_color_end],\n",
    ")\n",
    "\n",
    "scalebar_length_um = 1\n",
    "scalebar_length_pxl = scalebar_length_um / um_per_pixel\n",
    "scale_bar_offset = 1"
   ]
  },
  {
   "cell_type": "markdown",
   "id": "e923c7dc-2beb-4b05-9ea6-a4bfd4a8f6ad",
   "metadata": {},
   "source": [
    "### First Frame, with scale bar"
   ]
  },
  {
   "cell_type": "code",
   "execution_count": null,
   "id": "9d9e8aef",
   "metadata": {},
   "outputs": [],
   "source": []
  },
  {
   "cell_type": "code",
   "execution_count": 139,
   "id": "4a1b722a-e7ed-42cc-83e4-23b40337a4f3",
   "metadata": {
    "tags": []
   },
   "outputs": [
    {
     "data": {
      "image/png": "[encoded data removed]",
      "text/plain": [
       "<Figure size 640x480 with 1 Axes>"
      ]
     },
     "metadata": {},
     "output_type": "display_data"
    }
   ],
   "source": [
    "fname = \"20220303-HILO_30ms-zoom-merge-1.tif\"\n",
    "raw_img_dual = imread(fname)\n",
    "img_blue = gaussian_filter(raw_img_dual[1, :, :], 2)\n",
    "img_red = raw_img_dual[0, :, :]\n",
    "time_s = int(fname.split(\"merge-\")[-1].split(\".tif\")[0]) * s_per_frame\n",
    "\n",
    "plt.figure()\n",
    "plt.imshow(\n",
    "    img_blue,\n",
    "    cmap=cmap_blue,\n",
    "    vmin=np.percentile(img_blue.flat, 50),\n",
    "    vmax=np.percentile(img_blue.flat, 90),\n",
    ")\n",
    "plt.imshow(\n",
    "    img_red,\n",
    "    cmap=cmap_red,\n",
    "    vmin=np.percentile(img_red.flat, 50),\n",
    "    vmax=np.percentile(img_red.flat, 99.5),\n",
    ")\n",
    "plt.text(\n",
    "    0,\n",
    "    15,\n",
    "    str(round(time_s, 2)) + \" s\",\n",
    "    fontsize=80,\n",
    "    color=\"white\",\n",
    ")\n",
    "plt.xlim(0, img_blue.shape[0])\n",
    "plt.ylim(0, img_blue.shape[1])\n",
    "plt.gca().invert_yaxis()\n",
    "plt.tight_layout()\n",
    "plt.axis(\"scaled\")\n",
    "plt.axis(\"off\")\n",
    "\n",
    "# plot scale bar\n",
    "plt.plot(\n",
    "    [\n",
    "        2,\n",
    "        2 + scalebar_length_pxl,\n",
    "    ],\n",
    "    [65, 65],\n",
    "    \"-\",\n",
    "    color=scalebar_color,\n",
    "    lw=10,\n",
    ")\n",
    "\n",
    "plt.savefig(\n",
    "    join(folder_save, \"rotation_timelapse-start.png\"),\n",
    "    format=\"png\",\n",
    "    bbox_inches=\"tight\",\n",
    "    dpi=300,\n",
    "    transparent=True,\n",
    ")"
   ]
  },
  {
   "cell_type": "code",
   "execution_count": null,
   "id": "65880444",
   "metadata": {},
   "outputs": [],
   "source": []
  },
  {
   "cell_type": "markdown",
   "id": "4482fc16-be41-4d79-856a-930732cb15f0",
   "metadata": {},
   "source": [
    "### Other Frames, no scale bar"
   ]
  },
  {
   "cell_type": "code",
   "execution_count": 141,
   "id": "7d85d81c-81e9-4146-b634-e261ae6b1cdc",
   "metadata": {
    "tags": []
   },
   "outputs": [],
   "source": [
    "for fname in lst_imgs:\n",
    "    raw_img_dual = imread(fname)\n",
    "    img_blue = gaussian_filter(raw_img_dual[1, :, :], 2)\n",
    "    img_red = raw_img_dual[0, :, :]\n",
    "    time_s = int(fname.split(\"merge-\")[-1].split(\".tif\")[0]) * s_per_frame\n",
    "\n",
    "    plt.figure()\n",
    "    plt.imshow(\n",
    "        img_blue,\n",
    "        cmap=cmap_blue,\n",
    "        vmin=np.percentile(img_blue.flat, 50),\n",
    "        vmax=np.percentile(img_blue.flat, 90),\n",
    "    )\n",
    "    plt.imshow(\n",
    "        img_red,\n",
    "        cmap=cmap_red,\n",
    "        vmin=np.percentile(img_red.flat, 50),\n",
    "        vmax=np.percentile(img_red.flat, 99.5),\n",
    "    )\n",
    "    plt.text(\n",
    "        0,\n",
    "        15,\n",
    "        str(round(time_s, 2)) + \" s\",\n",
    "        fontsize=80,\n",
    "        color=\"white\",\n",
    "    )\n",
    "    plt.xlim(0, img_blue.shape[0])\n",
    "    plt.ylim(0, img_blue.shape[1])\n",
    "    plt.gca().invert_yaxis()\n",
    "    plt.tight_layout()\n",
    "    plt.axis(\"scaled\")\n",
    "    plt.axis(\"off\")\n",
    "\n",
    "    plt.savefig(\n",
    "        join(folder_save, \"rotation_timelapse-\" + str(round(time_s, 2)) + \".png\"),\n",
    "        format=\"png\",\n",
    "        bbox_inches=\"tight\",\n",
    "        dpi=300,\n",
    "        transparent=True,\n",
    "    )\n",
    "    plt.close()"
   ]
  },
  {
   "cell_type": "code",
   "execution_count": null,
   "id": "6e829b12-8b72-4728-aa13-193788776bf4",
   "metadata": {},
   "outputs": [],
   "source": []
  }
 ],
 "metadata": {
  "kernelspec": {
   "display_name": "Python 3 (ipykernel)",
   "language": "python",
   "name": "python3"
  },
  "language_info": {
   "codemirror_mode": {
    "name": "ipython",
    "version": 3
   },
   "file_extension": ".py",
   "mimetype": "text/x-python",
   "name": "python",
   "nbconvert_exporter": "python",
   "pygments_lexer": "ipython3",
   "version": "3.9.16"
  }
 },
 "nbformat": 4,
 "nbformat_minor": 5
}
