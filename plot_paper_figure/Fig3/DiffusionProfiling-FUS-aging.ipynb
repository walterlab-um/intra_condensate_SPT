{
 "cells": [
  {
   "cell_type": "code",
   "execution_count": 1,
   "id": "3df85541-f0e0-4ae7-8e29-3c0b9eee29fc",
   "metadata": {
    "tags": []
   },
   "outputs": [],
   "source": [
    "import os\n",
    "import numpy as np\n",
    "import pandas as pd\n",
    "from scipy.signal import find_peaks\n",
    "from scipy.stats import sem\n",
    "import matplotlib.pyplot as plt\n",
    "import seaborn as sns\n",
    "\n",
    "sns.set(color_codes=True, style=\"white\")\n",
    "pd.options.mode.chained_assignment = None  # default='warn'\n",
    "\n",
    "# Displacement threshold for immobile molecules\n",
    "immobile_stepsize_threshold_nm = 30\n",
    "# alpha component threshold for constrained diffusion\n",
    "threshold_alpha = 0.7\n",
    "\n",
    "label_1 = \"0 h, N=\"\n",
    "label_2 = \"8 h, N=\"\n",
    "label_3 = \"24 h, N=\"\n",
    "color_1 = \"#7ca7df\"\n",
    "color_2 = \"#245696\"\n",
    "color_3 = \"#0f183d\"\n",
    "palette = [color_1, color_2, color_3]\n",
    "\n",
    "postfix = \"FUS_aging.png\"\n",
    "\n",
    "folder_save = \"/home/gmgao/Desktop/RNA-diffusion-in-FUS/paper_figure_plots/Aug24_new_Figs/DiffusionProfiling-aging\"\n",
    "fname_AIO_1 = \"../SPT_results_AIO_concat-20ms_FUS488_incondensate_4Reps.csv\"\n",
    "fname_AIO_2 = \"../SPT_results_AIO_concat-FUS488_20ms_10kframes_8h.csv\"\n",
    "fname_AIO_3 = \"../SPT_results_AIO_concat-FUS488_20ms_10kframes_24h.csv\"\n",
    "fname_saspt_1 = \"../saSPT-pooled-mobile-20ms_FUS488_incondensate_4Reps.csv\"\n",
    "fname_saspt_2 = \"../saSPT-pooled-mobile-FUS488_20ms_10kframes_8h.csv\"\n",
    "fname_saspt_3 = \"../saSPT-pooled-mobile-FUS488_20ms_10kframes_24h.csv\""
   ]
  },
  {
   "cell_type": "markdown",
   "id": "f98b124d-ca89-45dc-8a59-5961e397af45",
   "metadata": {
    "tags": []
   },
   "source": [
    "## Combine dataframes"
   ]
  },
  {
   "cell_type": "code",
   "execution_count": 2,
   "id": "acce1ad6-87dd-4f0c-b6c1-ec0f037dda90",
   "metadata": {},
   "outputs": [],
   "source": [
    "def only_load_frac_csv(path, one_in_x):\n",
    "    # Step 1: Determine total number of rows\n",
    "    total_rows = sum(1 for row in open(path))\n",
    "    \n",
    "    # Step 2: Calculate indices of rows to read (e.g., every x-th row)\n",
    "    rows_to_read = range(0, total_rows, one_in_x)\n",
    "    \n",
    "    # Step 3: Read the CSV using skiprows\n",
    "    df = pd.read_csv(path, skiprows=lambda x: x not in rows_to_read)\n",
    "\n",
    "    return df\n"
   ]
  },
  {
   "cell_type": "code",
   "execution_count": 3,
   "id": "2cc71efe",
   "metadata": {},
   "outputs": [
    {
     "name": "stdout",
     "output_type": "stream",
     "text": [
      "0 h, N= 232090\n",
      "8 h, N= 255942\n",
      "24 h, N= 274456\n"
     ]
    }
   ],
   "source": [
    "os.chdir(folder_save)\n",
    "df1 = pd.read_csv(fname_AIO_1)\n",
    "df2 = only_load_frac_csv(fname_AIO_2, 25)\n",
    "df3 = only_load_frac_csv(fname_AIO_3, 8)\n",
    "print(label_1, df1.shape[0])\n",
    "print(label_2, df2.shape[0])\n",
    "print(label_3, df3.shape[0])"
   ]
  },
  {
   "cell_type": "code",
   "execution_count": 4,
   "id": "b621d607-e282-4a5e-8591-d0bc966753a8",
   "metadata": {},
   "outputs": [
    {
     "name": "stdout",
     "output_type": "stream",
     "text": [
      "0 h, N=232,090\n",
      "8 h, N=255,942\n",
      "24 h, N=274,456\n"
     ]
    }
   ],
   "source": [
    "label_1 = label_1 + f\"{df1.shape[0]:,}\"\n",
    "label_2 = label_2 + f\"{df2.shape[0]:,}\"\n",
    "label_3 = label_3 + f\"{df3.shape[0]:,}\"\n",
    "print(label_1)\n",
    "print(label_2)\n",
    "print(label_3)"
   ]
  },
  {
   "cell_type": "code",
   "execution_count": 5,
   "id": "eb010148",
   "metadata": {},
   "outputs": [],
   "source": [
    "df1.insert(0, \"label\", np.repeat(label_1, df1.shape[0]))\n",
    "df2.insert(0, \"label\", np.repeat(label_2, df2.shape[0]))\n",
    "df3.insert(0, \"label\", np.repeat(label_3, df3.shape[0]))\n",
    "\n",
    "# Below sequence is important for the layer order\n",
    "df_AIO = pd.concat([df1, df2, df3], ignore_index=True)"
   ]
  },
  {
   "cell_type": "code",
   "execution_count": 6,
   "id": "5d4d9906-41fc-4660-ac04-bc7fd77624da",
   "metadata": {
    "tags": []
   },
   "outputs": [],
   "source": [
    "df1 = pd.read_csv(fname_saspt_1, dtype=float)\n",
    "df2 = pd.read_csv(fname_saspt_2, dtype=float)\n",
    "df3 = pd.read_csv(fname_saspt_3, dtype=float)\n",
    "\n",
    "\n",
    "def extract_log10D_density(df_current_file):\n",
    "    range_D = df_current_file[\"diff_coef\"].unique()\n",
    "    log10D_density = []\n",
    "    for log10D in range_D:\n",
    "        df_current_log10D = df_current_file[df_current_file[\"diff_coef\"] == log10D]\n",
    "        log10D_density.append(df_current_log10D[\"mean_posterior_occupation\"].sum())\n",
    "\n",
    "    df_toplot = pd.DataFrame(\n",
    "        {\"log10D\": np.log10(range_D), \"Probability\": log10D_density}, dtype=float\n",
    "    )\n",
    "\n",
    "    return df_toplot\n",
    "\n",
    "\n",
    "df_saspt_1 = extract_log10D_density(df1)\n",
    "df_saspt_2 = extract_log10D_density(df2)\n",
    "df_saspt_3 = extract_log10D_density(df3)\n",
    "\n",
    "df_saspt_1.insert(0, \"label\", np.repeat(label_1, df_saspt_1.shape[0]))\n",
    "df_saspt_2.insert(0, \"label\", np.repeat(label_2, df_saspt_2.shape[0]))\n",
    "df_saspt_3.insert(0, \"label\", np.repeat(label_3, df_saspt_3.shape[0]))\n",
    "\n",
    "# Below sequence is important for the layer order\n",
    "df_saspt = pd.concat([df_saspt_1, df_saspt_2, df_saspt_3], ignore_index=True)"
   ]
  },
  {
   "cell_type": "markdown",
   "id": "ab26b113-3b03-431c-8f44-b4c59a3a28ba",
   "metadata": {},
   "source": [
    "# Plots"
   ]
  },
  {
   "cell_type": "markdown",
   "id": "0ca7aacc-379d-42da-ab7e-4314b0b821d0",
   "metadata": {
    "tags": []
   },
   "source": [
    "### Localization error"
   ]
  },
  {
   "cell_type": "code",
   "execution_count": 7,
   "id": "32301dfc-eddc-4999-8583-1da4dadecb6d",
   "metadata": {
    "tags": []
   },
   "outputs": [
    {
     "name": "stderr",
     "output_type": "stream",
     "text": [
      "/home/gmgao/miniconda3/envs/spt/lib/python3.9/site-packages/seaborn/_oldcore.py:1498: FutureWarning: is_categorical_dtype is deprecated and will be removed in a future version. Use isinstance(dtype, CategoricalDtype) instead\n",
      "  if pd.api.types.is_categorical_dtype(vector):\n",
      "/home/gmgao/miniconda3/envs/spt/lib/python3.9/site-packages/seaborn/_oldcore.py:1498: FutureWarning: is_categorical_dtype is deprecated and will be removed in a future version. Use isinstance(dtype, CategoricalDtype) instead\n",
      "  if pd.api.types.is_categorical_dtype(vector):\n",
      "/home/gmgao/miniconda3/envs/spt/lib/python3.9/site-packages/seaborn/_oldcore.py:1498: FutureWarning: is_categorical_dtype is deprecated and will be removed in a future version. Use isinstance(dtype, CategoricalDtype) instead\n",
      "  if pd.api.types.is_categorical_dtype(vector):\n",
      "/home/gmgao/miniconda3/envs/spt/lib/python3.9/site-packages/seaborn/_oldcore.py:1498: FutureWarning: is_categorical_dtype is deprecated and will be removed in a future version. Use isinstance(dtype, CategoricalDtype) instead\n",
      "  if pd.api.types.is_categorical_dtype(vector):\n",
      "/home/gmgao/miniconda3/envs/spt/lib/python3.9/site-packages/seaborn/_oldcore.py:1119: FutureWarning: use_inf_as_na option is deprecated and will be removed in a future version. Convert inf values to NaN before operating instead.\n",
      "  with pd.option_context('mode.use_inf_as_na', True):\n"
     ]
    },
    {
     "data": {
      "image/png": "[encoded data removed]",
      "text/plain": [
       "<Figure size 400x200 with 1 Axes>"
      ]
     },
     "metadata": {},
     "output_type": "display_data"
    }
   ],
   "source": [
    "data = df_AIO[df_AIO[\"mean_stepsize_nm\"] > immobile_stepsize_threshold_nm]\n",
    "data = data[data[\"linear_fit_R2\"] > 0.7]\n",
    "# quantile = np.quantile(df_AIO[\"linear_fit_sigma\"].dropna().to_numpy(), 0.999)\n",
    "plt.figure(figsize=(4, 2))\n",
    "ax = sns.histplot(\n",
    "    data=data,\n",
    "    x=\"linear_fit_sigma\",\n",
    "    hue=\"label\",\n",
    "    palette=palette,\n",
    "    bins=30,\n",
    "    binrange=(0, 300),\n",
    "    stat=\"probability\",\n",
    "    common_norm=False,\n",
    "    lw=2,\n",
    "    element=\"step\",\n",
    ")\n",
    "# plt.axvline(immobile_stepsize_threshold_nm - 0.97, ls=\"--\", color=\"#333232\")\n",
    "# plt.axvline(immobile_stepsize_threshold_nm + 0.97, ls=\"--\", color=\"#f7b801\")\n",
    "plt.xlim(0, 300)\n",
    "\n",
    "sns.move_legend(\n",
    "    ax,\n",
    "    \"lower center\",\n",
    "    bbox_to_anchor=(0.45, 1),\n",
    "    ncol=3,\n",
    "    title=None,\n",
    "    frameon=False,\n",
    "    fontsize=18,\n",
    ")\n",
    "plt.xlabel(\"Localization Error, nm\", fontsize=18)\n",
    "plt.ylabel(\"Probability\", fontsize=18)\n",
    "plt.gca().spines[:].set_linewidth(1)\n",
    "plt.gca().tick_params(\n",
    "    axis=\"both\",\n",
    "    which=\"major\",\n",
    "    labelsize=18,\n",
    "    direction=\"in\",\n",
    "    bottom=True,\n",
    "    left=True,\n",
    "    length=5,\n",
    "    width=1,\n",
    ")\n",
    "plt.gca().set_axisbelow(False)\n",
    "plt.gca().tick_params(axis=\"both\", which=\"major\", labelsize=18)\n",
    "plt.savefig(\"1.LocError_histo_\" + postfix, format=\"png\", bbox_inches=\"tight\", dpi=300)"
   ]
  },
  {
   "cell_type": "markdown",
   "id": "cedcb26c-e155-4407-9ad7-9283bfc74e14",
   "metadata": {
    "tags": []
   },
   "source": [
    "### Mean Step Size (whether static molecule)"
   ]
  },
  {
   "cell_type": "code",
   "execution_count": 8,
   "id": "3dc9b397-cc74-4915-a3f7-d470465b5748",
   "metadata": {
    "tags": []
   },
   "outputs": [
    {
     "name": "stderr",
     "output_type": "stream",
     "text": [
      "/home/gmgao/miniconda3/envs/spt/lib/python3.9/site-packages/seaborn/_oldcore.py:1498: FutureWarning: is_categorical_dtype is deprecated and will be removed in a future version. Use isinstance(dtype, CategoricalDtype) instead\n",
      "  if pd.api.types.is_categorical_dtype(vector):\n",
      "/home/gmgao/miniconda3/envs/spt/lib/python3.9/site-packages/seaborn/_oldcore.py:1498: FutureWarning: is_categorical_dtype is deprecated and will be removed in a future version. Use isinstance(dtype, CategoricalDtype) instead\n",
      "  if pd.api.types.is_categorical_dtype(vector):\n",
      "/home/gmgao/miniconda3/envs/spt/lib/python3.9/site-packages/seaborn/_oldcore.py:1498: FutureWarning: is_categorical_dtype is deprecated and will be removed in a future version. Use isinstance(dtype, CategoricalDtype) instead\n",
      "  if pd.api.types.is_categorical_dtype(vector):\n",
      "/home/gmgao/miniconda3/envs/spt/lib/python3.9/site-packages/seaborn/_oldcore.py:1498: FutureWarning: is_categorical_dtype is deprecated and will be removed in a future version. Use isinstance(dtype, CategoricalDtype) instead\n",
      "  if pd.api.types.is_categorical_dtype(vector):\n",
      "/home/gmgao/miniconda3/envs/spt/lib/python3.9/site-packages/seaborn/_oldcore.py:1119: FutureWarning: use_inf_as_na option is deprecated and will be removed in a future version. Convert inf values to NaN before operating instead.\n",
      "  with pd.option_context('mode.use_inf_as_na', True):\n"
     ]
    },
    {
     "name": "stdout",
     "output_type": "stream",
     "text": [
      "0 h, N=232,090 172.90132422986855 0.23965517778005957\n",
      "8 h, N=255,942 243.0408617416537 0.3396142471250273\n",
      "24 h, N=274,456 250.28867255892916 0.3491060173249115\n"
     ]
    },
    {
     "data": {
      "image/png": "[encoded data removed]",
      "text/plain": [
       "<Figure size 450x300 with 1 Axes>"
      ]
     },
     "metadata": {},
     "output_type": "display_data"
    }
   ],
   "source": [
    "plt.figure(figsize=(4.5, 3))\n",
    "ax = sns.histplot(\n",
    "    data=df_AIO,\n",
    "    x=\"mean_stepsize_nm\",\n",
    "    hue=\"label\",\n",
    "    palette=palette,\n",
    "    bins=40,\n",
    "    stat=\"probability\",\n",
    "    common_norm=False,\n",
    "    binrange=(0, 600),\n",
    "    lw=2,\n",
    "    element=\"step\",\n",
    ")\n",
    "plt.xlim(0, 600)\n",
    "sns.move_legend(\n",
    "    ax,\n",
    "    \"lower center\",\n",
    "    bbox_to_anchor=(0.45, 1),\n",
    "    ncol=3,\n",
    "    title=None,\n",
    "    frameon=False,\n",
    "    fontsize=18,\n",
    ")\n",
    "# plt.axvline(immobile_stepsize_threshold_nm - 1.6, ls=\"--\", color=\"#333232\")\n",
    "# plt.axvline(immobile_stepsize_threshold_nm + 1.6, ls=\"--\", color=\"#f7b801\")\n",
    "plt.xlabel(\"Mean Step Size, nm\", fontsize=18)\n",
    "plt.ylabel(\"Probability\", fontsize=18)\n",
    "plt.gca().spines[:].set_linewidth(1)\n",
    "plt.gca().tick_params(\n",
    "    axis=\"both\",\n",
    "    which=\"major\",\n",
    "    labelsize=18,\n",
    "    direction=\"in\",\n",
    "    bottom=True,\n",
    "    left=True,\n",
    "    length=5,\n",
    "    width=1,\n",
    ")\n",
    "plt.gca().set_axisbelow(False)\n",
    "plt.gca().tick_params(axis=\"both\", which=\"major\", labelsize=18)\n",
    "plt.savefig(\n",
    "    \"2.mean_stepsize_nm_histo_\" + postfix, format=\"png\", bbox_inches=\"tight\", dpi=300\n",
    ")\n",
    "print(\n",
    "    label_1,\n",
    "    data[data[\"label\"] == label_1][\"mean_stepsize_nm\"].mean(),\n",
    "    sem(data[data[\"label\"] == label_1][\"mean_stepsize_nm\"].dropna()),\n",
    ")\n",
    "print(\n",
    "    label_2,\n",
    "    data[data[\"label\"] == label_2][\"mean_stepsize_nm\"].mean(),\n",
    "    sem(data[data[\"label\"] == label_2][\"mean_stepsize_nm\"].dropna()),\n",
    ")\n",
    "print(\n",
    "    label_3,\n",
    "    data[data[\"label\"] == label_3][\"mean_stepsize_nm\"].mean(),\n",
    "    sem(data[data[\"label\"] == label_3][\"mean_stepsize_nm\"].dropna()),\n",
    ")"
   ]
  },
  {
   "cell_type": "markdown",
   "id": "bc326ba2-4d5e-4b38-85a7-e4ce77a9bedc",
   "metadata": {
    "tags": []
   },
   "source": [
    "### alpha distribution"
   ]
  },
  {
   "cell_type": "code",
   "execution_count": 9,
   "id": "eda3ff98-618a-4a22-a0b3-00f252a957a8",
   "metadata": {},
   "outputs": [
    {
     "name": "stderr",
     "output_type": "stream",
     "text": [
      "/home/gmgao/miniconda3/envs/spt/lib/python3.9/site-packages/seaborn/_oldcore.py:1498: FutureWarning: is_categorical_dtype is deprecated and will be removed in a future version. Use isinstance(dtype, CategoricalDtype) instead\n",
      "  if pd.api.types.is_categorical_dtype(vector):\n",
      "/home/gmgao/miniconda3/envs/spt/lib/python3.9/site-packages/seaborn/_oldcore.py:1498: FutureWarning: is_categorical_dtype is deprecated and will be removed in a future version. Use isinstance(dtype, CategoricalDtype) instead\n",
      "  if pd.api.types.is_categorical_dtype(vector):\n",
      "/home/gmgao/miniconda3/envs/spt/lib/python3.9/site-packages/seaborn/_oldcore.py:1498: FutureWarning: is_categorical_dtype is deprecated and will be removed in a future version. Use isinstance(dtype, CategoricalDtype) instead\n",
      "  if pd.api.types.is_categorical_dtype(vector):\n",
      "/home/gmgao/miniconda3/envs/spt/lib/python3.9/site-packages/seaborn/_oldcore.py:1498: FutureWarning: is_categorical_dtype is deprecated and will be removed in a future version. Use isinstance(dtype, CategoricalDtype) instead\n",
      "  if pd.api.types.is_categorical_dtype(vector):\n",
      "/home/gmgao/miniconda3/envs/spt/lib/python3.9/site-packages/seaborn/_oldcore.py:1119: FutureWarning: use_inf_as_na option is deprecated and will be removed in a future version. Convert inf values to NaN before operating instead.\n",
      "  with pd.option_context('mode.use_inf_as_na', True):\n"
     ]
    },
    {
     "name": "stdout",
     "output_type": "stream",
     "text": [
      "0 h, N=232,090 130120\n",
      "8 h, N=255,942 137190\n",
      "24 h, N=274,456 134745\n",
      "0 h, N=232,090 0.8175583929409388 0.0010101392117753073\n",
      "8 h, N=255,942 0.8188121354984801 0.0010212638661281435\n",
      "24 h, N=274,456 0.8052104339185843 0.0010270456118503014\n"
     ]
    },
    {
     "data": {
      "image/png": "[encoded data removed]",
      "text/plain": [
       "<Figure size 250x300 with 1 Axes>"
      ]
     },
     "metadata": {},
     "output_type": "display_data"
    }
   ],
   "source": [
    "plt.figure(figsize=(2.5, 3))\n",
    "data = df_AIO[df_AIO[\"mean_stepsize_nm\"] > immobile_stepsize_threshold_nm]\n",
    "data = data[data[\"loglog_fit_R2\"] > 0.7]\n",
    "data = data[data[\"alpha\"] > 0]\n",
    "ax = sns.histplot(\n",
    "    data=data,\n",
    "    x=\"alpha\",\n",
    "    hue=\"label\",\n",
    "    palette=palette,\n",
    "    bins=30,\n",
    "    stat=\"probability\",\n",
    "    common_norm=False,\n",
    "    binrange=(0, 2),\n",
    "    lw=2,\n",
    "    element=\"step\",\n",
    "    legend=False,\n",
    ")\n",
    "# sns.move_legend(ax, 0, title=None, frameon=False, fontsize=18)\n",
    "# plt.axvline(threshold_alpha - 0.011, ls=\"--\", color=\"#f7b801\")\n",
    "# plt.axvline(threshold_alpha + 0.011, ls=\"--\", color=\"#87a878\")\n",
    "plt.xlim(0, 2)\n",
    "plt.ylim(0, 0.11)\n",
    "plt.xlabel(r\"$\\alpha$ Component\", fontsize=18)\n",
    "plt.ylabel(\"\")\n",
    "plt.gca().spines[:].set_linewidth(1)\n",
    "plt.gca().tick_params(\n",
    "    axis=\"both\",\n",
    "    which=\"major\",\n",
    "    labelsize=18,\n",
    "    direction=\"in\",\n",
    "    bottom=True,\n",
    "    left=True,\n",
    "    length=5,\n",
    "    width=1,\n",
    ")\n",
    "plt.gca().set_axisbelow(False)\n",
    "plt.gca().tick_params(axis=\"both\", which=\"major\", labelsize=18)\n",
    "plt.savefig(\"3.alpha_histo_\" + postfix, format=\"png\", bbox_inches=\"tight\", dpi=300)\n",
    "\n",
    "print(label_1, data[data[\"label\"] == label_1].shape[0])\n",
    "print(label_2, data[data[\"label\"] == label_2].shape[0])\n",
    "print(label_3, data[data[\"label\"] == label_3].shape[0])\n",
    "print(\n",
    "    label_1,\n",
    "    data[data[\"label\"] == label_1][\"alpha\"].mean(),\n",
    "    sem(data[data[\"label\"] == label_1][\"alpha\"].dropna()),\n",
    ")\n",
    "print(\n",
    "    label_2,\n",
    "    data[data[\"label\"] == label_2][\"alpha\"].mean(),\n",
    "    sem(data[data[\"label\"] == label_2][\"alpha\"].dropna()),\n",
    ")\n",
    "print(\n",
    "    label_3,\n",
    "    data[data[\"label\"] == label_3][\"alpha\"].mean(),\n",
    "    sem(data[data[\"label\"] == label_3][\"alpha\"].dropna()),\n",
    ")"
   ]
  },
  {
   "cell_type": "markdown",
   "id": "6ad4ef8b-f6f3-4f3f-afb4-f7d4dc495a1e",
   "metadata": {
    "tags": []
   },
   "source": [
    "### Angle Distribution"
   ]
  },
  {
   "cell_type": "code",
   "execution_count": 10,
   "id": "09c0cdd1",
   "metadata": {},
   "outputs": [],
   "source": [
    "lst_angle = []\n",
    "lst_label = []\n",
    "for _, row in df_AIO[df_AIO[\"mean_stepsize_nm\"] > immobile_stepsize_threshold_nm].iterrows():\n",
    "    angles = np.fromstring(\n",
    "        row[\"list_of_angles\"][1:-1],\n",
    "        dtype=float,\n",
    "        sep=\", \",\n",
    "    )\n",
    "    labels = np.repeat(row[\"label\"], angles.shape[0])\n",
    "    lst_angle.extend(angles)\n",
    "    lst_label.extend(labels)\n",
    "\n",
    "data = pd.DataFrame(\n",
    "    {\n",
    "        \"angle\": np.abs(lst_angle),\n",
    "        \"label\": lst_label,\n",
    "    },\n",
    "    dtype=object,\n",
    ")"
   ]
  },
  {
   "cell_type": "code",
   "execution_count": 11,
   "id": "3cfda476-905f-4212-84d3-39164fc2ac26",
   "metadata": {
    "tags": []
   },
   "outputs": [
    {
     "name": "stderr",
     "output_type": "stream",
     "text": [
      "/home/gmgao/miniconda3/envs/spt/lib/python3.9/site-packages/seaborn/_oldcore.py:1498: FutureWarning: is_categorical_dtype is deprecated and will be removed in a future version. Use isinstance(dtype, CategoricalDtype) instead\n",
      "  if pd.api.types.is_categorical_dtype(vector):\n",
      "/home/gmgao/miniconda3/envs/spt/lib/python3.9/site-packages/seaborn/_oldcore.py:1498: FutureWarning: is_categorical_dtype is deprecated and will be removed in a future version. Use isinstance(dtype, CategoricalDtype) instead\n",
      "  if pd.api.types.is_categorical_dtype(vector):\n",
      "/home/gmgao/miniconda3/envs/spt/lib/python3.9/site-packages/seaborn/_oldcore.py:1498: FutureWarning: is_categorical_dtype is deprecated and will be removed in a future version. Use isinstance(dtype, CategoricalDtype) instead\n",
      "  if pd.api.types.is_categorical_dtype(vector):\n",
      "/home/gmgao/miniconda3/envs/spt/lib/python3.9/site-packages/seaborn/_oldcore.py:1498: FutureWarning: is_categorical_dtype is deprecated and will be removed in a future version. Use isinstance(dtype, CategoricalDtype) instead\n",
      "  if pd.api.types.is_categorical_dtype(vector):\n",
      "/home/gmgao/miniconda3/envs/spt/lib/python3.9/site-packages/seaborn/_oldcore.py:1119: FutureWarning: use_inf_as_na option is deprecated and will be removed in a future version. Convert inf values to NaN before operating instead.\n",
      "  with pd.option_context('mode.use_inf_as_na', True):\n"
     ]
    },
    {
     "name": "stdout",
     "output_type": "stream",
     "text": [
      "0 h, N=232,090 105.425755724358 0.04298042404224705\n",
      "8 h, N=255,942 119.30392057277734 0.03575107025638086\n",
      "24 h, N=274,456 119.31287389318967 0.03567583612195322\n"
     ]
    },
    {
     "data": {
      "image/png": "[encoded data removed]",
      "text/plain": [
       "<Figure size 250x310 with 1 Axes>"
      ]
     },
     "metadata": {},
     "output_type": "display_data"
    }
   ],
   "source": [
    "plt.figure(figsize=(2.5, 3.1))\n",
    "bins = 30\n",
    "sns.histplot(\n",
    "    data=data,\n",
    "    x=\"angle\",\n",
    "    hue=\"label\",\n",
    "    palette=palette,\n",
    "    bins=bins,\n",
    "    stat=\"probability\",\n",
    "    common_norm=False,\n",
    "    binrange=(0, 180),\n",
    "    lw=2,\n",
    "    element=\"step\",\n",
    "    legend=False,\n",
    ")\n",
    "# sns.move_legend(ax, 0, title=None, frameon=False, fontsize=18)\n",
    "# plt.axhline(1 / bins - 0.0004, color=\"#87a878\", ls=\"--\")\n",
    "# plt.axhline(1 / bins + 0.0004, color=\"#f7b801\", ls=\"--\")\n",
    "plt.xlim(0, 180)\n",
    "plt.xticks([0, 90, 180])\n",
    "plt.ylim(0, 0.15)\n",
    "# plt.yticks([0, 0.03, 0.06])\n",
    "plt.xlabel(\"Angle, $^\\circ$\", fontsize=18)\n",
    "plt.ylabel(\"\")\n",
    "plt.gca().spines[:].set_linewidth(1)\n",
    "plt.gca().tick_params(\n",
    "    axis=\"both\",\n",
    "    which=\"major\",\n",
    "    labelsize=18,\n",
    "    direction=\"in\",\n",
    "    bottom=True,\n",
    "    left=True,\n",
    "    length=5,\n",
    "    width=1,\n",
    ")\n",
    "plt.gca().set_axisbelow(False)\n",
    "plt.gca().tick_params(axis=\"both\", which=\"major\", labelsize=18)\n",
    "plt.savefig(\"4.angle_histo_\" + postfix, format=\"png\", bbox_inches=\"tight\", dpi=300)\n",
    "print(\n",
    "    label_1,\n",
    "    data[data[\"label\"] == label_1][\"angle\"].mean(),\n",
    "    sem(data[data[\"label\"] == label_1][\"angle\"].dropna()),\n",
    ")\n",
    "print(\n",
    "    label_2,\n",
    "    data[data[\"label\"] == label_2][\"angle\"].mean(),\n",
    "    sem(data[data[\"label\"] == label_2][\"angle\"].dropna()),\n",
    ")\n",
    "print(\n",
    "    label_3,\n",
    "    data[data[\"label\"] == label_3][\"angle\"].mean(),\n",
    "    sem(data[data[\"label\"] == label_3][\"angle\"].dropna()),\n",
    ")"
   ]
  },
  {
   "cell_type": "markdown",
   "id": "ddbebb84-cc8a-4a49-8c23-c5397737065b",
   "metadata": {
    "tags": []
   },
   "source": [
    "### D distribution among the non contrained molecules"
   ]
  },
  {
   "cell_type": "code",
   "execution_count": 12,
   "id": "4545771a-0b70-4178-9889-3c1c5fa1be1b",
   "metadata": {
    "tags": []
   },
   "outputs": [
    {
     "name": "stderr",
     "output_type": "stream",
     "text": [
      "/home/gmgao/miniconda3/envs/spt/lib/python3.9/site-packages/seaborn/_oldcore.py:1498: FutureWarning: is_categorical_dtype is deprecated and will be removed in a future version. Use isinstance(dtype, CategoricalDtype) instead\n",
      "  if pd.api.types.is_categorical_dtype(vector):\n",
      "/home/gmgao/miniconda3/envs/spt/lib/python3.9/site-packages/seaborn/_oldcore.py:1498: FutureWarning: is_categorical_dtype is deprecated and will be removed in a future version. Use isinstance(dtype, CategoricalDtype) instead\n",
      "  if pd.api.types.is_categorical_dtype(vector):\n",
      "/home/gmgao/miniconda3/envs/spt/lib/python3.9/site-packages/seaborn/_oldcore.py:1498: FutureWarning: is_categorical_dtype is deprecated and will be removed in a future version. Use isinstance(dtype, CategoricalDtype) instead\n",
      "  if pd.api.types.is_categorical_dtype(vector):\n",
      "/home/gmgao/miniconda3/envs/spt/lib/python3.9/site-packages/seaborn/_oldcore.py:1498: FutureWarning: is_categorical_dtype is deprecated and will be removed in a future version. Use isinstance(dtype, CategoricalDtype) instead\n",
      "  if pd.api.types.is_categorical_dtype(vector):\n",
      "/home/gmgao/miniconda3/envs/spt/lib/python3.9/site-packages/seaborn/_oldcore.py:1119: FutureWarning: use_inf_as_na option is deprecated and will be removed in a future version. Convert inf values to NaN before operating instead.\n",
      "  with pd.option_context('mode.use_inf_as_na', True):\n"
     ]
    },
    {
     "name": "stdout",
     "output_type": "stream",
     "text": [
      "0 h, N=232,090 101215\n",
      "8 h, N=255,942 103092\n",
      "24 h, N=274,456 100579\n"
     ]
    },
    {
     "data": {
      "image/png": "[encoded data removed]",
      "text/plain": [
       "<Figure size 400x200 with 1 Axes>"
      ]
     },
     "metadata": {},
     "output_type": "display_data"
    }
   ],
   "source": [
    "data = df_AIO[df_AIO[\"linear_fit_R2\"] > 0.7]\n",
    "data = data[data[\"mean_stepsize_nm\"] > immobile_stepsize_threshold_nm]\n",
    "data = data[data[\"alpha\"] > 0.5]\n",
    "plt.figure(figsize=(4, 2))\n",
    "ax = sns.histplot(\n",
    "    data=data,\n",
    "    x=\"linear_fit_log10D\",\n",
    "    hue=\"label\",\n",
    "    palette=palette,\n",
    "    bins=40,\n",
    "    stat=\"probability\",\n",
    "    common_norm=False,\n",
    "    binrange=(-2.5, 2),\n",
    "    lw=2,\n",
    "    element=\"step\",\n",
    ")\n",
    "sns.move_legend(\n",
    "    ax,\n",
    "    \"lower center\",\n",
    "    bbox_to_anchor=(0.45, 1),\n",
    "    ncol=3,\n",
    "    title=None,\n",
    "    frameon=False,\n",
    "    fontsize=18,\n",
    ")\n",
    "\n",
    "plt.xlim(-2.5, 2)\n",
    "plt.xticks([-2, -1, 0, 1, 2])\n",
    "plt.xlabel(r\"log$_{10}$D$_{app}$, $\\mu$m$^2$/s\", fontsize=18)\n",
    "plt.ylabel(\"Probability\", fontsize=18)\n",
    "plt.gca().spines[:].set_linewidth(1)\n",
    "plt.gca().tick_params(\n",
    "    axis=\"both\",\n",
    "    which=\"major\",\n",
    "    labelsize=18,\n",
    "    direction=\"in\",\n",
    "    bottom=True,\n",
    "    left=True,\n",
    "    length=5,\n",
    "    width=1,\n",
    ")\n",
    "plt.gca().set_axisbelow(False)\n",
    "plt.gca().tick_params(axis=\"both\", which=\"major\", labelsize=18)\n",
    "plt.savefig(\n",
    "    \"5.ApparentD_linear_histo_\" + postfix, format=\"png\", bbox_inches=\"tight\", dpi=300\n",
    ")\n",
    "\n",
    "print(label_1, data[data[\"label\"] == label_1].shape[0])\n",
    "print(label_2, data[data[\"label\"] == label_2].shape[0])\n",
    "print(label_3, data[data[\"label\"] == label_3].shape[0])"
   ]
  },
  {
   "cell_type": "markdown",
   "id": "6227460c-da19-457f-968f-805f59435b0b",
   "metadata": {
    "tags": []
   },
   "source": [
    "### Plot saSPT"
   ]
  },
  {
   "cell_type": "code",
   "execution_count": 13,
   "id": "70cb9959-dc7c-470f-84bf-377b5ec71470",
   "metadata": {
    "tags": []
   },
   "outputs": [
    {
     "name": "stderr",
     "output_type": "stream",
     "text": [
      "/home/gmgao/miniconda3/envs/spt/lib/python3.9/site-packages/seaborn/_oldcore.py:1498: FutureWarning: is_categorical_dtype is deprecated and will be removed in a future version. Use isinstance(dtype, CategoricalDtype) instead\n",
      "  if pd.api.types.is_categorical_dtype(vector):\n",
      "/home/gmgao/miniconda3/envs/spt/lib/python3.9/site-packages/seaborn/_oldcore.py:1498: FutureWarning: is_categorical_dtype is deprecated and will be removed in a future version. Use isinstance(dtype, CategoricalDtype) instead\n",
      "  if pd.api.types.is_categorical_dtype(vector):\n",
      "/home/gmgao/miniconda3/envs/spt/lib/python3.9/site-packages/seaborn/_oldcore.py:1498: FutureWarning: is_categorical_dtype is deprecated and will be removed in a future version. Use isinstance(dtype, CategoricalDtype) instead\n",
      "  if pd.api.types.is_categorical_dtype(vector):\n",
      "/home/gmgao/miniconda3/envs/spt/lib/python3.9/site-packages/seaborn/_oldcore.py:1498: FutureWarning: is_categorical_dtype is deprecated and will be removed in a future version. Use isinstance(dtype, CategoricalDtype) instead\n",
      "  if pd.api.types.is_categorical_dtype(vector):\n",
      "/home/gmgao/miniconda3/envs/spt/lib/python3.9/site-packages/seaborn/_oldcore.py:1498: FutureWarning: is_categorical_dtype is deprecated and will be removed in a future version. Use isinstance(dtype, CategoricalDtype) instead\n",
      "  if pd.api.types.is_categorical_dtype(vector):\n",
      "/home/gmgao/miniconda3/envs/spt/lib/python3.9/site-packages/seaborn/_oldcore.py:1119: FutureWarning: use_inf_as_na option is deprecated and will be removed in a future version. Convert inf values to NaN before operating instead.\n",
      "  with pd.option_context('mode.use_inf_as_na', True):\n",
      "/home/gmgao/miniconda3/envs/spt/lib/python3.9/site-packages/seaborn/_oldcore.py:1119: FutureWarning: use_inf_as_na option is deprecated and will be removed in a future version. Convert inf values to NaN before operating instead.\n",
      "  with pd.option_context('mode.use_inf_as_na', True):\n"
     ]
    },
    {
     "data": {
      "image/png": "[encoded data removed]",
      "text/plain": [
       "<Figure size 250x300 with 1 Axes>"
      ]
     },
     "metadata": {},
     "output_type": "display_data"
    }
   ],
   "source": [
    "plt.figure(figsize=(2.5, 3))\n",
    "ax = sns.lineplot(\n",
    "    data=df_saspt,\n",
    "    x=\"log10D\",\n",
    "    y=\"Probability\",\n",
    "    hue=\"label\",\n",
    "    palette=palette,\n",
    "    lw=3,\n",
    "    legend=False,\n",
    ")\n",
    "log10D = df_saspt[\"log10D\"].to_numpy(dtype=float)\n",
    "plt.xlim(-2, 1)\n",
    "plt.xticks([-2, -1, 0, 1])\n",
    "plt.ylim(0, 0.11)\n",
    "plt.yticks([0, 0.1])\n",
    "plt.xlabel(r\"log$_{10}$D$_{app}$, $\\mu$m$^2$/s\", fontsize=18)\n",
    "plt.ylabel(\"SA Occupation\", fontsize=18)\n",
    "plt.gca().spines[:].set_linewidth(1)\n",
    "plt.gca().tick_params(\n",
    "    axis=\"both\",\n",
    "    which=\"major\",\n",
    "    labelsize=18,\n",
    "    direction=\"in\",\n",
    "    bottom=True,\n",
    "    left=True,\n",
    "    length=5,\n",
    "    width=1,\n",
    ")\n",
    "plt.gca().set_axisbelow(False)\n",
    "plt.gca().tick_params(axis=\"both\", which=\"major\", labelsize=18)\n",
    "plt.savefig(\"6.saspt_histo_\" + postfix, format=\"png\", bbox_inches=\"tight\", dpi=300)"
   ]
  },
  {
   "cell_type": "code",
   "execution_count": 14,
   "id": "21988092",
   "metadata": {},
   "outputs": [
    {
     "name": "stdout",
     "output_type": "stream",
     "text": [
      "0 h, N=232,090 1.0476157527896652\n",
      "8 h, N=255,942 0.7564633275546291\n",
      "24 h, N=274,456 0.8697490026177834\n"
     ]
    }
   ],
   "source": [
    "from scipy.signal import find_peaks\n",
    "\n",
    "\n",
    "def find_major_peak(x, y):\n",
    "  \"\"\"\n",
    "  Finds the x value corresponding to the major peak (highest value) in the y data.\n",
    "\n",
    "  Args:\n",
    "      x: A 1D NumPy array representing the x-axis values.\n",
    "      y: A 1D NumPy array representing the y-axis values (curve).\n",
    "\n",
    "  Returns:\n",
    "      A tuple containing the x value and the corresponding y value of the major peak, \n",
    "      or None if no peak is found.\n",
    "  \"\"\"\n",
    "  peaks, _ = find_peaks(y)\n",
    "  # If no peaks are found, return None\n",
    "  if len(peaks) == 0:\n",
    "    return None\n",
    "\n",
    "  # Find the index of the major peak (highest value in y)\n",
    "  major_peak_index = peaks[np.argmax(y[peaks])]\n",
    "  major_peak_x = x[major_peak_index]\n",
    "  major_peak_y = y[major_peak_index]\n",
    "\n",
    "  return major_peak_x, major_peak_y\n",
    "\n",
    "\n",
    "major_peak_x, major_peak_y = find_major_peak(\n",
    "    df_saspt[df_saspt[\"label\"] == label_1][\"log10D\"].to_numpy(float),\n",
    "    df_saspt[df_saspt[\"label\"] == label_1][\"Probability\"].to_numpy(float),\n",
    ")\n",
    "print(label_1, 10**major_peak_x)\n",
    "major_peak_x, major_peak_y = find_major_peak(\n",
    "    df_saspt[df_saspt[\"label\"] == label_2][\"log10D\"].to_numpy(float),\n",
    "    df_saspt[df_saspt[\"label\"] == label_2][\"Probability\"].to_numpy(float),\n",
    ")\n",
    "print(label_2, 10**major_peak_x)\n",
    "major_peak_x, major_peak_y = find_major_peak(\n",
    "    df_saspt[df_saspt[\"label\"] == label_3][\"log10D\"].to_numpy(float),\n",
    "    df_saspt[df_saspt[\"label\"] == label_3][\"Probability\"].to_numpy(float),\n",
    ")\n",
    "print(label_3, 10**major_peak_x)"
   ]
  },
  {
   "cell_type": "markdown",
   "id": "255a4b50-faea-436e-b473-a5f30b54eb11",
   "metadata": {
    "tags": []
   },
   "source": [
    "### Stacked bar plot of fractions"
   ]
  },
  {
   "cell_type": "markdown",
   "id": "df0eaee3-6c47-412d-a88c-afe04e8896c8",
   "metadata": {},
   "source": [
    "#### Prepare plot df, calculate p vals"
   ]
  },
  {
   "cell_type": "code",
   "execution_count": 15,
   "id": "4063f09b-1ca0-4761-862f-35d838733371",
   "metadata": {
    "tags": []
   },
   "outputs": [],
   "source": [
    "# Output file structure\n",
    "labels = [label_1, label_2, label_3]\n",
    "columns = [\n",
    "    \"label\",\n",
    "    \"replicate_prefix\",\n",
    "    \"N, Total\",\n",
    "    \"N, Mobile\",\n",
    "    \"N, Constrained\",\n",
    "    \"Static Fraction\",\n",
    "    \"Constrained Fraction\",\n",
    "]\n",
    "lst_rows_of_df = []\n",
    "fnames = [fname_AIO_1, fname_AIO_2, fname_AIO_3]\n",
    "\n",
    "for i in range(3):\n",
    "    df_current = pd.read_csv(fnames[i])\n",
    "    df_current = df_current.astype(\n",
    "        {\"linear_fit_log10D\": float, \"mean_stepsize_nm\": float, \"alpha\": float}\n",
    "    )\n",
    "    # all filenames within the current condition/file\n",
    "    all_filenames = df_current[\"filename\"].unique().tolist()\n",
    "    # filename prefix for each replicate\n",
    "    replicate_prefixs = np.unique([f.split(\"FOV\")[0] for f in all_filenames])\n",
    "\n",
    "    for prefix in replicate_prefixs:\n",
    "        current_replicate_filenames = [f for f in all_filenames if prefix in f]\n",
    "        df_current_replicate = df_current[\n",
    "            df_current[\"filename\"].isin(current_replicate_filenames)\n",
    "        ]\n",
    "\n",
    "        # Judege if immobile by mean step size\n",
    "        df_mobile = df_current_replicate[\n",
    "            df_current_replicate[\"mean_stepsize_nm\"] >= immobile_stepsize_threshold_nm\n",
    "        ]\n",
    "\n",
    "        # Judge if constrained by alpha component\n",
    "        df_constrained = df_mobile[df_mobile[\"alpha\"] <= threshold_alpha]\n",
    "\n",
    "        N_total = df_current_replicate.shape[0]\n",
    "        N_mobile = df_mobile.shape[0]\n",
    "        N_constrained = df_constrained.shape[0]\n",
    "\n",
    "        if N_constrained < 1:\n",
    "            continue\n",
    "\n",
    "        F_immobile = (N_total - N_mobile) / N_total\n",
    "        F_constrained = N_constrained / N_mobile\n",
    "\n",
    "        # save\n",
    "        lst_rows_of_df.append(\n",
    "            [\n",
    "                labels[i],\n",
    "                prefix,\n",
    "                N_total,\n",
    "                N_mobile,\n",
    "                N_constrained,\n",
    "                F_immobile,\n",
    "                F_constrained,\n",
    "            ]\n",
    "        )\n",
    "\n",
    "data = pd.DataFrame.from_records(\n",
    "    lst_rows_of_df,\n",
    "    columns=columns,\n",
    ")"
   ]
  },
  {
   "cell_type": "code",
   "execution_count": 16,
   "id": "2a2cbb42-e9b0-4afb-aa99-b541817c11f0",
   "metadata": {},
   "outputs": [],
   "source": [
    "N_total = data[\"N, Total\"].to_numpy(int)\n",
    "N_mobile = data[\"N, Mobile\"].to_numpy(int)\n",
    "N_immobile = N_total - N_mobile\n",
    "N_constrained = data[\"N, Constrained\"].to_numpy(int)\n",
    "N_normal = N_mobile - N_constrained\n",
    "\n",
    "frac_immobile = N_immobile / N_total\n",
    "frac_constrained = N_constrained / N_total\n",
    "frac_normal = N_normal / N_total\n",
    "\n",
    "data[\"Immobile\"] = frac_immobile\n",
    "data[\"Constrained\"] = frac_constrained\n",
    "data[\"Normal\"] = frac_normal\n",
    "\n",
    "df_mean_error = pd.DataFrame(\n",
    "    {\n",
    "        \"label\": data[\"label\"].unique(),\n",
    "        \"F_immobile_mean\": [\n",
    "            data[data[\"label\"] == label][\"Immobile\"].mean()\n",
    "            for label in data[\"label\"].unique()\n",
    "        ],\n",
    "        \"F_immobile_sem\": [\n",
    "            data[data[\"label\"] == label][\"Immobile\"].sem()\n",
    "            for label in data[\"label\"].unique()\n",
    "        ],\n",
    "        \"F_immobile_std\": [\n",
    "            data[data[\"label\"] == label][\"Immobile\"].std()\n",
    "            for label in data[\"label\"].unique()\n",
    "        ],\n",
    "        \"F_constrained_mean\": [\n",
    "            data[data[\"label\"] == label][\"Constrained\"].mean()\n",
    "            for label in data[\"label\"].unique()\n",
    "        ],\n",
    "        \"F_constrained_sem\": [\n",
    "            data[data[\"label\"] == label][\"Constrained\"].sem()\n",
    "            for label in data[\"label\"].unique()\n",
    "        ],\n",
    "        \"F_constrained_std\": [\n",
    "            data[data[\"label\"] == label][\"Constrained\"].std()\n",
    "            for label in data[\"label\"].unique()\n",
    "        ],\n",
    "        \"F_normal_mean\": [\n",
    "            data[data[\"label\"] == label][\"Normal\"].mean()\n",
    "            for label in data[\"label\"].unique()\n",
    "        ],\n",
    "        \"F_normal_sem\": [\n",
    "            data[data[\"label\"] == label][\"Normal\"].sem()\n",
    "            for label in data[\"label\"].unique()\n",
    "        ],\n",
    "        \"F_normal_std\": [\n",
    "            data[data[\"label\"] == label][\"Normal\"].std()\n",
    "            for label in data[\"label\"].unique()\n",
    "        ],\n",
    "        \"nobs\": [\n",
    "            data[data[\"label\"] == label].shape[0]\n",
    "            for label in data[\"label\"].unique()\n",
    "        ],  # number of observations\n",
    "    },\n",
    "    dtype=object,\n",
    ")"
   ]
  },
  {
   "cell_type": "code",
   "execution_count": 17,
   "id": "913994d4",
   "metadata": {},
   "outputs": [],
   "source": [
    "from scipy.stats import ttest_ind_from_stats\n",
    "\n",
    "def p_annot(p):\n",
    "    \"\"\"\n",
    "    p-value annotation legend:\n",
    "    ns: 0.05 < p <= 1\n",
    "    *: 0.01 < p <= 0.05\n",
    "    **: 0.001 < p <= 0.01\n",
    "    ***: 0.0001 < p <= 0.001\n",
    "    ****: p <= 0.0001\n",
    "    \"\"\"\n",
    "    if p > 0.05:\n",
    "        return \"ns\"\n",
    "    elif p > 0.01:\n",
    "        return \"*\"\n",
    "    elif p > 0.001:\n",
    "        return \"**\"\n",
    "    elif p > 0.0001:\n",
    "        return \"***\"\n",
    "    else:\n",
    "        return \"****\"\n",
    "\n",
    "\n",
    "def compare2labels(label1, label2):\n",
    "    print(\"(\", label1, \") vs (\", label2, \"):\")\n",
    "    _, pval = ttest_ind_from_stats(\n",
    "        mean1=df_mean_error[df_mean_error[\"label\"] == label1][\n",
    "            \"F_normal_mean\"\n",
    "        ].squeeze(),\n",
    "        std1=df_mean_error[df_mean_error[\"label\"] == label1][\"F_normal_std\"].squeeze(),\n",
    "        nobs1=df_mean_error[df_mean_error[\"label\"] == label1][\"nobs\"].squeeze(),\n",
    "        mean2=df_mean_error[df_mean_error[\"label\"] == label2][\n",
    "            \"F_normal_mean\"\n",
    "        ].squeeze(),\n",
    "        std2=df_mean_error[df_mean_error[\"label\"] == label2][\"F_normal_std\"].squeeze(),\n",
    "        nobs2=df_mean_error[df_mean_error[\"label\"] == label2][\"nobs\"].squeeze(),\n",
    "        equal_var=False,\n",
    "        alternative=\"two-sided\",\n",
    "    )\n",
    "    print(\"p value of normal fraction:\", pval, p_annot(pval))\n",
    "    _, pval = ttest_ind_from_stats(\n",
    "        mean1=df_mean_error[df_mean_error[\"label\"] == label1][\n",
    "            \"F_constrained_mean\"\n",
    "        ].squeeze(),\n",
    "        std1=df_mean_error[df_mean_error[\"label\"] == label1][\n",
    "            \"F_constrained_std\"\n",
    "        ].squeeze(),\n",
    "        nobs1=df_mean_error[df_mean_error[\"label\"] == label1][\"nobs\"].squeeze(),\n",
    "        mean2=df_mean_error[df_mean_error[\"label\"] == label2][\n",
    "            \"F_constrained_mean\"\n",
    "        ].squeeze(),\n",
    "        std2=df_mean_error[df_mean_error[\"label\"] == label2][\n",
    "            \"F_constrained_std\"\n",
    "        ].squeeze(),\n",
    "        nobs2=df_mean_error[df_mean_error[\"label\"] == label2][\"nobs\"].squeeze(),\n",
    "        equal_var=False,\n",
    "        alternative=\"two-sided\",\n",
    "    )\n",
    "    print(\"p value of constrained fraction:\", pval, p_annot(pval))\n",
    "    _, pval = ttest_ind_from_stats(\n",
    "        mean1=df_mean_error[df_mean_error[\"label\"] == label1][\n",
    "            \"F_immobile_mean\"\n",
    "        ].squeeze(),\n",
    "        std1=df_mean_error[df_mean_error[\"label\"] == label1][\n",
    "            \"F_immobile_std\"\n",
    "        ].squeeze(),\n",
    "        nobs1=df_mean_error[df_mean_error[\"label\"] == label1][\"nobs\"].squeeze(),\n",
    "        mean2=df_mean_error[df_mean_error[\"label\"] == label2][\n",
    "            \"F_immobile_mean\"\n",
    "        ].squeeze(),\n",
    "        std2=df_mean_error[df_mean_error[\"label\"] == label2][\n",
    "            \"F_immobile_std\"\n",
    "        ].squeeze(),\n",
    "        nobs2=df_mean_error[df_mean_error[\"label\"] == label2][\"nobs\"].squeeze(),\n",
    "        equal_var=False,\n",
    "        alternative=\"two-sided\",\n",
    "    )\n",
    "    print(\"p value of immobile fraction:\", pval, p_annot(pval))"
   ]
  },
  {
   "cell_type": "code",
   "execution_count": 18,
   "id": "8aebec3a",
   "metadata": {},
   "outputs": [
    {
     "name": "stdout",
     "output_type": "stream",
     "text": [
      "( 0 h, N=232,090 ) vs ( 8 h, N=255,942 ):\n",
      "p value of normal fraction: 0.2508754830171227 ns\n",
      "p value of constrained fraction: 0.2843691786305118 ns\n",
      "p value of immobile fraction: 0.632514874263087 ns\n",
      "( 0 h, N=232,090 ) vs ( 24 h, N=274,456 ):\n",
      "p value of normal fraction: 0.006197341760515939 **\n",
      "p value of constrained fraction: 0.006938133530119441 **\n",
      "p value of immobile fraction: 0.20123599792363228 ns\n",
      "( 8 h, N=255,942 ) vs ( 24 h, N=274,456 ):\n",
      "p value of normal fraction: 0.1438417792062234 ns\n",
      "p value of constrained fraction: 0.1448140586523569 ns\n",
      "p value of immobile fraction: 0.23019367988397949 ns\n"
     ]
    }
   ],
   "source": [
    "compare2labels(labels[0], labels[1])\n",
    "compare2labels(labels[0], labels[2])\n",
    "compare2labels(labels[1], labels[2])"
   ]
  },
  {
   "cell_type": "code",
   "execution_count": null,
   "id": "1b5ebfa5",
   "metadata": {},
   "outputs": [],
   "source": []
  },
  {
   "cell_type": "code",
   "execution_count": null,
   "id": "7641a57d",
   "metadata": {},
   "outputs": [],
   "source": []
  },
  {
   "cell_type": "markdown",
   "id": "80968e0d-937e-455d-9da2-ff3fbb72447a",
   "metadata": {
    "tags": []
   },
   "source": [
    "#### Plot"
   ]
  },
  {
   "cell_type": "code",
   "execution_count": 19,
   "id": "abd89ac5",
   "metadata": {},
   "outputs": [
    {
     "name": "stdout",
     "output_type": "stream",
     "text": [
      "F_immobile_mean :\n",
      "label: ['0 h, N=232,090', '8 h, N=255,942', '24 h, N=274,456']\n",
      "fraction: [0.1654415316466639 0.22115056825360604 0.07207837021062376]\n",
      "SEM: [0.06289317739956925 0.08787955570770518 0.012668368547856464]\n",
      "\n",
      "F_constrained_mean :\n",
      "label: ['0 h, N=232,090', '8 h, N=255,942', '24 h, N=274,456']\n",
      "fraction: [66.7929567190868 68.8437841455423 71.6723985616694]\n",
      "SEM: [1.1463369971968769 1.2790661346793681 0.5388410175768336]\n",
      "\n",
      "F_normal_mean :\n",
      "label: ['0 h, N=232,090', '8 h, N=255,942', '24 h, N=274,456']\n",
      "fraction: [33.041601749266526 30.935065286204093 28.255523068119988]\n",
      "SEM: [1.096952871624445 1.208395664410529 0.5263662077477731]\n",
      "\n"
     ]
    },
    {
     "data": {
      "image/png": "[encoded data removed]",
      "text/plain": [
       "<Figure size 380x400 with 1 Axes>"
      ]
     },
     "metadata": {},
     "output_type": "display_data"
    }
   ],
   "source": [
    "fig = plt.figure(figsize=(3.8, 4))\n",
    "x = [1, 2, 3]\n",
    "colors = [\n",
    "    \"#333232\",\n",
    "    \"#f7b801\",\n",
    "    \"#87a878\",\n",
    "]\n",
    "\n",
    "df_fractions = df_mean_error[df_mean_error[\"label\"].isin(labels)]\n",
    "bottom = np.zeros(len(x))\n",
    "categories = [\"F_immobile_mean\", \"F_constrained_mean\", \"F_normal_mean\"]\n",
    "for i in range(len(categories)):\n",
    "    plt.bar(\n",
    "        x=x,\n",
    "        height=df_fractions[categories[i]],\n",
    "        yerr=df_fractions[categories[i][:-4] + \"sem\"],\n",
    "        error_kw={\"elinewidth\": 1},\n",
    "        capsize=3,\n",
    "        label=labels,\n",
    "        bottom=bottom,\n",
    "        color=colors[i],\n",
    "    )\n",
    "    print(categories[i], \":\")\n",
    "    print(\"label:\", labels)\n",
    "    print(\"fraction:\", df_fractions[categories[i]].to_numpy() * 100)\n",
    "    print(\"SEM:\", df_fractions[categories[i][:-4] + \"sem\"].to_numpy() * 100)\n",
    "    print()\n",
    "    bottom += df_fractions[categories[i]]\n",
    "plt.ylim(0, 1.08)\n",
    "plt.ylabel(\"Fraction\", size=30)\n",
    "plt.xticks([])\n",
    "plt.yticks([0, 0.5, 1])\n",
    "plt.gca().spines[:].set_linewidth(3)\n",
    "plt.gca().spines[[\"right\", \"top\", \"bottom\"]].set_visible(False)\n",
    "plt.gca().tick_params(\n",
    "    axis=\"y\",\n",
    "    which=\"major\",\n",
    "    labelsize=30,\n",
    "    direction=\"in\",\n",
    "    bottom=True,\n",
    "    left=True,\n",
    "    length=5,\n",
    "    width=3,\n",
    ")\n",
    "canvas_width = 0.5\n",
    "plt.xlim(1 - canvas_width, 3 + canvas_width)\n",
    "plt.xlabel(\"\")\n",
    "plt.tight_layout()\n",
    "plt.savefig(\n",
    "    \"Fracs_compare.png\",\n",
    "    format=\"png\",\n",
    "    bbox_inches=\"tight\",\n",
    "    dpi=300,\n",
    ")"
   ]
  },
  {
   "cell_type": "markdown",
   "id": "aa6fffaa-a806-4727-af70-a7e65e44c4c4",
   "metadata": {
    "tags": []
   },
   "source": [
    "### Fitting R2 of all mobile molecules"
   ]
  },
  {
   "cell_type": "code",
   "execution_count": 20,
   "id": "eb7d7cd1-b8c4-4740-8d10-7e59faefb7c6",
   "metadata": {},
   "outputs": [
    {
     "name": "stderr",
     "output_type": "stream",
     "text": [
      "/home/gmgao/miniconda3/envs/spt/lib/python3.9/site-packages/seaborn/_oldcore.py:1498: FutureWarning: is_categorical_dtype is deprecated and will be removed in a future version. Use isinstance(dtype, CategoricalDtype) instead\n",
      "  if pd.api.types.is_categorical_dtype(vector):\n",
      "/home/gmgao/miniconda3/envs/spt/lib/python3.9/site-packages/seaborn/_oldcore.py:1498: FutureWarning: is_categorical_dtype is deprecated and will be removed in a future version. Use isinstance(dtype, CategoricalDtype) instead\n",
      "  if pd.api.types.is_categorical_dtype(vector):\n",
      "/home/gmgao/miniconda3/envs/spt/lib/python3.9/site-packages/seaborn/_oldcore.py:1498: FutureWarning: is_categorical_dtype is deprecated and will be removed in a future version. Use isinstance(dtype, CategoricalDtype) instead\n",
      "  if pd.api.types.is_categorical_dtype(vector):\n",
      "/home/gmgao/miniconda3/envs/spt/lib/python3.9/site-packages/seaborn/_oldcore.py:1498: FutureWarning: is_categorical_dtype is deprecated and will be removed in a future version. Use isinstance(dtype, CategoricalDtype) instead\n",
      "  if pd.api.types.is_categorical_dtype(vector):\n",
      "/home/gmgao/miniconda3/envs/spt/lib/python3.9/site-packages/seaborn/_oldcore.py:1119: FutureWarning: use_inf_as_na option is deprecated and will be removed in a future version. Convert inf values to NaN before operating instead.\n",
      "  with pd.option_context('mode.use_inf_as_na', True):\n"
     ]
    },
    {
     "name": "stdout",
     "output_type": "stream",
     "text": [
      "0 h, N=232,090 231900\n",
      "8 h, N=255,942 255471\n"
     ]
    },
    {
     "data": {
      "image/png": "[encoded data removed]",
      "text/plain": [
       "<Figure size 300x200 with 1 Axes>"
      ]
     },
     "metadata": {},
     "output_type": "display_data"
    }
   ],
   "source": [
    "data = df_AIO[df_AIO[\"mean_stepsize_nm\"] > immobile_stepsize_threshold_nm]\n",
    "plt.figure(figsize=(3, 2))\n",
    "ax = sns.histplot(\n",
    "    data=data,\n",
    "    x=\"linear_fit_R2\",\n",
    "    hue=\"label\",\n",
    "    palette=palette,\n",
    "    bins=40,\n",
    "    stat=\"probability\",\n",
    "    common_norm=False,\n",
    "    binrange=(0, 1),\n",
    "    legend=False,\n",
    ")\n",
    "# sns.move_legend(ax, 0, title=None, frameon=False, fontsize=18)\n",
    "plt.xlim(0, 1)\n",
    "plt.xlabel(r\"Fitting R$^2$\", fontsize=18)\n",
    "plt.ylabel(\"Probability\", fontsize=18)\n",
    "plt.gca().spines[:].set_linewidth(1)\n",
    "plt.gca().tick_params(\n",
    "    axis=\"both\",\n",
    "    which=\"major\",\n",
    "    labelsize=18,\n",
    "    direction=\"in\",\n",
    "    bottom=True,\n",
    "    left=True,\n",
    "    length=5,\n",
    "    width=1,\n",
    ")\n",
    "plt.savefig(\"SM1.fitting_R2_histo_\" + postfix, format=\"png\", bbox_inches=\"tight\", dpi=300)\n",
    "\n",
    "print(label_1, data[data[\"label\"] == label_1].shape[0])\n",
    "print(label_2, data[data[\"label\"] == label_2].shape[0])"
   ]
  },
  {
   "cell_type": "code",
   "execution_count": null,
   "id": "03eee10f",
   "metadata": {},
   "outputs": [],
   "source": []
  }
 ],
 "metadata": {
  "kernelspec": {
   "display_name": "Python 3 (ipykernel)",
   "language": "python",
   "name": "python3"
  },
  "language_info": {
   "codemirror_mode": {
    "name": "ipython",
    "version": 3
   },
   "file_extension": ".py",
   "mimetype": "text/x-python",
   "name": "python",
   "nbconvert_exporter": "python",
   "pygments_lexer": "ipython3",
   "version": "3.9.18"
  }
 },
 "nbformat": 4,
 "nbformat_minor": 5
}
