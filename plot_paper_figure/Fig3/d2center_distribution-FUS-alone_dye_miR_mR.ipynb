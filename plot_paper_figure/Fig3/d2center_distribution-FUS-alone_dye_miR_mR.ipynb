{
 "cells": [
  {
   "cell_type": "code",
   "execution_count": 1,
   "metadata": {},
   "outputs": [],
   "source": [
    "import os\n",
    "import matplotlib.pyplot as plt\n",
    "import numpy as np\n",
    "import pickle\n",
    "import pandas as pd\n",
    "import seaborn as sns\n",
    "from rich.progress import track\n",
    "\n",
    "sns.set(color_codes=True, style=\"white\")"
   ]
  },
  {
   "cell_type": "markdown",
   "metadata": {},
   "source": [
    "### Load Data"
   ]
  },
  {
   "cell_type": "code",
   "execution_count": 2,
   "metadata": {},
   "outputs": [
    {
     "data": {
      "text/plain": [
       "dict_keys(['filenames', 'lst_N_locations', 'lst_df_d2center'])"
      ]
     },
     "execution_count": 2,
     "metadata": {},
     "output_type": "execute_result"
    }
   ],
   "source": [
    "folder_save = \"/Volumes/lsa-nwalter/Guoming_Gao_turbo/Walterlab_server/PROCESSED_DATA/RNA-diffusion-in-FUS/paper_figure_plots/post_bioRxiv_Figs/d2center_compare-FUS-alone_dye_miR_mR\"\n",
    "os.chdir(folder_save)\n",
    "\n",
    "label1 = \"-\"\n",
    "label2 = \"+ Dye\"\n",
    "label3 = \"+ miRNA\"\n",
    "label4 = \"+ mRNA\"\n",
    "color1 = \"#88a8cb\"\n",
    "color2 = \"#f7a863\"\n",
    "color3 = \"#d25743\"\n",
    "color4 = \"#2b3744\"\n",
    "palette = [color1, color2, color3, color4]\n",
    "\n",
    "postfix = \"FUS-alone_dye_miR_mR-perLoc.png\"\n",
    "fname1 = \"distance2center-FUSonly_nothing-pooled-perLoc.p\"\n",
    "fname2 = \"distance2center-FUS_AF647-FUS-pooled-perLoc.p\"\n",
    "fname3 = \"distance2center-FUS_miR-FUS-pooled-perLoc.p\"\n",
    "fname4 = \"distance2center-FUS_FL-FUS-pooled-perLoc.p\"\n",
    "\n",
    "r_max = 1\n",
    "ringwidth = 0.2\n",
    "dr_slidingrings = 0.05\n",
    "bin_starts = np.arange(0, r_max - ringwidth, dr_slidingrings)\n",
    "bin_ends = bin_starts + ringwidth\n",
    "ring_areas = np.pi * (bin_ends**2 - bin_starts**2)\n",
    "\n",
    "dict1 = pickle.load(open(fname1, \"rb\"))\n",
    "dict2 = pickle.load(open(fname2, \"rb\"))\n",
    "dict3 = pickle.load(open(fname3, \"rb\"))\n",
    "dict4 = pickle.load(open(fname4, \"rb\"))\n",
    "dict1.keys()"
   ]
  },
  {
   "cell_type": "markdown",
   "metadata": {},
   "source": [
    "### Functions"
   ]
  },
  {
   "cell_type": "code",
   "execution_count": 3,
   "metadata": {},
   "outputs": [],
   "source": [
    "def weighted_stats(lst_PCF_per_condensate, lst_N_locations):\n",
    "    # create arrays for weighted means, SEMs and STDs\n",
    "    N_condensates = len(lst_N_locations)\n",
    "    N_bins = lst_PCF_per_condensate[0].shape[0]\n",
    "    weighted_mean = np.zeros(N_bins)\n",
    "    weighted_sem = np.zeros(N_bins)\n",
    "    weighted_std = np.zeros(N_bins)\n",
    "    weights = np.array(lst_N_locations)\n",
    "\n",
    "    # iterate over the length of a numpy array in the list\n",
    "    for i in range(N_bins):\n",
    "        # extract the i-th element from each array and their respective weight\n",
    "        data_array = np.array(\n",
    "            [lst_PCF_per_condensate[j][i] for j in range(N_condensates)]\n",
    "        )\n",
    "        # calculate the weighted mean\n",
    "        weighted_mean[i] = np.average(data_array, weights=weights)\n",
    "        # calculate the variance\n",
    "        variance = np.average((data_array - weighted_mean[i]) ** 2, weights=weights)\n",
    "        # calculate the weighted SEM\n",
    "        weighted_sem[i] = np.sqrt(variance / N_condensates)\n",
    "        # calculate the weighted STD\n",
    "        weighted_std[i] = np.sqrt(variance)\n",
    "\n",
    "    return weighted_mean, weighted_sem, weighted_std\n",
    "\n",
    "\n",
    "def critical_system_PCF(r, A, characteristic_size):\n",
    "    Gr = 1 + A * np.exp(-r / characteristic_size)\n",
    "    return Gr\n",
    "\n",
    "\n",
    "def calculate_hist(d2center_norm, r_max, bin_starts, bin_ends, ring_areas):\n",
    "    # calculate histogram\n",
    "    lst_hist = []\n",
    "    for distance in d2center_norm[d2center_norm <= r_max]:\n",
    "        lst_hist.append(((bin_starts <= distance) & (bin_ends >= distance)) * 1)\n",
    "    hist = np.sum(lst_hist, axis=0)\n",
    "\n",
    "    # determine normalization factors\n",
    "    N_domains = d2center_norm[d2center_norm <= r_max].shape[0]\n",
    "    rho_per_unit_circle = N_domains / (np.pi * 1**2)\n",
    "    norm_factors = ring_areas * rho_per_unit_circle\n",
    "    distribution = hist / norm_factors\n",
    "    probability_norm = distribution / distribution.sum()\n",
    "\n",
    "    return probability_norm\n",
    "\n",
    "\n",
    "def bootstrap(d2center_norm, bs_size, bs_rounds):\n",
    "    lst_probability_norm = []\n",
    "    for i in track(range(bs_rounds)):\n",
    "        idxs = np.random.choice(len(d2center_norm), bs_size)\n",
    "        d2center_norm_bs = np.array([d2center_norm[idx] for idx in idxs], float)\n",
    "        probability_norm = calculate_hist(\n",
    "            d2center_norm_bs, r_max, bin_starts, bin_ends, ring_areas\n",
    "        )\n",
    "\n",
    "        lst_probability_norm.append(probability_norm)\n",
    "\n",
    "    probability_norm_array = np.stack(lst_probability_norm)\n",
    "\n",
    "    return probability_norm_array\n",
    "\n",
    "\n",
    "def preprocessing(dict_input):\n",
    "    lst_df_d2center = dict_input[\"lst_df_d2center\"]\n",
    "    lst_d2center_norm = [df[\"d2center_norm\"].to_numpy(float) for df in lst_df_d2center]\n",
    "    d2center_norm = np.hstack(lst_d2center_norm)\n",
    "    probability_norm_array = bootstrap(d2center_norm, bs_size=5000, bs_rounds=1000)\n",
    "\n",
    "    return probability_norm_array"
   ]
  },
  {
   "cell_type": "markdown",
   "metadata": {},
   "source": [
    "### Domain distribution in condensate"
   ]
  },
  {
   "cell_type": "code",
   "execution_count": 4,
   "metadata": {},
   "outputs": [
    {
     "data": {
      "text/html": [
       "<pre style=\"white-space:pre;overflow-x:auto;line-height:normal;font-family:Menlo,'DejaVu Sans Mono',consolas,'Courier New',monospace\"></pre>\n"
      ],
      "text/plain": [
       "\u001b[?25l"
      ]
     },
     "metadata": {},
     "output_type": "display_data"
    },
    {
     "data": {
      "application/vnd.jupyter.widget-view+json": {
       "model_id": "20a09e1c08944040a1a0a7f12e79625e",
       "version_major": 2,
       "version_minor": 0
      },
      "text/plain": [
       "Output()"
      ]
     },
     "metadata": {},
     "output_type": "display_data"
    },
    {
     "data": {
      "text/html": [
       "<pre style=\"white-space:pre;overflow-x:auto;line-height:normal;font-family:Menlo,'DejaVu Sans Mono',consolas,'Courier New',monospace\">\n",
       "</pre>\n"
      ],
      "text/plain": [
       "\n",
       "\u001b[?25h"
      ]
     },
     "metadata": {},
     "output_type": "display_data"
    },
    {
     "data": {
      "text/html": [
       "<pre style=\"white-space:pre;overflow-x:auto;line-height:normal;font-family:Menlo,'DejaVu Sans Mono',consolas,'Courier New',monospace\"></pre>\n"
      ],
      "text/plain": [
       "\u001b[?25l"
      ]
     },
     "metadata": {},
     "output_type": "display_data"
    },
    {
     "data": {
      "application/vnd.jupyter.widget-view+json": {
       "model_id": "ed1846cfbcae431b9eb9214b6233e2f5",
       "version_major": 2,
       "version_minor": 0
      },
      "text/plain": [
       "Output()"
      ]
     },
     "metadata": {},
     "output_type": "display_data"
    },
    {
     "data": {
      "text/html": [
       "<pre style=\"white-space:pre;overflow-x:auto;line-height:normal;font-family:Menlo,'DejaVu Sans Mono',consolas,'Courier New',monospace\">\n",
       "</pre>\n"
      ],
      "text/plain": [
       "\n",
       "\u001b[?25h"
      ]
     },
     "metadata": {},
     "output_type": "display_data"
    },
    {
     "data": {
      "text/html": [
       "<pre style=\"white-space:pre;overflow-x:auto;line-height:normal;font-family:Menlo,'DejaVu Sans Mono',consolas,'Courier New',monospace\"></pre>\n"
      ],
      "text/plain": [
       "\u001b[?25l"
      ]
     },
     "metadata": {},
     "output_type": "display_data"
    },
    {
     "data": {
      "application/vnd.jupyter.widget-view+json": {
       "model_id": "cbb3a246d9aa40ddb8ebca2b93a93ed3",
       "version_major": 2,
       "version_minor": 0
      },
      "text/plain": [
       "Output()"
      ]
     },
     "metadata": {},
     "output_type": "display_data"
    },
    {
     "data": {
      "text/html": [
       "<pre style=\"white-space:pre;overflow-x:auto;line-height:normal;font-family:Menlo,'DejaVu Sans Mono',consolas,'Courier New',monospace\">\n",
       "</pre>\n"
      ],
      "text/plain": [
       "\n",
       "\u001b[?25h"
      ]
     },
     "metadata": {},
     "output_type": "display_data"
    },
    {
     "data": {
      "text/html": [
       "<pre style=\"white-space:pre;overflow-x:auto;line-height:normal;font-family:Menlo,'DejaVu Sans Mono',consolas,'Courier New',monospace\"></pre>\n"
      ],
      "text/plain": [
       "\u001b[?25l"
      ]
     },
     "metadata": {},
     "output_type": "display_data"
    },
    {
     "data": {
      "application/vnd.jupyter.widget-view+json": {
       "model_id": "5c59e726d3ff4f63a015c54f8483f605",
       "version_major": 2,
       "version_minor": 0
      },
      "text/plain": [
       "Output()"
      ]
     },
     "metadata": {},
     "output_type": "display_data"
    },
    {
     "data": {
      "text/html": [
       "<pre style=\"white-space:pre;overflow-x:auto;line-height:normal;font-family:Menlo,'DejaVu Sans Mono',consolas,'Courier New',monospace\">\n",
       "</pre>\n"
      ],
      "text/plain": [
       "\n",
       "\u001b[?25h"
      ]
     },
     "metadata": {},
     "output_type": "display_data"
    }
   ],
   "source": [
    "probability_norm_array_1 = preprocessing(dict1)\n",
    "probability_norm_array_2 = preprocessing(dict2)\n",
    "probability_norm_array_3 = preprocessing(dict3)\n",
    "probability_norm_array_4 = preprocessing(dict4)"
   ]
  },
  {
   "cell_type": "code",
   "execution_count": 5,
   "metadata": {},
   "outputs": [],
   "source": [
    "def mean_err_for_plot(probability_norm_array):\n",
    "    lst_mean = []\n",
    "    lst_err = []\n",
    "    for i in range(probability_norm_array.shape[1]):\n",
    "        column = probability_norm_array[:, i]\n",
    "        ci = (np.percentile(column, 5), np.percentile(column, 95))\n",
    "        bs_mean = np.mean(ci)\n",
    "        bs_err = (ci[1] - ci[0]) / 2\n",
    "        lst_mean.append(bs_mean)\n",
    "        lst_err.append(bs_err)\n",
    "\n",
    "    return lst_mean, lst_err\n",
    "\n",
    "lst_mean_1, lst_err_1 = mean_err_for_plot(probability_norm_array_1)\n",
    "lst_mean_2, lst_err_2 = mean_err_for_plot(probability_norm_array_2)\n",
    "lst_mean_3, lst_err_3 = mean_err_for_plot(probability_norm_array_3)\n",
    "lst_mean_4, lst_err_4 = mean_err_for_plot(probability_norm_array_4)\n"
   ]
  },
  {
   "cell_type": "code",
   "execution_count": 27,
   "metadata": {},
   "outputs": [
    {
     "data": {
      "image/png": "[encoded data removed]",
      "text/plain": [
       "<Figure size 280x430 with 1 Axes>"
      ]
     },
     "metadata": {},
     "output_type": "display_data"
    }
   ],
   "source": [
    "fontsize = 20\n",
    "plt.figure(figsize=(2.8, 4.3))\n",
    "\n",
    "\n",
    "def preset_plot(lst_mean, lst_err, c, label):\n",
    "    plt.errorbar(\n",
    "        bar_x,\n",
    "        lst_mean,\n",
    "        yerr=lst_err,\n",
    "        fmt=\".\",\n",
    "        color=c,\n",
    "        ecolor=c,\n",
    "        elinewidth=1,\n",
    "        capsize=3,\n",
    "        label=None,\n",
    "    )\n",
    "    (line,) = plt.plot(\n",
    "        bar_x,\n",
    "        lst_mean,\n",
    "        color=c,\n",
    "        lw=2,\n",
    "        label=label,\n",
    "    )\n",
    "    return line\n",
    "\n",
    "\n",
    "plt.axhline(1 / len(bin_starts), c=\"k\", ls=\"--\", lw=2)\n",
    "bar_x = (bin_starts + bin_ends) / 2\n",
    "\n",
    "# Collect line objects for legend\n",
    "lines = []\n",
    "lines.append(preset_plot(lst_mean_1, lst_err_1, color1, label1))\n",
    "lines.append(preset_plot(lst_mean_2, lst_err_2, color2, label2))\n",
    "lines.append(preset_plot(lst_mean_3, lst_err_3, color3, label3))\n",
    "lines.append(preset_plot(lst_mean_4, lst_err_4, color4, label4))\n",
    "\n",
    "# Configure legend using only line objects\n",
    "plt.legend(\n",
    "    handles=lines,\n",
    "    loc=\"lower center\",\n",
    "    bbox_to_anchor=(0.52, 0),\n",
    "    ncol=1,\n",
    "    title=None,\n",
    "    frameon=False,\n",
    "    fontsize=fontsize,\n",
    ")\n",
    "\n",
    "plt.xlim(bar_x[0] - dr_slidingrings / 2, bar_x[-1] + dr_slidingrings / 2)\n",
    "# plt.xlim(0, 1)\n",
    "plt.ylim(0, 0.09)\n",
    "plt.ylabel(\"RDF$_{FUS}$\", fontsize=fontsize)\n",
    "plt.yticks([0, 0.02, 0.04, 0.06, 0.08])\n",
    "plt.xlabel(\"Normalized\\nDistance to Center\", fontsize=fontsize)\n",
    "plt.gca().spines[:].set_linewidth(1)\n",
    "plt.gca().tick_params(\n",
    "    axis=\"both\",\n",
    "    which=\"major\",\n",
    "    labelsize=fontsize,\n",
    "    direction=\"in\",\n",
    "    bottom=True,\n",
    "    left=True,\n",
    "    length=5,\n",
    "    width=2,\n",
    ")\n",
    "plt.savefig(\n",
    "    \"d2center_distribution\" + postfix,\n",
    "    format=\"png\",\n",
    "    bbox_inches=\"tight\",\n",
    "    dpi=1000,\n",
    ")\n",
    "# baseline = 1 / len(bin_starts)\n",
    "# print(\n",
    "#     lst_mean[0] / baseline,\n",
    "#     lst_err[0] / baseline,\n",
    "#     bar_x[-5],\n",
    "#     lst_mean[-5] / baseline,\n",
    "#     lst_err[-5] / baseline,\n",
    "# )"
   ]
  },
  {
   "cell_type": "code",
   "execution_count": null,
   "metadata": {},
   "outputs": [],
   "source": []
  }
 ],
 "metadata": {
  "kernelspec": {
   "display_name": "spt",
   "language": "python",
   "name": "python3"
  },
  "language_info": {
   "codemirror_mode": {
    "name": "ipython",
    "version": 3
   },
   "file_extension": ".py",
   "mimetype": "text/x-python",
   "name": "python",
   "nbconvert_exporter": "python",
   "pygments_lexer": "ipython3",
   "version": "3.9.16"
  }
 },
 "nbformat": 4,
 "nbformat_minor": 2
}
