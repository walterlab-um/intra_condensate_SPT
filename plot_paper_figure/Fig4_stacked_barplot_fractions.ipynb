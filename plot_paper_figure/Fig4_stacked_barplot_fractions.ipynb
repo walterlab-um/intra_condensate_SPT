{
 "cells": [
  {
   "cell_type": "code",
   "execution_count": 1,
   "id": "def919e4-733d-4304-bd53-b8c3f58f7d61",
   "metadata": {
    "tags": []
   },
   "outputs": [],
   "source": [
    "import os\n",
    "import numpy as np\n",
    "import pandas as pd\n",
    "import matplotlib.pyplot as plt\n",
    "import matplotlib.lines as lines\n",
    "import matplotlib.colors as clr\n",
    "import seaborn as sns\n",
    "from statannot import add_stat_annotation\n",
    "from rich.progress import track\n",
    "\n",
    "sns.set(color_codes=True, style=\"white\")\n",
    "pd.options.mode.chained_assignment = None  # default='warn'"
   ]
  },
  {
   "cell_type": "code",
   "execution_count": 2,
   "id": "86e36cf1-74dc-4c26-9d93-e80fa88f50af",
   "metadata": {
    "tags": []
   },
   "outputs": [],
   "source": [
    "os.chdir(\n",
    "    \"/Volumes/lsa-nwalter/Guoming_Gao_turbo/Walterlab_server/PROCESSED_DATA/RNA-diffusion-in-FUS/RNAinFUS_PaperFigures/Fig4_regulation/crowding_aging_Hela\"\n",
    ")\n",
    "lst_labels = [\n",
    "    \"0Dex, -, 0h\",\n",
    "    \"0Dex, -, 3h\",\n",
    "    \"0Dex, -, 6h\",\n",
    "    \"0Dex, -, 8h\",\n",
    "    \"0Dex, Hela, 0h\",\n",
    "    \"10Dex, -, 0h\",\n",
    "    \"10Dex, -, 3h\",\n",
    "    \"10Dex, -, 6h\",\n",
    "    \"10Dex, -, 8h\",\n",
    "    \"10Dex, Hela, 0h\",\n",
    "]\n",
    "\n",
    "colors = [\n",
    "    \"#333232\",\n",
    "    \"#f7b801\",\n",
    "    \"#87a878\",\n",
    "]"
   ]
  },
  {
   "cell_type": "markdown",
   "id": "52226093-5df0-4856-a5c8-351158ce8bfe",
   "metadata": {},
   "source": [
    "## Calculate Fractions and Save"
   ]
  },
  {
   "cell_type": "markdown",
   "id": "67806b61-f04a-4dfe-a3c4-105d0aba7cb4",
   "metadata": {},
   "source": [
    "#### Parameters"
   ]
  },
  {
   "cell_type": "code",
   "execution_count": 3,
   "id": "be37679b-dd5a-4574-bae2-b37201565c73",
   "metadata": {
    "tags": []
   },
   "outputs": [],
   "source": [
    "# Displacement threshold for immobile molecules\n",
    "immobile_stepsize_threshold_nm = 30\n",
    "# alpha component threshold for constrained diffusion\n",
    "threshold_alpha = 0.7\n",
    "\n",
    "dict_input_path = {\n",
    "    \"0Dex, -, 0h\": \"SPT_results_AIO_concat-0Dex_noTR_0hr.csv\",\n",
    "    \"0Dex, -, 3h\": \"SPT_results_AIO_concat-0Dex_noTR_3hr.csv\",\n",
    "    \"0Dex, -, 6h\": \"SPT_results_AIO_concat-0Dex_noTR_6hr.csv\",\n",
    "    \"0Dex, -, 8h\": \"SPT_results_AIO_concat-0Dex_noTR_8hr.csv\",\n",
    "    \"0Dex, Hela, 0h\": \"SPT_results_AIO_concat-0Dex_helaTR_1hr.csv\",\n",
    "    \"10Dex, -, 0h\": \"SPT_results_AIO_concat-10Dex_noTR_0hr.csv\",\n",
    "    \"10Dex, -, 3h\": \"SPT_results_AIO_concat-10Dex_noTR_3hr.csv\",\n",
    "    \"10Dex, -, 6h\": \"SPT_results_AIO_concat-10Dex_noTR_6hr.csv\",\n",
    "    \"10Dex, -, 8h\": \"SPT_results_AIO_concat-10Dex_noTR_8hr.csv\",\n",
    "    \"10Dex, Hela, 0h\": \"SPT_results_AIO_concat-10Dex_helaTR_0hr.csv\",\n",
    "}\n",
    "# calculate error bounds\n",
    "s_per_frame = 0.02\n",
    "# Output file structure\n",
    "columns = [\n",
    "    \"label\",\n",
    "    \"replicate_prefix\",\n",
    "    \"N, Total\",\n",
    "    \"N, Mobile\",\n",
    "    \"N, Constrained\",\n",
    "    \"Static Fraction\",\n",
    "    \"Constrained Fraction\",\n",
    "]"
   ]
  },
  {
   "cell_type": "markdown",
   "id": "d249fb99-cd9f-4407-baee-f217b4646c57",
   "metadata": {},
   "source": [
    "#### Calculations (immobile by mean step size)"
   ]
  },
  {
   "cell_type": "code",
   "execution_count": 4,
   "id": "d57b1224-bb2b-4bba-9502-d3e8855b3453",
   "metadata": {
    "tags": []
   },
   "outputs": [
    {
     "data": {
      "text/html": [
       "<pre style=\"white-space:pre;overflow-x:auto;line-height:normal;font-family:Menlo,'DejaVu Sans Mono',consolas,'Courier New',monospace\"></pre>\n"
      ],
      "text/plain": [
       "\u001b[?25l"
      ]
     },
     "metadata": {},
     "output_type": "display_data"
    },
    {
     "data": {
      "application/vnd.jupyter.widget-view+json": {
       "model_id": "b6eff3a16b0b4dd4944ca9ded462bec6",
       "version_major": 2,
       "version_minor": 0
      },
      "text/plain": [
       "Output()"
      ]
     },
     "metadata": {},
     "output_type": "display_data"
    },
    {
     "data": {
      "text/html": [
       "<pre style=\"white-space:pre;overflow-x:auto;line-height:normal;font-family:Menlo,'DejaVu Sans Mono',consolas,'Courier New',monospace\">\n",
       "</pre>\n"
      ],
      "text/plain": [
       "\n",
       "\u001b[?25h"
      ]
     },
     "metadata": {},
     "output_type": "display_data"
    }
   ],
   "source": [
    "lst_rows_of_df = []\n",
    "for key in track(dict_input_path.keys()):\n",
    "    df_current = pd.read_csv(dict_input_path[key])\n",
    "    df_current = df_current.astype(\n",
    "        {\"linear_fit_log10D\": float, \"mean_stepsize_nm\": float, \"alpha\": float}\n",
    "    )\n",
    "    # all filenames within the current condition/file\n",
    "    all_filenames = df_current[\"filename\"].unique().tolist()\n",
    "    # filename prefix for each replicate\n",
    "    replicate_prefixs = np.unique([f.split(\"FOV\")[0] for f in all_filenames])\n",
    "\n",
    "    for prefix in replicate_prefixs:\n",
    "        current_replicate_filenames = [f for f in all_filenames if prefix in f]\n",
    "        df_current_replicate = df_current[\n",
    "            df_current[\"filename\"].isin(current_replicate_filenames)\n",
    "        ]\n",
    "\n",
    "        # Judege if immobile by mean step size\n",
    "        df_mobile = df_current_replicate[\n",
    "            df_current_replicate[\"mean_stepsize_nm\"] >= immobile_stepsize_threshold_nm\n",
    "        ]\n",
    "\n",
    "        # Judge if constrained by alpha component\n",
    "        df_constrained = df_mobile[df_mobile[\"alpha\"] <= threshold_alpha]\n",
    "\n",
    "        N_total = df_current_replicate.shape[0]\n",
    "        N_mobile = df_mobile.shape[0]\n",
    "        N_constrained = df_constrained.shape[0]\n",
    "\n",
    "        if N_constrained < 1:\n",
    "            continue\n",
    "\n",
    "        F_immobile = (N_total - N_mobile) / N_total\n",
    "        F_constrained = N_constrained / N_mobile\n",
    "\n",
    "        # save\n",
    "        lst_rows_of_df.append(\n",
    "            [\n",
    "                key,\n",
    "                prefix,\n",
    "                N_total,\n",
    "                N_mobile,\n",
    "                N_constrained,\n",
    "                F_immobile,\n",
    "                F_constrained,\n",
    "            ]\n",
    "        )\n",
    "\n",
    "df_save = pd.DataFrame.from_records(\n",
    "    lst_rows_of_df,\n",
    "    columns=columns,\n",
    ")\n",
    "df_save.to_csv(\"N_and_Fraction_per_replicate_by_stepsize.csv\", index=False)"
   ]
  },
  {
   "cell_type": "code",
   "execution_count": 5,
   "id": "390994c3-31f5-428e-becd-daae37ec9f32",
   "metadata": {
    "tags": []
   },
   "outputs": [],
   "source": [
    "data = pd.read_csv(\"N_and_Fraction_per_replicate_by_stepsize.csv\")"
   ]
  },
  {
   "cell_type": "markdown",
   "id": "874adcca-e816-4204-bcf7-ac001888f5ab",
   "metadata": {},
   "source": [
    "## Prepare plot df"
   ]
  },
  {
   "cell_type": "code",
   "execution_count": 6,
   "id": "c4b933c9-2240-4c9c-8bdb-564d0530d0bb",
   "metadata": {
    "tags": []
   },
   "outputs": [],
   "source": [
    "N_total = data[\"N, Total\"].to_numpy(int)\n",
    "N_mobile = data[\"N, Mobile\"].to_numpy(int)\n",
    "N_immobile = N_total - N_mobile\n",
    "N_constrained = data[\"N, Constrained\"].to_numpy(int)\n",
    "N_normal = N_mobile - N_constrained\n",
    "\n",
    "frac_immobile = N_immobile / N_total\n",
    "frac_constrained = N_constrained / N_total\n",
    "frac_normal = N_normal / N_total\n",
    "\n",
    "data[\"Immobile\"] = frac_immobile\n",
    "data[\"Constrained\"] = frac_constrained\n",
    "data[\"Normal\"] = frac_normal"
   ]
  },
  {
   "cell_type": "code",
   "execution_count": 7,
   "id": "60c2f13a-170b-4c79-a77b-798496e0b804",
   "metadata": {
    "tags": []
   },
   "outputs": [],
   "source": [
    "df_mean_error = pd.DataFrame(\n",
    "    {\n",
    "        \"label\": data[\"label\"].unique(),\n",
    "        \"F_immobile_mean\": [\n",
    "            data[data[\"label\"] == label][\"Immobile\"].mean()\n",
    "            for label in data[\"label\"].unique()\n",
    "        ],\n",
    "        \"F_immobile_sem\": [\n",
    "            data[data[\"label\"] == label][\"Immobile\"].sem()\n",
    "            for label in data[\"label\"].unique()\n",
    "        ],\n",
    "        \"F_constrained_mean\": [\n",
    "            data[data[\"label\"] == label][\"Constrained\"].mean()\n",
    "            for label in data[\"label\"].unique()\n",
    "        ],\n",
    "        \"F_constrained_sem\": [\n",
    "            data[data[\"label\"] == label][\"Constrained\"].sem()\n",
    "            for label in data[\"label\"].unique()\n",
    "        ],\n",
    "        \"F_normal_mean\": [\n",
    "            data[data[\"label\"] == label][\"Normal\"].mean()\n",
    "            for label in data[\"label\"].unique()\n",
    "        ],\n",
    "        \"F_normal_sem\": [\n",
    "            data[data[\"label\"] == label][\"Normal\"].sem()\n",
    "            for label in data[\"label\"].unique()\n",
    "        ],\n",
    "    },\n",
    "    dtype=object,\n",
    ")"
   ]
  },
  {
   "cell_type": "markdown",
   "id": "22b92193-e6e2-4785-a923-88130933792f",
   "metadata": {},
   "source": [
    "## Plots"
   ]
  },
  {
   "cell_type": "markdown",
   "id": "7acae672-87aa-4d0a-855d-6fd9f9e14958",
   "metadata": {
    "tags": []
   },
   "source": [
    "#### Aging & Dextran"
   ]
  },
  {
   "cell_type": "code",
   "execution_count": 119,
   "id": "bfc18a5a-3745-4691-ab37-c5c6df60bba2",
   "metadata": {
    "tags": []
   },
   "outputs": [
    {
     "data": {
      "image/png": "[encoded data removed]",
      "text/plain": [
       "<Figure size 650x400 with 1 Axes>"
      ]
     },
     "metadata": {},
     "output_type": "display_data"
    }
   ],
   "source": [
    "fig = plt.figure(figsize=(6.5, 4))\n",
    "x = [1, 2, 3, 4]\n",
    "labels = [\n",
    "    \"0Dex, -, 0h\",\n",
    "    \"0Dex, -, 3h\",\n",
    "    \"0Dex, -, 6h\",\n",
    "    \"0Dex, -, 8h\",\n",
    "]\n",
    "df_fractions = df_mean_error[df_mean_error[\"label\"].isin(labels)]\n",
    "bottom = np.zeros(len(x))\n",
    "categories = [\"F_immobile_mean\", \"F_constrained_mean\", \"F_normal_mean\"]\n",
    "for i in range(len(categories)):\n",
    "    plt.bar(\n",
    "        x=x,\n",
    "        height=df_fractions[categories[i]],\n",
    "        yerr=df_fractions[categories[i][:-4] + \"sem\"],\n",
    "        error_kw={\"elinewidth\": 1},\n",
    "        capsize=3,\n",
    "        label=labels,\n",
    "        bottom=bottom,\n",
    "        color=colors[i],\n",
    "    )\n",
    "    bottom += df_fractions[categories[i]]\n",
    "\n",
    "x = [5, 6, 7, 8]\n",
    "labels = [\n",
    "    \"10Dex, -, 0h\",\n",
    "    \"10Dex, -, 3h\",\n",
    "    \"10Dex, -, 6h\",\n",
    "    \"10Dex, -, 8h\",\n",
    "]\n",
    "df_fractions = df_mean_error[df_mean_error[\"label\"].isin(labels)]\n",
    "bottom = np.zeros(len(x))\n",
    "categories = [\"F_immobile_mean\", \"F_constrained_mean\", \"F_normal_mean\"]\n",
    "for i in range(len(categories)):\n",
    "    plt.bar(\n",
    "        x=x,\n",
    "        height=df_fractions[categories[i]],\n",
    "        yerr=df_fractions[categories[i][:-4] + \"sem\"],\n",
    "        error_kw={\"elinewidth\": 1},\n",
    "        capsize=3,\n",
    "        label=labels,\n",
    "        bottom=bottom,\n",
    "        color=colors[i],\n",
    "    )\n",
    "    bottom += df_fractions[categories[i]]\n",
    "\n",
    "plt.ylim(0, 1.05)\n",
    "canvas_width = 0.55\n",
    "plt.xlim(1 - canvas_width, 8 + canvas_width)\n",
    "plt.ylabel(\"Fraction\", size=20)\n",
    "plt.xticks([1, 2, 3, 4, 5, 6, 7, 8], [\"0\", \"3\", \"6\", \"8\", \"0\", \"3\", \"6\", \"8\"], size=20)\n",
    "plt.yticks([0, 0.5, 1], size=20)\n",
    "plt.gca().spines[:].set_linewidth(3)\n",
    "plt.gca().spines[['right', 'top', 'bottom']].set_visible(False)\n",
    "plt.gca().tick_params(\n",
    "    axis=\"y\",\n",
    "    which=\"major\",\n",
    "    labelsize=20,\n",
    "    direction=\"in\",\n",
    "    bottom=True,\n",
    "    left=True,\n",
    "    length=5,\n",
    "    width=3,\n",
    ")\n",
    "plt.xlabel(\"\")\n",
    "fig.text(0, 0.06, \"Time, h\", fontsize=20)\n",
    "line_y = 0.045\n",
    "fig.add_artist(lines.Line2D([0.16, 0.545], [line_y, line_y], c=\"k\", lw=3))\n",
    "fig.add_artist(lines.Line2D([0.57, 0.955], [line_y, line_y], c=\"k\", lw=3))\n",
    "second_row_y = -0.02\n",
    "fig.text(0, second_row_y + 0.01, \"Dextran\", fontsize=20)\n",
    "fig.text(0.345, second_row_y, \"-\", fontsize=25)\n",
    "fig.text(0.747, second_row_y, \"+\", fontsize=25)\n",
    "plt.tight_layout()\n",
    "\n",
    "\n",
    "plt.savefig(\n",
    "    \"Fig3_Fracs_aging_Dex_combined.png\", format=\"png\", bbox_inches=\"tight\", dpi=300\n",
    ")"
   ]
  },
  {
   "cell_type": "code",
   "execution_count": null,
   "id": "573611d3",
   "metadata": {},
   "outputs": [],
   "source": []
  },
  {
   "cell_type": "markdown",
   "id": "22713e4b-2a22-4c3d-ba81-633fe82cbfb5",
   "metadata": {},
   "source": [
    "#### Aging, 10% Dextran"
   ]
  },
  {
   "cell_type": "markdown",
   "id": "6e553f8d-a9ad-42de-8387-355f8b003d81",
   "metadata": {
    "tags": []
   },
   "source": [
    "fig = plt.figure(figsize=(3, 3))\n",
    "x = [1, 2, 3, 4]\n",
    "labels = [\n",
    "    \"10Dex, -, 0h\",\n",
    "    \"10Dex, -, 3h\",\n",
    "    \"10Dex, -, 6h\",\n",
    "    \"10Dex, -, 8h\",\n",
    "]\n",
    "df_fractions = df_mean_error[df_mean_error[\"label\"].isin(labels)]\n",
    "bottom = np.zeros(len(x))\n",
    "categories = [\"F_immobile_mean\", \"F_constrained_mean\", \"F_normal_mean\"]\n",
    "for i in range(len(categories)):\n",
    "    plt.bar(\n",
    "        x=x,\n",
    "        height=df_fractions[categories[i]],\n",
    "        yerr=df_fractions[categories[i][:-4] + \"sem\"],\n",
    "        error_kw={\"elinewidth\": 1},\n",
    "        capsize=3,\n",
    "        label=labels,\n",
    "        bottom=bottom,\n",
    "        color=colors[i],\n",
    "    )\n",
    "    bottom += df_fractions[categories[i]]\n",
    "plt.title(\"+ 10% Dex\", size=15)\n",
    "plt.ylim(0, 1.05)\n",
    "plt.ylabel(\"Fraction\", size=15)\n",
    "plt.xticks(x, [\"0\", \"3\", \"6\", \"8\"], size=15)\n",
    "plt.yticks([0, 0.5, 1], size=15)\n",
    "fig.text(0.05, 0.075, \"Time, h\", fontsize=15)\n",
    "plt.gca().spines[:].set_linewidth(1)\n",
    "plt.gca().tick_params(\n",
    "    axis=\"y\",\n",
    "    which=\"major\",\n",
    "    labelsize=15,\n",
    "    direction=\"out\",\n",
    "    bottom=True,\n",
    "    left=True,\n",
    "    length=5,\n",
    "    width=1,\n",
    ")\n",
    "plt.xlabel(\"\")\n",
    "plt.tight_layout()\n",
    "plt.savefig(\"Fig3_Fracs_aging_10Dex_by_stepsize.png\", format=\"png\", bbox_inches=\"tight\", dpi=300)"
   ]
  },
  {
   "cell_type": "markdown",
   "id": "daeb83b3-6602-4170-8cb4-eeb4ab3a9114",
   "metadata": {},
   "source": [
    "#### Compare RNA"
   ]
  },
  {
   "cell_type": "code",
   "execution_count": 105,
   "id": "117102c8-1703-4f2e-b5a9-757c57fac4c3",
   "metadata": {
    "tags": []
   },
   "outputs": [
    {
     "data": {
      "image/png": "[encoded data removed]",
      "text/plain": [
       "<Figure size 400x400 with 1 Axes>"
      ]
     },
     "metadata": {},
     "output_type": "display_data"
    }
   ],
   "source": [
    "fig = plt.figure(figsize=(4, 4))\n",
    "x = [1, 2, 3, 4]\n",
    "labels = [\n",
    "    \"0Dex, -, 0h\",\n",
    "    \"0Dex, Hela, 0h\",\n",
    "    \"10Dex, -, 0h\",\n",
    "    \"10Dex, Hela, 0h\",\n",
    "]\n",
    "df_fractions = df_mean_error[df_mean_error[\"label\"].isin(labels)]\n",
    "bottom = np.zeros(len(x))\n",
    "categories = [\"F_immobile_mean\", \"F_constrained_mean\", \"F_normal_mean\"]\n",
    "for i in range(len(categories)):\n",
    "    plt.bar(\n",
    "        x=x,\n",
    "        height=df_fractions[categories[i]],\n",
    "        yerr=df_fractions[categories[i][:-4] + \"sem\"],\n",
    "        error_kw={\"elinewidth\": 1},\n",
    "        capsize=3,\n",
    "        label=labels,\n",
    "        bottom=bottom,\n",
    "        color=colors[i],\n",
    "    )\n",
    "    bottom += df_fractions[categories[i]]\n",
    "\n",
    "plt.ylim(0, 1.05)\n",
    "canvas_width = 0.55\n",
    "plt.xlim(1 - canvas_width, 4 + canvas_width)\n",
    "plt.ylabel(\"Fraction\", size=20)\n",
    "plt.xticks(x, [\"-\", \"+\", \"-\", \"+\"], size=25)\n",
    "plt.yticks([0, 0.5, 1], size=20)\n",
    "plt.gca().spines[:].set_linewidth(3)\n",
    "plt.gca().spines[['right', 'top', 'bottom']].set_visible(False)\n",
    "plt.gca().tick_params(\n",
    "    axis=\"y\",\n",
    "    which=\"major\",\n",
    "    labelsize=20,\n",
    "    direction=\"in\",\n",
    "    bottom=True,\n",
    "    left=True,\n",
    "    length=5,\n",
    "    width=3,\n",
    ")\n",
    "plt.xlabel(\"\")\n",
    "fig.text(-0.07, 0.065, \"Total RNA\", fontsize=20)\n",
    "line_y = 0.05\n",
    "fig.add_artist(lines.Line2D([0.265, 0.585], [line_y, line_y], c=\"k\", lw=3))\n",
    "fig.add_artist(lines.Line2D([0.62, 0.935], [line_y, line_y], c=\"k\", lw=3))\n",
    "second_row_y = -0.02\n",
    "fig.text(-0.07, second_row_y + 0.01, \"Dextran\", fontsize=20)\n",
    "fig.text(0.402, second_row_y, \"-\", fontsize=25)\n",
    "fig.text(0.742, second_row_y, \"+\", fontsize=25)\n",
    "plt.tight_layout()\n",
    "plt.savefig(\n",
    "    \"Fig3_Fracs_totalRNA_by_stepsize.png\", format=\"png\", bbox_inches=\"tight\", dpi=300\n",
    ")"
   ]
  },
  {
   "cell_type": "code",
   "execution_count": null,
   "id": "b5e1ff28-7e62-4071-a2df-5ece5bab30e7",
   "metadata": {},
   "outputs": [],
   "source": []
  }
 ],
 "metadata": {
  "kernelspec": {
   "display_name": "Python 3 (ipykernel)",
   "language": "python",
   "name": "python3"
  },
  "language_info": {
   "codemirror_mode": {
    "name": "ipython",
    "version": 3
   },
   "file_extension": ".py",
   "mimetype": "text/x-python",
   "name": "python",
   "nbconvert_exporter": "python",
   "pygments_lexer": "ipython3",
   "version": "3.9.16"
  }
 },
 "nbformat": 4,
 "nbformat_minor": 5
}
