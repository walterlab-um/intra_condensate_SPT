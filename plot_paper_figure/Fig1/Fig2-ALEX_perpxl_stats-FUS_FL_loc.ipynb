{
 "cells": [
  {
   "cell_type": "code",
   "execution_count": 44,
   "metadata": {},
   "outputs": [],
   "source": [
    "from tifffile import imread\n",
    "import os\n",
    "from os.path import join\n",
    "import matplotlib.pyplot as plt\n",
    "import numpy as np\n",
    "from scipy.stats import sem, pearsonr\n",
    "import pandas as pd\n",
    "import seaborn as sns\n",
    "\n",
    "sns.set(color_codes=True, style=\"white\")\n",
    "pd.options.mode.chained_assignment = None  # default='warn'"
   ]
  },
  {
   "cell_type": "markdown",
   "metadata": {},
   "source": [
    "### Load Data"
   ]
  },
  {
   "cell_type": "code",
   "execution_count": 2,
   "metadata": {},
   "outputs": [],
   "source": [
    "folder_FUS_FL = \"/Volumes/lsa-nwalter/Guoming_Gao_turbo/Walterlab_server/PROCESSED_DATA/RNA-diffusion-in-FUS/paper_figure_plots/bioRxiv_version_Figs/Fig3/FUS488_FL_PAINT/pooled_better_best\"\n",
    "folder_save = \"/Volumes/lsa-nwalter/Guoming_Gao_turbo/Walterlab_server/PROCESSED_DATA/RNA-diffusion-in-FUS/paper_figure_plots/Aug24_new_Figs/ALEX_perpxl_stats-FL_FUS_loc\"\n",
    "os.chdir(folder_FUS_FL)\n",
    "\n",
    "lst_fname_FUS_PAINT = [f for f in os.listdir(\".\") if f.endswith(\"-left-PAINT.tif\")]\n",
    "lst_fname_FL_PAINT = [f[:-14] + \"right-PAINT.tif\" for f in lst_fname_FUS_PAINT]\n",
    "lst_fname_FUS_step = [f[:-14] + \"left-stepsize.tif\" for f in lst_fname_FUS_PAINT]\n",
    "lst_fname_FL_step = [f[:-14] + \"right-stepsize.tif\" for f in lst_fname_FUS_PAINT]\n",
    "\n",
    "lst_FUS_PAINT = [imread(f) for f in lst_fname_FUS_PAINT]\n",
    "lst_FL_PAINT = [imread(f) for f in lst_fname_FL_PAINT]\n",
    "lst_FUS_step = [imread(f) for f in lst_fname_FUS_step]\n",
    "lst_FL_step = [imread(f) for f in lst_fname_FL_step]"
   ]
  },
  {
   "cell_type": "code",
   "execution_count": 3,
   "metadata": {},
   "outputs": [],
   "source": [
    "fontsize = 15"
   ]
  },
  {
   "cell_type": "markdown",
   "metadata": {},
   "source": [
    "### Functions"
   ]
  },
  {
   "cell_type": "code",
   "execution_count": 4,
   "metadata": {},
   "outputs": [],
   "source": [
    "def weighted_Pearson(img1_flatten, img2_flatten, weights):\n",
    "    # calculate mean for images and weights\n",
    "    mean_img1 = np.sum(img1_flatten * weights) / np.sum(weights)\n",
    "    mean_img2 = np.sum(img2_flatten * weights) / np.sum(weights)\n",
    "    mean_weights = np.mean(weights)\n",
    "\n",
    "    # calculate weighted covariance and variances\n",
    "    cov = np.sum(\n",
    "        weights * (img1_flatten - mean_img1) * (img2_flatten - mean_img2)\n",
    "    ) / np.sum(weights)\n",
    "    var_img1 = np.sum(weights * (img1_flatten - mean_img1) ** 2) / np.sum(weights)\n",
    "    var_img2 = np.sum(weights * (img2_flatten - mean_img2) ** 2) / np.sum(weights)\n",
    "\n",
    "    # calculate weighted correlation\n",
    "    weighted_corr = cov / np.sqrt(var_img1 * var_img2)\n",
    "\n",
    "    return weighted_corr"
   ]
  },
  {
   "cell_type": "markdown",
   "metadata": {},
   "source": [
    "### FUS PAINT - FL PAINT"
   ]
  },
  {
   "cell_type": "code",
   "execution_count": 45,
   "metadata": {},
   "outputs": [
    {
     "data": {
      "image/png": "[encoded data removed]",
      "text/plain": [
       "<Figure size 200x380 with 1 Axes>"
      ]
     },
     "metadata": {},
     "output_type": "display_data"
    }
   ],
   "source": [
    "pcc_abs_max = 0.4\n",
    "weighted_corr_FlocRloc = []\n",
    "lst_pval = []\n",
    "for img1, img2 in zip(lst_FUS_PAINT, lst_FL_PAINT):\n",
    "    img1_flatten = img1.flatten()\n",
    "    img2_flatten = img2.flatten()\n",
    "    weights = img1_flatten**1 + img2_flatten**1 # This is to prevent the empty pixels from\n",
    "    weighted_corr = weighted_Pearson(img1_flatten, img2_flatten, weights)\n",
    "    # weighted_corr, pval = pearsonr(img1_flatten, img2_flatten)\n",
    "    weighted_corr_FlocRloc.append(weighted_corr)\n",
    "    # lst_pval.append(pval)\n",
    "\n",
    "plt.figure(figsize=(2, 3.8))\n",
    "df = pd.DataFrame({\"value\": weighted_corr_FlocRloc}, dtype=float)\n",
    "sns.histplot(\n",
    "    data=df,\n",
    "    x=\"value\",\n",
    "    bins=17,\n",
    "    binrange=(-pcc_abs_max, pcc_abs_max),\n",
    "    stat=\"probability\",\n",
    "    lw=2,\n",
    "    element=\"step\",\n",
    "    color=\"gray\",\n",
    ")\n",
    "plt.axvline(0, c=\"k\", lw=2, ls=\"--\")\n",
    "plt.xlim(-pcc_abs_max, pcc_abs_max)\n",
    "plt.xticks([-0.3, 0, 0.3])\n",
    "# plt.ylim(0, 0.27)\n",
    "# plt.yticks([0, 0.1, 0.2])\n",
    "plt.xlabel(\"Weighted\\nPCC\", fontsize=fontsize)\n",
    "plt.ylabel(\"Probability\", fontsize=fontsize)\n",
    "plt.gca().tick_params(\n",
    "    axis=\"both\",\n",
    "    which=\"major\",\n",
    "    labelsize=fontsize,\n",
    "    direction=\"in\",\n",
    "    bottom=True,\n",
    "    left=True,\n",
    "    length=5,\n",
    "    width=1,\n",
    ")\n",
    "plt.savefig(\n",
    "    join(folder_save,\"weighted_pearson_FlocRloc.png\"), format=\"png\", dpi=300, bbox_inches=\"tight\"\n",
    ")\n",
    "# print(np.mean(weighted_corr_FlocRloc), sem(weighted_corr_FlocRloc))"
   ]
  },
  {
   "cell_type": "code",
   "execution_count": null,
   "metadata": {},
   "outputs": [],
   "source": []
  }
 ],
 "metadata": {
  "kernelspec": {
   "display_name": "spt",
   "language": "python",
   "name": "python3"
  },
  "language_info": {
   "codemirror_mode": {
    "name": "ipython",
    "version": 3
   },
   "file_extension": ".py",
   "mimetype": "text/x-python",
   "name": "python",
   "nbconvert_exporter": "python",
   "pygments_lexer": "ipython3",
   "version": "3.9.16"
  }
 },
 "nbformat": 4,
 "nbformat_minor": 2
}
