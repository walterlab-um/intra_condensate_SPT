{
 "cells": [
  {
   "cell_type": "code",
   "execution_count": null,
   "id": "575cbf99-7a13-455d-ba6f-ced24e3b94bb",
   "metadata": {
    "tags": []
   },
   "outputs": [],
   "source": [
    "import os\n",
    "import numpy as np\n",
    "import pandas as pd\n",
    "import matplotlib.pyplot as plt\n",
    "import matplotlib.lines as lines\n",
    "import matplotlib.colors as clr\n",
    "import seaborn as sns\n",
    "from statannot import add_stat_annotation\n",
    "from rich.progress import track\n",
    "\n",
    "# %matplotlib widget\n",
    "sns.set(color_codes=True, style=\"white\")\n",
    "pd.options.mode.chained_assignment = None  # default='warn'\n",
    "\n",
    "os.chdir(\n",
    "    \"/Volumes/lsa-nwalter/Guoming_Gao_turbo/Walterlab_server/PROCESSED_DATA/RNA-diffusion-in-FUS/RNAinFUS_PaperFigures/Fig3_aging crowding Hela\"\n",
    ")\n",
    "\n",
    "switch_calculate = False  # Whether to do the calculation or not"
   ]
  },
  {
   "cell_type": "markdown",
   "id": "193d66f3-70f8-4b85-aa33-5a5a6cf684a7",
   "metadata": {
    "jp-MarkdownHeadingCollapsed": true,
    "tags": []
   },
   "source": [
    "## Calculate Fraction Static & Constrained"
   ]
  },
  {
   "cell_type": "markdown",
   "id": "948d542a-0033-4cf0-8848-9933a9c46ac4",
   "metadata": {
    "tags": []
   },
   "source": [
    "### Thresholds, Path, Output structure"
   ]
  },
  {
   "cell_type": "code",
   "execution_count": null,
   "id": "523d1dd1-5f90-4d71-bd89-e928c8e24b75",
   "metadata": {
    "tags": []
   },
   "outputs": [],
   "source": [
    "# threshold for non static molecules\n",
    "threshold_max_d_anytwo_nm = 200\n",
    "# alpha component threshold for constrained diffusion\n",
    "threshold_alpha = 0.5\n",
    "# probability of an angle falls into the last bin, need a factor like 2 here to account for the stochastic nature of SM track\n",
    "min_length_for_angle = 30\n",
    "N_bins = 6\n",
    "threshold_last_bin_probability = (1 / N_bins) * 2\n",
    "\n",
    "\n",
    "dict_input_path = {\n",
    "    \"FL in Buffer\": \"SPT_results_AIO_concat-FL_in_buffer_pooled.csv\",\n",
    "    \"0Dex, -, 0h\": \"SPT_results_AIO_concat-0Dex_noTR_0hr.csv\",\n",
    "    \"0Dex, -, 3h\": \"SPT_results_AIO_concat-0Dex_noTR_3hr.csv\",\n",
    "    \"0Dex, -, 6h\": \"SPT_results_AIO_concat-0Dex_noTR_6hr.csv\",\n",
    "    \"0Dex, -, 8h\": \"SPT_results_AIO_concat-0Dex_noTR_8hr.csv\",\n",
    "    \"0Dex, Hela, 0h\": \"SPT_results_AIO_concat-0Dex_helaTR_1hr.csv\",\n",
    "    \"10Dex, -, 0h\": \"SPT_results_AIO_concat-10Dex_noTR_0hr.csv\",\n",
    "    \"10Dex, -, 3h\": \"SPT_results_AIO_concat-10Dex_noTR_3hr.csv\",\n",
    "    \"10Dex, -, 6h\": \"SPT_results_AIO_concat-10Dex_noTR_6hr.csv\",\n",
    "    \"10Dex, -, 8h\": \"SPT_results_AIO_concat-10Dex_noTR_8hr.csv\",\n",
    "    \"10Dex, Hela, 0h\": \"SPT_results_AIO_concat-10Dex_helaTR_0hr.csv\",\n",
    "}\n",
    "# calculate error bounds\n",
    "s_per_frame = 0.02\n",
    "loc_err = 0.03\n",
    "log10D_low = np.log10(loc_err**2 / ((8 / 3) * (s_per_frame)))\n",
    "\n",
    "columns = [\n",
    "    \"label\",\n",
    "    \"replicate_prefix\",\n",
    "    \"N, Total\",\n",
    "    \"N, Mobile\",\n",
    "    \"N, Constrained\",\n",
    "    \"Static Fraction\",\n",
    "    \"Constrained Fraction\",\n",
    "    \"N, Mobile, >\" + str(min_length_for_angle),\n",
    "    \"N, Constrained, by Angle\",\n",
    "    \"Constrained Fraction, by Angle\",\n",
    "]"
   ]
  },
  {
   "cell_type": "markdown",
   "id": "3303f158-ccce-4650-a211-80d4961e0332",
   "metadata": {
    "tags": []
   },
   "source": [
    "### Calculation"
   ]
  },
  {
   "cell_type": "code",
   "execution_count": null,
   "id": "e71b37cc-c3e0-4cb5-9692-0913fdf6a799",
   "metadata": {
    "tags": []
   },
   "outputs": [],
   "source": [
    "if switch_calculate:\n",
    "    # construct output dataframe\n",
    "    lst_rows_of_df = []\n",
    "    for key in track(dict_input_path.keys()):\n",
    "        df_current = pd.read_csv(dict_input_path[key])\n",
    "        lst_keys = df_current.keys().tolist()\n",
    "        df_current = df_current.astype(\n",
    "            {\n",
    "                \"linear_fit_log10D\": float,\n",
    "                \"max_d_anytwo_nm\": float,\n",
    "                \"alpha\": float,\n",
    "                \"N_steps\": int,\n",
    "                lst_keys[-1]: float,\n",
    "            }\n",
    "        )\n",
    "        # all filenames within the current condition/file\n",
    "        all_filenames = df_current[\"filename\"].unique().tolist()\n",
    "        # filename prefix for each replicate\n",
    "        replicate_prefixs = np.unique([f.split(\"FOV\")[0] for f in all_filenames])\n",
    "\n",
    "        for prefix in replicate_prefixs:\n",
    "            current_replicate_filenames = [f for f in all_filenames if prefix in f]\n",
    "            df_current_replicate = df_current[\n",
    "                df_current[\"filename\"].isin(current_replicate_filenames)\n",
    "            ]\n",
    "            df_mobile = df_current_replicate[\n",
    "                df_current_replicate[\"max_d_anytwo_nm\"] >= threshold_max_d_anytwo_nm\n",
    "            ]\n",
    "            df_constrained = df_mobile[df_mobile[\"alpha\"] <= threshold_alpha]\n",
    "\n",
    "            N_total = df_current_replicate.shape[0]\n",
    "            N_mobile = df_mobile.shape[0]\n",
    "            N_constrained = df_constrained.shape[0]\n",
    "\n",
    "            # For angle calcualtion\n",
    "            df_angle = df_mobile[df_mobile[\"N_steps\"] > min_length_for_angle]\n",
    "            N_total_angel = df_angle.shape[0]\n",
    "            N_constrained_angle = np.sum(\n",
    "                df_angle[lst_keys[-1]].to_numpy() > threshold_last_bin_probability\n",
    "            )\n",
    "            fraction_constrained_angle = N_constrained_angle / N_total_angel\n",
    "\n",
    "            if N_constrained < 1:\n",
    "                continue\n",
    "\n",
    "            F_static = (N_total - N_mobile) / N_total\n",
    "            F_constrained = N_constrained / N_mobile\n",
    "\n",
    "            # save\n",
    "            lst_rows_of_df.append(\n",
    "                [\n",
    "                    key,\n",
    "                    prefix,\n",
    "                    N_total,\n",
    "                    N_mobile,\n",
    "                    N_constrained,\n",
    "                    F_static,\n",
    "                    F_constrained,\n",
    "                    N_total_angel,\n",
    "                    N_constrained_angle,\n",
    "                    fraction_constrained_angle,\n",
    "                ]\n",
    "            )\n",
    "\n",
    "    df_save = pd.DataFrame.from_records(\n",
    "        lst_rows_of_df,\n",
    "        columns=columns,\n",
    "    )\n",
    "    df_save.to_csv(\"N_and_Fraction_per_replicate.csv\", index=False)"
   ]
  },
  {
   "cell_type": "markdown",
   "id": "4ce5f1df-3a6c-4eb6-bd10-456ca830a22b",
   "metadata": {},
   "source": [
    "# Plot Fraction Static & Constrained"
   ]
  },
  {
   "cell_type": "markdown",
   "id": "45076604-2fd0-43bc-ba96-4a50b2ea8cc3",
   "metadata": {
    "jp-MarkdownHeadingCollapsed": true,
    "tags": []
   },
   "source": [
    "#### Load data"
   ]
  },
  {
   "cell_type": "code",
   "execution_count": null,
   "id": "c96cc85e-0e43-44f8-9acb-f19df6227ccb",
   "metadata": {
    "tags": []
   },
   "outputs": [],
   "source": [
    "df_save = pd.read_csv(\"N_and_Fraction_per_replicate.csv\")\n",
    "lst_labels = df_save[\"label\"].unique()\n",
    "df_plot = df_save[df_save[\"N, Total\"] > 100].melt(\n",
    "    id_vars=[\"label\"],\n",
    "    value_vars=[\"Static Fraction\", \"Constrained Fraction\"],\n",
    ")"
   ]
  },
  {
   "cell_type": "markdown",
   "id": "2ab0eef1-5abf-405c-975c-11593b650c70",
   "metadata": {
    "jp-MarkdownHeadingCollapsed": true,
    "tags": []
   },
   "source": [
    "#### Colors"
   ]
  },
  {
   "cell_type": "code",
   "execution_count": null,
   "id": "10925146-7908-4e1a-aff6-f3a23b8c53ed",
   "metadata": {
    "tags": []
   },
   "outputs": [],
   "source": [
    "cmap_color_end = \"#00274C\"\n",
    "cmap_color_start = \"#FFCB05\"\n",
    "cmap_name = \"maize2blue\"\n",
    "cmap = clr.LinearSegmentedColormap.from_list(\n",
    "    cmap_name, [cmap_color_start, cmap_color_end], N=8\n",
    ")\n",
    "palette_1 = [\n",
    "    \"#848482\",\n",
    "    cmap(0 / 8),\n",
    "    cmap(3 / 8),\n",
    "    cmap(6 / 8),\n",
    "    cmap(8 / 8),\n",
    "]"
   ]
  },
  {
   "cell_type": "markdown",
   "id": "2fb3415e-89f3-4f7b-96e0-cb4c482499dc",
   "metadata": {},
   "source": [
    "## Static Fraction"
   ]
  },
  {
   "cell_type": "markdown",
   "id": "f2683d0b-8a67-46ac-8fea-a336f2944a65",
   "metadata": {
    "tags": []
   },
   "source": [
    "#### Aging, no Dextran"
   ]
  },
  {
   "cell_type": "code",
   "execution_count": null,
   "id": "ee8254fb-76af-453d-a4fe-9607ddb4154f",
   "metadata": {
    "tags": []
   },
   "outputs": [],
   "source": [
    "fig = plt.figure(figsize=(3, 4), dpi=300)\n",
    "data = df_plot[df_plot[\"variable\"] == \"Static Fraction\"]\n",
    "data = data[\n",
    "    data[\"label\"].isin(\n",
    "        [\"FL in Buffer\", \"0Dex, -, 0h\", \"0Dex, -, 3h\", \"0Dex, -, 6h\", \"0Dex, -, 8h\"]\n",
    "    )\n",
    "]\n",
    "ax = sns.barplot(\n",
    "    data=data,\n",
    "    x=\"label\",\n",
    "    y=\"value\",\n",
    "    palette=palette_1,\n",
    "    errorbar=\"sd\",\n",
    "    errwidth=2,\n",
    "    capsize=0.3,\n",
    ")\n",
    "ax = sns.stripplot(\n",
    "    data=data,\n",
    "    x=\"label\",\n",
    "    y=\"value\",\n",
    "    color=\"0.7\",\n",
    "    size=3,\n",
    ")\n",
    "plt.title(\"Aging, without Dextran\", weight=\"bold\")\n",
    "plt.ylim(0, 1)\n",
    "plt.ylabel(r\"Static Fraction, d$_{max}$ < 200 nm\", weight=\"bold\")\n",
    "\n",
    "ax.set_xticklabels([\"0\", \"0\", \"3\", \"6\", \"8\"])\n",
    "ax.xaxis.set_tick_params(labelsize=10, labelrotation=0)\n",
    "plt.xlabel(\"\")\n",
    "\n",
    "text_common_x = -0.05\n",
    "fig.text(text_common_x, 0.055, \"Time, hour\", fontsize=10, weight=\"bold\")\n",
    "second_row_y = -0.015\n",
    "fig.text(text_common_x, second_row_y, \"In Condensate\", fontsize=10, weight=\"bold\")\n",
    "fig.text(0.29, second_row_y, \"No\", fontsize=10)\n",
    "fig.text(0.62, second_row_y, \"Yes\", fontsize=10)\n",
    "\n",
    "line_y = 0.03\n",
    "fig.add_artist(lines.Line2D([0.39, 0.92], [line_y, line_y], c=\"k\", lw=3))\n",
    "\n",
    "\n",
    "plt.tight_layout()\n",
    "plt.savefig(\"F_static_noDex.png\", format=\"png\")\n",
    "plt.show()"
   ]
  },
  {
   "cell_type": "markdown",
   "id": "d468e8e8-2ee4-4dd1-b425-33d60f864e93",
   "metadata": {
    "jp-MarkdownHeadingCollapsed": true,
    "tags": []
   },
   "source": [
    "#### Aging, 10% Dextran"
   ]
  },
  {
   "cell_type": "code",
   "execution_count": null,
   "id": "6def3664-ae75-41b0-93a5-08c8201ec7a2",
   "metadata": {
    "tags": []
   },
   "outputs": [],
   "source": [
    "fig = plt.figure(figsize=(3, 4), dpi=300)\n",
    "data = df_plot[df_plot[\"variable\"] == \"Static Fraction\"]\n",
    "data = data[\n",
    "    data[\"label\"].isin(\n",
    "        [\"FL in Buffer\", \"10Dex, -, 0h\", \"10Dex, -, 3h\", \"10Dex, -, 6h\", \"10Dex, -, 8h\"]\n",
    "    )\n",
    "]\n",
    "ax = sns.barplot(\n",
    "    data=data,\n",
    "    x=\"label\",\n",
    "    y=\"value\",\n",
    "    palette=palette_1,\n",
    "    errorbar=\"sd\",\n",
    "    errwidth=2,\n",
    "    capsize=0.3,\n",
    ")\n",
    "ax = sns.stripplot(\n",
    "    data=data,\n",
    "    x=\"label\",\n",
    "    y=\"value\",\n",
    "    color=\"0.7\",\n",
    "    size=3,\n",
    ")\n",
    "plt.title(\"Aging, without Dextran\", weight=\"bold\")\n",
    "plt.ylim(0, 1)\n",
    "plt.ylabel(r\"Static Fraction, d$_{max}$ < 200 nm\", weight=\"bold\")\n",
    "\n",
    "ax.set_xticklabels([\"0\", \"0\", \"3\", \"6\", \"8\"])\n",
    "ax.xaxis.set_tick_params(labelsize=10, labelrotation=0)\n",
    "plt.xlabel(\"\")\n",
    "\n",
    "text_common_x = -0.05\n",
    "fig.text(text_common_x, 0.055, \"Time, hour\", fontsize=10, weight=\"bold\")\n",
    "second_row_y = -0.015\n",
    "fig.text(text_common_x, second_row_y, \"In Condensate\", fontsize=10, weight=\"bold\")\n",
    "fig.text(0.29, second_row_y, \"No\", fontsize=10)\n",
    "fig.text(0.62, second_row_y, \"Yes\", fontsize=10)\n",
    "\n",
    "line_y = 0.03\n",
    "fig.add_artist(lines.Line2D([0.39, 0.92], [line_y, line_y], c=\"k\", lw=3))\n",
    "\n",
    "plt.tight_layout()\n",
    "plt.savefig(\"F_static_10Dex.png\", format=\"png\")\n",
    "plt.show()"
   ]
  },
  {
   "cell_type": "markdown",
   "id": "f74e3395-2099-4a0a-96e3-c901f7aec78e",
   "metadata": {
    "jp-MarkdownHeadingCollapsed": true,
    "tags": []
   },
   "source": [
    "#### Compare RNA"
   ]
  },
  {
   "cell_type": "code",
   "execution_count": null,
   "id": "38b7eec2-c63b-4f7a-81eb-cce3d834b924",
   "metadata": {
    "tags": []
   },
   "outputs": [],
   "source": [
    "fig = plt.figure(figsize=(3, 4), dpi=300)\n",
    "data = df_plot[df_plot[\"variable\"] == \"Static Fraction\"]\n",
    "data = data[\n",
    "    data[\"label\"].isin(\n",
    "        [\"0Dex, -, 0h\", \"0Dex, Hela, 0h\", \"10Dex, -, 0h\", \"10Dex, Hela, 0h\"]\n",
    "    )\n",
    "]\n",
    "ax = sns.barplot(\n",
    "    data=data,\n",
    "    x=\"label\",\n",
    "    y=\"value\",\n",
    "    color=\"gray\",\n",
    "    errorbar=\"sd\",\n",
    "    errwidth=2,\n",
    "    capsize=0.3,\n",
    ")\n",
    "ax = sns.stripplot(\n",
    "    data=data,\n",
    "    x=\"label\",\n",
    "    y=\"value\",\n",
    "    color=\"0.7\",\n",
    "    size=3,\n",
    ")\n",
    "plt.title(\"Effect of Total RNA\", weight=\"bold\")\n",
    "plt.ylim(0, 1)\n",
    "plt.ylabel(r\"Static Fraction, d$_{max}$ < 200 nm\", weight=\"bold\")\n",
    "ax.set_xticklabels([\"-\", \"+\", \"-\", \"+\"])\n",
    "ax.xaxis.set_tick_params(labelsize=15)\n",
    "plt.xlabel(\"\")\n",
    "\n",
    "fig.text(-0.1, 0.06, \"Hela Total RNA\", fontsize=10, weight=\"bold\")\n",
    "\n",
    "line_y = 0.04\n",
    "fig.add_artist(lines.Line2D([0.27, 0.57], [line_y, line_y], c=\"k\", lw=3))\n",
    "fig.add_artist(lines.Line2D([0.62, 0.93], [line_y, line_y], c=\"k\", lw=3))\n",
    "\n",
    "\n",
    "fig.text(-0.1, 0, \"Dextran\", fontsize=10, weight=\"bold\")\n",
    "fig.text(0.39, 0, \"0%\", fontsize=10, weight=\"bold\")\n",
    "fig.text(0.73, 0, \"10%\", fontsize=10, weight=\"bold\")\n",
    "\n",
    "plt.tight_layout()\n",
    "plt.savefig(\"F_static_compareRNA.png\", format=\"png\")\n",
    "plt.show()"
   ]
  },
  {
   "cell_type": "markdown",
   "id": "64ea21e0-baed-46fa-8d27-737ca97d72f2",
   "metadata": {
    "jp-MarkdownHeadingCollapsed": true,
    "tags": []
   },
   "source": [
    "## Constrained Fraction, by alpha"
   ]
  },
  {
   "cell_type": "markdown",
   "id": "9301b5ac-d7eb-4951-91db-5f526ab0c948",
   "metadata": {
    "jp-MarkdownHeadingCollapsed": true,
    "tags": []
   },
   "source": [
    "#### Aging, no Dextran"
   ]
  },
  {
   "cell_type": "code",
   "execution_count": null,
   "id": "57e66886-b607-4e82-915c-dd2ae2e8ae61",
   "metadata": {
    "tags": []
   },
   "outputs": [],
   "source": [
    "fig = plt.figure(figsize=(3, 4), dpi=300)\n",
    "data = df_plot[df_plot[\"variable\"] == \"Constrained Fraction\"]\n",
    "data = data[\n",
    "    data[\"label\"].isin(\n",
    "        [\"FL in Buffer\", \"0Dex, -, 0h\", \"0Dex, -, 3h\", \"0Dex, -, 6h\", \"0Dex, -, 8h\"]\n",
    "    )\n",
    "]\n",
    "ax = sns.barplot(\n",
    "    data=data,\n",
    "    x=\"label\",\n",
    "    y=\"value\",\n",
    "    palette=palette_1,\n",
    "    errorbar=\"sd\",\n",
    "    errwidth=2,\n",
    "    capsize=0.3,\n",
    ")\n",
    "ax = sns.stripplot(\n",
    "    data=data,\n",
    "    x=\"label\",\n",
    "    y=\"value\",\n",
    "    color=\"0.7\",\n",
    "    size=3,\n",
    ")\n",
    "plt.title(\"Aging, without Dextran\", weight=\"bold\")\n",
    "plt.ylim(0, 1)\n",
    "plt.ylabel(r\"Constrained Fraction, $\\alpha < 0.5$\", weight=\"bold\")\n",
    "\n",
    "ax.set_xticklabels([\"0\", \"0\", \"3\", \"6\", \"8\"])\n",
    "ax.xaxis.set_tick_params(labelsize=10, labelrotation=0)\n",
    "plt.xlabel(\"\")\n",
    "\n",
    "text_common_x = -0.05\n",
    "fig.text(text_common_x, 0.055, \"Time, hour\", fontsize=10, weight=\"bold\")\n",
    "second_row_y = -0.015\n",
    "fig.text(text_common_x, second_row_y, \"In Condensate\", fontsize=10, weight=\"bold\")\n",
    "fig.text(0.29, second_row_y, \"No\", fontsize=10)\n",
    "fig.text(0.62, second_row_y, \"Yes\", fontsize=10)\n",
    "\n",
    "line_y = 0.03\n",
    "fig.add_artist(lines.Line2D([0.39, 0.92], [line_y, line_y], c=\"k\", lw=3))\n",
    "\n",
    "plt.tight_layout()\n",
    "plt.savefig(\"F_constrained_noDex.png\", format=\"png\")\n",
    "plt.show()"
   ]
  },
  {
   "cell_type": "markdown",
   "id": "0c1b50fe-de8a-4ac7-9dbf-ae44b2f52006",
   "metadata": {
    "jp-MarkdownHeadingCollapsed": true,
    "tags": []
   },
   "source": [
    "#### Aging, 10% Dextran"
   ]
  },
  {
   "cell_type": "code",
   "execution_count": null,
   "id": "e6a3af5a-3755-432e-aad3-da289b7053d1",
   "metadata": {
    "tags": []
   },
   "outputs": [],
   "source": [
    "fig = plt.figure(figsize=(3, 4), dpi=300)\n",
    "data = df_plot[df_plot[\"variable\"] == \"Constrained Fraction\"]\n",
    "data = data[\n",
    "    data[\"label\"].isin(\n",
    "        [\"FL in Buffer\", \"10Dex, -, 0h\", \"10Dex, -, 3h\", \"10Dex, -, 6h\", \"10Dex, -, 8h\"]\n",
    "    )\n",
    "]\n",
    "ax = sns.barplot(\n",
    "    data=data,\n",
    "    x=\"label\",\n",
    "    y=\"value\",\n",
    "    palette=palette_1,\n",
    "    errorbar=\"sd\",\n",
    "    errwidth=2,\n",
    "    capsize=0.3,\n",
    ")\n",
    "ax = sns.stripplot(\n",
    "    data=data,\n",
    "    x=\"label\",\n",
    "    y=\"value\",\n",
    "    color=\"0.7\",\n",
    "    size=3,\n",
    ")\n",
    "plt.title(\"Aging, without Dextran\", weight=\"bold\")\n",
    "plt.ylim(0, 1)\n",
    "plt.ylabel(r\"Constrained Fraction, $\\alpha < 0.5$\", weight=\"bold\")\n",
    "\n",
    "ax.set_xticklabels([\"0\", \"0\", \"3\", \"6\", \"8\"])\n",
    "ax.xaxis.set_tick_params(labelsize=10, labelrotation=0)\n",
    "plt.xlabel(\"\")\n",
    "\n",
    "text_common_x = -0.05\n",
    "fig.text(text_common_x, 0.055, \"Time, hour\", fontsize=10, weight=\"bold\")\n",
    "second_row_y = -0.015\n",
    "fig.text(text_common_x, second_row_y, \"In Condensate\", fontsize=10, weight=\"bold\")\n",
    "fig.text(0.29, second_row_y, \"No\", fontsize=10)\n",
    "fig.text(0.62, second_row_y, \"Yes\", fontsize=10)\n",
    "\n",
    "line_y = 0.03\n",
    "fig.add_artist(lines.Line2D([0.39, 0.92], [line_y, line_y], c=\"k\", lw=3))\n",
    "\n",
    "plt.tight_layout()\n",
    "plt.savefig(\"F_constrained_10Dex.png\", format=\"png\")\n",
    "plt.show()"
   ]
  },
  {
   "cell_type": "markdown",
   "id": "f0cd34d0-d2ee-4c0e-923c-feb8a4b7d68e",
   "metadata": {
    "tags": []
   },
   "source": [
    "#### Compare RNA"
   ]
  },
  {
   "cell_type": "code",
   "execution_count": null,
   "id": "ca64b91f-85fc-4e51-9d92-5bf8be25ef98",
   "metadata": {
    "tags": []
   },
   "outputs": [],
   "source": [
    "fig = plt.figure(figsize=(3, 4), dpi=300)\n",
    "data = df_plot[df_plot[\"variable\"] == \"Constrained Fraction\"]\n",
    "data = data[\n",
    "    data[\"label\"].isin(\n",
    "        [\"0Dex, -, 0h\", \"0Dex, Hela, 0h\", \"10Dex, -, 0h\", \"10Dex, Hela, 0h\"]\n",
    "    )\n",
    "]\n",
    "ax = sns.barplot(\n",
    "    data=data,\n",
    "    x=\"label\",\n",
    "    y=\"value\",\n",
    "    color=\"gray\",\n",
    "    errorbar=\"sd\",\n",
    "    errwidth=2,\n",
    "    capsize=0.3,\n",
    ")\n",
    "ax = sns.stripplot(\n",
    "    data=data,\n",
    "    x=\"label\",\n",
    "    y=\"value\",\n",
    "    color=\"0.7\",\n",
    "    size=3,\n",
    ")\n",
    "plt.title(\"Effect of Total RNA\", weight=\"bold\")\n",
    "plt.ylim(0, 1)\n",
    "plt.ylabel(r\"Static Fraction, d$_{max}$ < 200 nm\", weight=\"bold\")\n",
    "ax.set_xticklabels([\"-\", \"+\", \"-\", \"+\"])\n",
    "ax.xaxis.set_tick_params(labelsize=15)\n",
    "plt.xlabel(\"\")\n",
    "\n",
    "fig.text(-0.1, 0.06, \"Hela Total RNA\", fontsize=10, weight=\"bold\")\n",
    "\n",
    "line_y = 0.04\n",
    "fig.add_artist(lines.Line2D([0.27, 0.57], [line_y, line_y], c=\"k\", lw=3))\n",
    "fig.add_artist(lines.Line2D([0.62, 0.93], [line_y, line_y], c=\"k\", lw=3))\n",
    "\n",
    "\n",
    "fig.text(-0.1, 0, \"Dextran\", fontsize=10, weight=\"bold\")\n",
    "fig.text(0.39, 0, \"0%\", fontsize=10, weight=\"bold\")\n",
    "fig.text(0.73, 0, \"10%\", fontsize=10, weight=\"bold\")\n",
    "\n",
    "plt.tight_layout()\n",
    "plt.savefig(\"F_constrained_compareRNA.png\", format=\"png\")\n",
    "plt.show()"
   ]
  },
  {
   "cell_type": "markdown",
   "id": "831bfbeb-daea-49b0-bbb2-3fc9862a7af6",
   "metadata": {},
   "source": [
    "## Constrained Fraction, by angle"
   ]
  },
  {
   "cell_type": "markdown",
   "id": "8a839a99-a6bb-4518-ba19-09700e50e4e4",
   "metadata": {
    "jp-MarkdownHeadingCollapsed": true,
    "tags": []
   },
   "source": [
    "#### Aging, no Dextran"
   ]
  },
  {
   "cell_type": "code",
   "execution_count": null,
   "id": "a47de182-0ef5-4222-9ba9-2004e0635984",
   "metadata": {
    "tags": []
   },
   "outputs": [],
   "source": [
    "fig = plt.figure(figsize=(3, 4), dpi=300)\n",
    "data = df_plot[df_plot[\"variable\"] == \"Constrained Fraction\"]\n",
    "data = data[\n",
    "    data[\"label\"].isin(\n",
    "        [\"FL in Buffer\", \"0Dex, -, 0h\", \"0Dex, -, 3h\", \"0Dex, -, 6h\", \"0Dex, -, 8h\"]\n",
    "    )\n",
    "]\n",
    "ax = sns.barplot(\n",
    "    data=data,\n",
    "    x=\"label\",\n",
    "    y=\"value\",\n",
    "    palette=palette_1,\n",
    "    errorbar=\"sd\",\n",
    "    errwidth=2,\n",
    "    capsize=0.3,\n",
    ")\n",
    "ax = sns.stripplot(\n",
    "    data=data,\n",
    "    x=\"label\",\n",
    "    y=\"value\",\n",
    "    color=\"0.7\",\n",
    "    size=3,\n",
    ")\n",
    "plt.title(\"Aging, without Dextran\", weight=\"bold\")\n",
    "plt.ylim(0, 1)\n",
    "plt.ylabel(r\"Constrained Fraction, $\\alpha < 0.5$\", weight=\"bold\")\n",
    "\n",
    "ax.set_xticklabels([\"0\", \"0\", \"3\", \"6\", \"8\"])\n",
    "ax.xaxis.set_tick_params(labelsize=10, labelrotation=0)\n",
    "plt.xlabel(\"\")\n",
    "\n",
    "text_common_x = -0.05\n",
    "fig.text(text_common_x, 0.055, \"Time, hour\", fontsize=10, weight=\"bold\")\n",
    "second_row_y = -0.015\n",
    "fig.text(text_common_x, second_row_y, \"In Condensate\", fontsize=10, weight=\"bold\")\n",
    "fig.text(0.29, second_row_y, \"No\", fontsize=10)\n",
    "fig.text(0.62, second_row_y, \"Yes\", fontsize=10)\n",
    "\n",
    "line_y = 0.03\n",
    "fig.add_artist(lines.Line2D([0.39, 0.92], [line_y, line_y], c=\"k\", lw=3))\n",
    "\n",
    "plt.tight_layout()\n",
    "plt.savefig(\"F_constrained_noDex.png\", format=\"png\")\n",
    "plt.show()"
   ]
  },
  {
   "cell_type": "markdown",
   "id": "755042e8-4c86-4ed5-8c97-13ff66083d56",
   "metadata": {
    "jp-MarkdownHeadingCollapsed": true,
    "tags": []
   },
   "source": [
    "#### Aging, 10% Dextran"
   ]
  },
  {
   "cell_type": "code",
   "execution_count": null,
   "id": "44fb25b6-9243-4d23-bd9c-80dcc7ac34b9",
   "metadata": {
    "tags": []
   },
   "outputs": [],
   "source": [
    "fig = plt.figure(figsize=(3, 4), dpi=300)\n",
    "data = df_plot[df_plot[\"variable\"] == \"Constrained Fraction\"]\n",
    "data = data[\n",
    "    data[\"label\"].isin(\n",
    "        [\"FL in Buffer\", \"10Dex, -, 0h\", \"10Dex, -, 3h\", \"10Dex, -, 6h\", \"10Dex, -, 8h\"]\n",
    "    )\n",
    "]\n",
    "ax = sns.barplot(\n",
    "    data=data,\n",
    "    x=\"label\",\n",
    "    y=\"value\",\n",
    "    palette=palette_1,\n",
    "    errorbar=\"sd\",\n",
    "    errwidth=2,\n",
    "    capsize=0.3,\n",
    ")\n",
    "ax = sns.stripplot(\n",
    "    data=data,\n",
    "    x=\"label\",\n",
    "    y=\"value\",\n",
    "    color=\"0.7\",\n",
    "    size=3,\n",
    ")\n",
    "plt.title(\"Aging, without Dextran\", weight=\"bold\")\n",
    "plt.ylim(0, 1)\n",
    "plt.ylabel(r\"Constrained Fraction, $\\alpha < 0.5$\", weight=\"bold\")\n",
    "\n",
    "ax.set_xticklabels([\"0\", \"0\", \"3\", \"6\", \"8\"])\n",
    "ax.xaxis.set_tick_params(labelsize=10, labelrotation=0)\n",
    "plt.xlabel(\"\")\n",
    "\n",
    "text_common_x = -0.05\n",
    "fig.text(text_common_x, 0.055, \"Time, hour\", fontsize=10, weight=\"bold\")\n",
    "second_row_y = -0.015\n",
    "fig.text(text_common_x, second_row_y, \"In Condensate\", fontsize=10, weight=\"bold\")\n",
    "fig.text(0.29, second_row_y, \"No\", fontsize=10)\n",
    "fig.text(0.62, second_row_y, \"Yes\", fontsize=10)\n",
    "\n",
    "line_y = 0.03\n",
    "fig.add_artist(lines.Line2D([0.39, 0.92], [line_y, line_y], c=\"k\", lw=3))\n",
    "\n",
    "plt.tight_layout()\n",
    "plt.savefig(\"F_constrained_10Dex.png\", format=\"png\")\n",
    "plt.show()"
   ]
  },
  {
   "cell_type": "markdown",
   "id": "e08a4fd6-c48a-40e6-a8ee-72e591428931",
   "metadata": {
    "jp-MarkdownHeadingCollapsed": true,
    "tags": []
   },
   "source": [
    "#### Compare RNA"
   ]
  }
 ],
 "metadata": {
  "kernelspec": {
   "display_name": "Python 3 (ipykernel)",
   "language": "python",
   "name": "python3"
  },
  "language_info": {
   "codemirror_mode": {
    "name": "ipython",
    "version": 3
   },
   "file_extension": ".py",
   "mimetype": "text/x-python",
   "name": "python",
   "nbconvert_exporter": "python",
   "pygments_lexer": "ipython3",
   "version": "3.9.16"
  }
 },
 "nbformat": 4,
 "nbformat_minor": 5
}
