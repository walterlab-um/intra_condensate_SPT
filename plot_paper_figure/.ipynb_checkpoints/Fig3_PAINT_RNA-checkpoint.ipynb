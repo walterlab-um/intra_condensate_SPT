{
 "cells": [
  {
   "cell_type": "code",
   "execution_count": 1,
   "id": "194875db-8a0c-49f1-a0c3-d10432deba23",
   "metadata": {
    "tags": []
   },
   "outputs": [],
   "source": [
    "from tifffile import imread\n",
    "import os\n",
    "from os.path import exists\n",
    "import cv2\n",
    "import matplotlib.pyplot as plt\n",
    "import matplotlib.colors as clr\n",
    "import numpy as np\n",
    "import pandas as pd\n",
    "\n",
    "pd.options.mode.chained_assignment = None  # default='warn'"
   ]
  },
  {
   "cell_type": "markdown",
   "id": "22d485d1-c89b-4854-9595-14cf5e62eff2",
   "metadata": {},
   "source": [
    "## Parameters and path"
   ]
  },
  {
   "cell_type": "code",
   "execution_count": 2,
   "id": "82178fca-05d9-48ec-b517-4bfe124433d1",
   "metadata": {
    "tags": []
   },
   "outputs": [],
   "source": [
    "um_per_pixel = 0.117\n",
    "folder_save = \"/Volumes/lsa-nwalter/Guoming_Gao_turbo/Walterlab_server/PROCESSED_DATA/RNA-diffusion-in-FUS/RNAinFUS_PaperFigures/Fig3_D to organization_exclude hypothesis/RNA_PAINT\"\n",
    "os.chdir(folder_save)\n",
    "\n",
    "fname = \"20221031-FL_noTR_20ms_Replicate1_FOV-7-RNAs-spots_reformatted.csv\"\n",
    "df = pd.read_csv(fname)\n",
    "fname_condensate = \"condensates_AIO-20221031-FL_noTR_noDex_20ms_0hr_Replicate1_FOV-7-condensates_AveProj_Simple Segmentation.csv\"\n",
    "df_condensate = pd.read_csv(fname_condensate)\n",
    "\n",
    "plow = 5  # imshow intensity percentile\n",
    "phigh = 95\n",
    "line_color = \"white\"  # #00274C\n",
    "scalebar_color = \"white\"\n",
    "\n",
    "# color\n",
    "color_condensate_edge = \"#a7cced\"\n",
    "cmap_color_start = \"black\"\n",
    "cmap_color_end = \"#c61a3e\"\n",
    "cmap_name = \"dark2red\"\n",
    "cmap = clr.LinearSegmentedColormap.from_list(\n",
    "    cmap_name,\n",
    "    [cmap_color_start, cmap_color_end],\n",
    "    N=100,\n",
    ")\n",
    "\n",
    "\n",
    "scalebar_length_um = 5\n",
    "scalebar_length_pxl = scalebar_length_um / um_per_pixel"
   ]
  },
  {
   "cell_type": "markdown",
   "id": "04f4e777-f112-4946-a2f1-405090b3de5b",
   "metadata": {
    "tags": []
   },
   "source": [
    "## Construct PAINT image"
   ]
  },
  {
   "cell_type": "code",
   "execution_count": 3,
   "id": "a957f8e8-81b8-4320-8d7b-a3fae1116184",
   "metadata": {
    "tags": []
   },
   "outputs": [],
   "source": [
    "scaling_factor = 2\n",
    "um_per_pixel_PAINT = um_per_pixel / scaling_factor\n",
    "xedges = np.arange((418 + 1) * scaling_factor)\n",
    "yedges = np.arange((674 + 1) * scaling_factor)\n",
    "img_PAINT, _, _ = np.histogram2d(x=df[\"x\"]* scaling_factor, y=df[\"y\"]* scaling_factor, bins=(xedges, yedges))\n",
    "\n",
    "\n",
    "scalebar_length_pxl = scalebar_length_um * scaling_factor / um_per_pixel"
   ]
  },
  {
   "cell_type": "code",
   "execution_count": 4,
   "id": "0fc200b9-fe72-4154-8db4-ef1bb8092e81",
   "metadata": {
    "tags": []
   },
   "outputs": [
    {
     "data": {
      "text/plain": [
       "(837, 1349)"
      ]
     },
     "execution_count": 4,
     "metadata": {},
     "output_type": "execute_result"
    }
   ],
   "source": [
    "img_PAINT.shape"
   ]
  },
  {
   "cell_type": "code",
   "execution_count": 6,
   "id": "45efefda-802b-4846-974d-d81fefa5dc09",
   "metadata": {
    "tags": []
   },
   "outputs": [
    {
     "name": "stdout",
     "output_type": "stream",
     "text": [
      "(837, 1349)\n"
     ]
    },
    {
     "data": {
      "image/png": "[encoded data removed]",
      "text/plain": [
       "<Figure size 640x480 with 1 Axes>"
      ]
     },
     "metadata": {},
     "output_type": "display_data"
    }
   ],
   "source": [
    "scale_bar_offset = 20\n",
    "\n",
    "plt.figure()\n",
    "# PAINT\n",
    "print(img_PAINT.shape)\n",
    "plt.imshow(\n",
    "    img_PAINT,\n",
    "    cmap=cmap,\n",
    "    vmin=0,\n",
    "    vmax=3,\n",
    "    resample=False,\n",
    ")\n",
    "\n",
    "# plot condensate boundaries, with swapped x and y\n",
    "# for condensateID in df_condensate[\"condensateID\"].unique():\n",
    "#     str_condensate_coords = df_condensate[\n",
    "#         df_condensate[\"condensateID\"] == condensateID\n",
    "#     ][\"contour_coord\"].squeeze()\n",
    "#     x = []\n",
    "#     y = []\n",
    "#     for str_condensate_xy in str_condensate_coords[2:-2].split(\"], [\"):\n",
    "#         xy = str_condensate_xy.split(\", \")\n",
    "#         # swapped x and y\n",
    "#         y.append(int(xy[0]) * scaling_factor)\n",
    "#         x.append(int(xy[1]) * scaling_factor)\n",
    "#     plt.plot(x, y, \"-\", color=color_condensate_edge, linewidth=0.1)\n",
    "#     # still the last closing line will be missing, get it below\n",
    "#     xlast = [x[-1], x[0]]\n",
    "#     ylast = [y[-1], y[0]]\n",
    "#     plt.plot(xlast, ylast, \"-\", color=color_condensate_edge, linewidth=0.1)\n",
    "\n",
    "# scale bar\n",
    "plt.plot(\n",
    "    [scale_bar_offset, scale_bar_offset + scalebar_length_pxl],\n",
    "    [scale_bar_offset, scale_bar_offset],\n",
    "    \"-\",\n",
    "    color=scalebar_color,\n",
    "    lw=5,\n",
    ")\n",
    "plt.gca().invert_yaxis()\n",
    "plt.axis(\"scaled\")\n",
    "# plt.axis(\"off\")\n",
    "fname_save = fname.split(\"RNA\")[0] + \"PAINT_overview.png\"\n",
    "plt.savefig(fname_save, bbox_inches=\"tight\", format=\"png\", dpi=1200)\n",
    "plt.show()"
   ]
  },
  {
   "cell_type": "code",
   "execution_count": null,
   "id": "cd871a53-1537-4f15-bf3a-4adaf8177e97",
   "metadata": {},
   "outputs": [],
   "source": []
  }
 ],
 "metadata": {
  "kernelspec": {
   "display_name": "Python 3 (ipykernel)",
   "language": "python",
   "name": "python3"
  },
  "language_info": {
   "codemirror_mode": {
    "name": "ipython",
    "version": 3
   },
   "file_extension": ".py",
   "mimetype": "text/x-python",
   "name": "python",
   "nbconvert_exporter": "python",
   "pygments_lexer": "ipython3",
   "version": "3.9.16"
  }
 },
 "nbformat": 4,
 "nbformat_minor": 5
}
