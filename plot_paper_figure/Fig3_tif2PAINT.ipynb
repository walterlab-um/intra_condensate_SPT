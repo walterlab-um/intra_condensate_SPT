{
 "cells": [
  {
   "cell_type": "code",
   "execution_count": 82,
   "id": "194875db-8a0c-49f1-a0c3-d10432deba23",
   "metadata": {
    "tags": []
   },
   "outputs": [],
   "source": [
    "from tifffile import imread\n",
    "import os\n",
    "import matplotlib.pyplot as plt\n",
    "import matplotlib.colors as clr\n",
    "from matplotlib import cm\n",
    "import numpy as np\n",
    "import pandas as pd\n",
    "\n",
    "pd.options.mode.chained_assignment = None  # default='warn'"
   ]
  },
  {
   "cell_type": "markdown",
   "id": "22d485d1-c89b-4854-9595-14cf5e62eff2",
   "metadata": {},
   "source": [
    "## Parameters and path"
   ]
  },
  {
   "cell_type": "code",
   "execution_count": 83,
   "id": "bf31d49d-d7e3-4683-a180-80fe83e08960",
   "metadata": {
    "tags": []
   },
   "outputs": [],
   "source": [
    "line_color = \"white\"  # #00274C\n",
    "scalebar_color = \"white\"\n",
    "\n",
    "colors = [(0,0,1,c) for c in np.linspace(0,1,100)]\n",
    "cmap_name = \"transparant2blue\"\n",
    "cmap_blue = clr.LinearSegmentedColormap.from_list(\n",
    "    cmap_name,\n",
    "    colors,\n",
    "    N=100,\n",
    ")\n",
    "\n",
    "colors = [(1,0,0,c) for c in np.linspace(0,1,100)]\n",
    "cmap_name = \"transparant2red\"\n",
    "cmap_red = clr.LinearSegmentedColormap.from_list(\n",
    "    cmap_name,\n",
    "    colors,\n",
    "    N=100,\n",
    ")"
   ]
  },
  {
   "cell_type": "code",
   "execution_count": 84,
   "id": "82178fca-05d9-48ec-b517-4bfe124433d1",
   "metadata": {
    "tags": []
   },
   "outputs": [],
   "source": [
    "folder_save = \"/Volumes/lsa-nwalter/Guoming_Gao_turbo/Walterlab_server/PROCESSED_DATA/RNA-diffusion-in-FUS/RNAinFUS_PaperFigures/Fig3_coralled by nano domains/FUS488_miR21_PAINT_final\"\n",
    "os.chdir(folder_save)"
   ]
  },
  {
   "cell_type": "markdown",
   "id": "b242b6a3-9db7-4b7f-be12-37e5a7aa2614",
   "metadata": {},
   "source": [
    "### FUS plot"
   ]
  },
  {
   "cell_type": "code",
   "execution_count": 85,
   "id": "fbd0a7f5-af0f-4e5f-94dc-5ce5f3612d1b",
   "metadata": {
    "tags": []
   },
   "outputs": [],
   "source": [
    "fname = \"20230914-FOV-3-merge-SMLM-zoom-3.tif\"\n",
    "img = imread(fname)\n",
    "img_red = img[0, :, :]\n",
    "img_blue = img[1, :, :]"
   ]
  },
  {
   "cell_type": "code",
   "execution_count": 86,
   "id": "77c04cfe-a119-4ef2-abf8-a69a45ef497b",
   "metadata": {
    "tags": []
   },
   "outputs": [
    {
     "data": {
      "image/png": "[encoded data removed]",
      "text/plain": [
       "<Figure size 640x480 with 1 Axes>"
      ]
     },
     "metadata": {},
     "output_type": "display_data"
    }
   ],
   "source": [
    "plt.figure()\n",
    "vmin, vmax = np.quantile(\n",
    "    img_blue.reshape(-1),\n",
    "    (0.1, 0.95),\n",
    "    )\n",
    "plt.imshow(\n",
    "    img_blue,\n",
    "    cmap=cmap_blue,\n",
    "    vmin=vmin,\n",
    "    vmax=vmax,\n",
    ")\n",
    "plt.axis(\"off\")\n",
    "plt.savefig(\n",
    "    fname[:-4]+\"-blue.png\",\n",
    "    dpi=300, format=\"png\",\n",
    "    bbox_inches=\"tight\",\n",
    ")"
   ]
  },
  {
   "cell_type": "code",
   "execution_count": 87,
   "id": "d96b50a1",
   "metadata": {},
   "outputs": [
    {
     "data": {
      "image/png": "[encoded data removed]",
      "text/plain": [
       "<Figure size 640x480 with 1 Axes>"
      ]
     },
     "metadata": {},
     "output_type": "display_data"
    }
   ],
   "source": [
    "plt.figure()\n",
    "vmin, vmax = np.quantile(\n",
    "    img_red.reshape(-1),\n",
    "    (0.1, 0.99),\n",
    ")\n",
    "plt.imshow(\n",
    "    img_red,\n",
    "    cmap=cmap_red,\n",
    "    vmin=vmin,\n",
    "    vmax=vmax,\n",
    ")\n",
    "plt.axis(\"off\")\n",
    "plt.savefig(\n",
    "    fname[:-4]+\"-red.png\",\n",
    "    dpi=300, format=\"png\",\n",
    "    bbox_inches=\"tight\",\n",
    ")"
   ]
  },
  {
   "cell_type": "code",
   "execution_count": 88,
   "id": "ef3911bc",
   "metadata": {},
   "outputs": [
    {
     "data": {
      "image/png": "[encoded data removed]",
      "text/plain": [
       "<Figure size 640x480 with 1 Axes>"
      ]
     },
     "metadata": {},
     "output_type": "display_data"
    }
   ],
   "source": [
    "plt.figure()\n",
    "vmin, vmax = np.quantile(\n",
    "    img_blue.reshape(-1),\n",
    "    (0.1, 0.95),\n",
    "    )\n",
    "plt.imshow(\n",
    "    img_blue,\n",
    "    cmap=cmap_blue,\n",
    "    vmin=vmin,\n",
    "    vmax=vmax,\n",
    "    alpha=0.7,\n",
    ")\n",
    "vmin, vmax = np.quantile(\n",
    "    img_red.reshape(-1),\n",
    "    (0.1, 0.99),\n",
    ")\n",
    "plt.imshow(\n",
    "    img_red,\n",
    "    cmap=cmap_red,\n",
    "    vmin=vmin,\n",
    "    vmax=vmax,\n",
    "    alpha=0.7,\n",
    ")\n",
    "plt.axis(\"off\")\n",
    "plt.savefig(\n",
    "    fname[:-4]+\"-overlay.png\",\n",
    "    dpi=300, format=\"png\",\n",
    "    bbox_inches=\"tight\",\n",
    ")"
   ]
  },
  {
   "cell_type": "code",
   "execution_count": 89,
   "id": "45e1212f",
   "metadata": {},
   "outputs": [
    {
     "data": {
      "image/png": "[encoded data removed]",
      "text/plain": [
       "<Figure size 640x480 with 1 Axes>"
      ]
     },
     "metadata": {},
     "output_type": "display_data"
    }
   ],
   "source": [
    "plt.figure()\n",
    "vmin, vmax = np.quantile(\n",
    "    img_blue.reshape(-1),\n",
    "    (0.1, 0.95),\n",
    "    )\n",
    "plt.imshow(\n",
    "    img_blue,\n",
    "    cmap=cmap_blue,\n",
    "    vmin=vmin,\n",
    "    vmax=vmax,\n",
    "    alpha=0.5,\n",
    ")\n",
    "vmin, vmax = np.quantile(\n",
    "    img_blue.reshape(-1),\n",
    "    (0.1, 0.95),\n",
    "    )\n",
    "plt.imshow(\n",
    "    img_blue,\n",
    "    cmap=cmap_red,\n",
    "    vmin=vmin,\n",
    "    vmax=vmax,\n",
    "    alpha=0.5,\n",
    ")\n",
    "# plt.imshow(\n",
    "#     img_red,\n",
    "#     cmap=cmap_red,\n",
    "#     alpha=0.7,\n",
    "# )\n",
    "# plt.imshow(\n",
    "#     img_red,\n",
    "#     cmap=cmap_blue,\n",
    "#     alpha=0.7,\n",
    "# )\n",
    "\n",
    "plt.axis(\"off\")\n",
    "plt.savefig(\n",
    "    fname[:-4]+\"-overlay-poscontrol.png\",\n",
    "    dpi=300, format=\"png\",\n",
    "    bbox_inches=\"tight\",\n",
    ")"
   ]
  },
  {
   "cell_type": "code",
   "execution_count": null,
   "id": "db8a3b00",
   "metadata": {},
   "outputs": [],
   "source": []
  }
 ],
 "metadata": {
  "kernelspec": {
   "display_name": "Python 3 (ipykernel)",
   "language": "python",
   "name": "python3"
  },
  "language_info": {
   "codemirror_mode": {
    "name": "ipython",
    "version": 3
   },
   "file_extension": ".py",
   "mimetype": "text/x-python",
   "name": "python",
   "nbconvert_exporter": "python",
   "pygments_lexer": "ipython3",
   "version": "3.9.16"
  }
 },
 "nbformat": 4,
 "nbformat_minor": 5
}
