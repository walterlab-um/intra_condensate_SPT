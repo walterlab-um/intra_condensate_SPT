{
 "cells": [
  {
   "cell_type": "code",
   "execution_count": 1,
   "id": "def919e4-733d-4304-bd53-b8c3f58f7d61",
   "metadata": {
    "tags": []
   },
   "outputs": [],
   "source": [
    "import os\n",
    "import numpy as np\n",
    "import pandas as pd\n",
    "import matplotlib.pyplot as plt\n",
    "import seaborn as sns\n",
    "from statannot import add_stat_annotation\n",
    "from rich.progress import track\n",
    "\n",
    "sns.set(color_codes=True, style=\"white\")\n",
    "pd.options.mode.chained_assignment = None  # default='warn'"
   ]
  },
  {
   "cell_type": "code",
   "execution_count": 2,
   "id": "86e36cf1-74dc-4c26-9d93-e80fa88f50af",
   "metadata": {
    "tags": []
   },
   "outputs": [],
   "source": [
    "os.chdir(\n",
    "    \"/Volumes/lsa-nwalter/Guoming_Gao_turbo/Walterlab_server/PROCESSED_DATA/RNA-diffusion-in-FUS/RNAinFUS_PaperFigures/Fig3_D to organization_exclude hypothesis/crowding_aging_Hela\"\n",
    ")\n",
    "data = pd.read_csv(\"N_and_Fraction_per_replicate.csv\")\n",
    "\n",
    "lst_labels = [\n",
    "    \"0Dex, -, 0h\",\n",
    "    \"0Dex, -, 3h\",\n",
    "    \"0Dex, -, 6h\",\n",
    "    \"0Dex, -, 8h\",\n",
    "    \"0Dex, Hela, 0h\",\n",
    "    \"10Dex, -, 0h\",\n",
    "    \"10Dex, -, 3h\",\n",
    "    \"10Dex, -, 6h\",\n",
    "    \"10Dex, -, 8h\",\n",
    "    \"10Dex, Hela, 0h\",\n",
    "]\n",
    "\n",
    "color_palette = [\n",
    "    \"#9b2226\",\n",
    "    \"#8d2a2e\",\n",
    "    \"#582326\",\n",
    "    \"#333232\",\n",
    "]"
   ]
  },
  {
   "cell_type": "code",
   "execution_count": 8,
   "id": "c4b933c9-2240-4c9c-8bdb-564d0530d0bb",
   "metadata": {
    "tags": []
   },
   "outputs": [],
   "source": [
    "N_total = data[\"N, Total\"].to_numpy(int)\n",
    "N_mobile = data[\"N, Mobile\"].to_numpy(int)\n",
    "N_static = N_total - N_mobile\n",
    "N_constrained = data[\"N, Constrained\"].to_numpy(int)\n",
    "N_normal = N_mobile - N_constrained\n",
    "\n",
    "frac_static = N_static / N_total\n",
    "frac_constrained = N_constrained / N_total\n",
    "frac_normal = N_normal / N_total\n",
    "\n",
    "data[\"Static\"] = frac_static\n",
    "data[\"Constrained\"] = frac_constrained\n",
    "data[\"Normal\"] = frac_normal"
   ]
  },
  {
   "cell_type": "markdown",
   "id": "7acae672-87aa-4d0a-855d-6fd9f9e14958",
   "metadata": {},
   "source": [
    "### No Dex Aging"
   ]
  },
  {
   "cell_type": "code",
   "execution_count": 13,
   "id": "bfc18a5a-3745-4691-ab37-c5c6df60bba2",
   "metadata": {
    "tags": []
   },
   "outputs": [
    {
     "data": {
      "text/plain": [
       "<Figure size 900x1500 with 0 Axes>"
      ]
     },
     "metadata": {},
     "output_type": "display_data"
    },
    {
     "data": {
      "image/png": "[encoded data removed]",
      "text/plain": [
       "<Figure size 640x480 with 1 Axes>"
      ]
     },
     "metadata": {},
     "output_type": "display_data"
    }
   ],
   "source": [
    "plt.figure(figsize=(3, 5), dpi=300)\n",
    "labels = [\n",
    "    \"0Dex, -, 0h\",\n",
    "    \"0Dex, -, 3h\",\n",
    "    \"0Dex, -, 6h\",\n",
    "    \"0Dex, -, 8h\",\n",
    "]\n",
    "df_fractions = data[data[\"label\"].isin(labels)][\n",
    "    [\"label\", \"Static\", \"Constrained\", \"Normal\"]\n",
    "]\n",
    "\n",
    "df_toplot.set_index(\"label\").plot(kind=\"bar\", stacked=True)\n",
    "\n",
    "plt.show()"
   ]
  },
  {
   "cell_type": "code",
   "execution_count": null,
   "id": "0550c8d1-9deb-427d-b76e-703ec69a9b6f",
   "metadata": {},
   "outputs": [],
   "source": []
  }
 ],
 "metadata": {
  "kernelspec": {
   "display_name": "Python 3 (ipykernel)",
   "language": "python",
   "name": "python3"
  },
  "language_info": {
   "codemirror_mode": {
    "name": "ipython",
    "version": 3
   },
   "file_extension": ".py",
   "mimetype": "text/x-python",
   "name": "python",
   "nbconvert_exporter": "python",
   "pygments_lexer": "ipython3",
   "version": "3.9.16"
  }
 },
 "nbformat": 4,
 "nbformat_minor": 5
}
