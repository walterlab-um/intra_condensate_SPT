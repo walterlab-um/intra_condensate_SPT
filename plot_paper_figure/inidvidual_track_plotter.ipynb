{
 "cells": [
  {
   "cell_type": "markdown",
   "id": "51f29edc-e19b-4e2f-b1a7-d684359df6bb",
   "metadata": {},
   "source": [
    "## Import"
   ]
  },
  {
   "cell_type": "code",
   "execution_count": 1,
   "id": "25ad71bd-5d3e-4ebb-b555-0aad0e58921a",
   "metadata": {
    "tags": []
   },
   "outputs": [],
   "source": [
    "import os\n",
    "from os.path import dirname\n",
    "import numpy as np\n",
    "import pandas as pd\n",
    "import matplotlib.pyplot as plt\n",
    "import matplotlib.colors as clr\n",
    "from matplotlib import cm\n",
    "import scipy.stats as stats\n",
    "import seaborn as sns\n",
    "\n",
    "sns.set(color_codes=True, style=\"white\")\n",
    "pd.options.mode.chained_assignment = None  # default='warn'"
   ]
  },
  {
   "cell_type": "markdown",
   "id": "b719122a-a02a-4017-986b-5fc04cc54fce",
   "metadata": {},
   "source": [
    "## color and saving"
   ]
  },
  {
   "cell_type": "code",
   "execution_count": 2,
   "id": "d7f3cbcd-77db-4d85-a4d0-5467edd79f46",
   "metadata": {
    "tags": []
   },
   "outputs": [],
   "source": [
    "color = \"#9a3324\"\n",
    "\n",
    "cmap_color_start = \"#00274C\"\n",
    "cmap_color_end = \"#FFCB05\"\n",
    "cmap_name = \"blue2maize\"\n",
    "\n",
    "folder_save = \"/Volumes/lsa-nwalter/Guoming_Gao_turbo/Walterlab_server/PROCESSED_DATA/RNA-diffusion-in-FUS/RNAinFUS_PaperFigures/Fig1_system design/c_boundary_w_RNAtracks/example_zoomed_in_tracks\"\n",
    "os.chdir(folder_save)\n",
    "\n",
    "fname_save_prefix = \"zoomed_in_RNA_track-medium-1\"\n",
    "switch_read_from_file = False"
   ]
  },
  {
   "cell_type": "markdown",
   "id": "f5cc745f-d536-486d-9f89-70bc74b3b044",
   "metadata": {},
   "source": [
    "## Raw data for the track (Option 1: Mannualy input)"
   ]
  },
  {
   "cell_type": "code",
   "execution_count": 3,
   "id": "e4453c9a-e617-4305-b515-635950f6127a",
   "metadata": {
    "tags": []
   },
   "outputs": [],
   "source": [
    "t = np.array([66, 67, 68, 69, 70, 71, 72, 73, 74])\n",
    "\n",
    "x = np.array([359.0999603216336, 359.1518357880511, 359.16992333346207, 359.07353161911885, 358.9427875637448, 358.9907009993234, 359.0664234042857, 359.01675923600965, 359.07413426609133])\n",
    "\n",
    "y = np.array([293.6775698443444, 293.8412718088889, 293.7338226474401, 293.7927171387158, 293.6275252912915, 293.4037061460879, 293.49352039458955, 293.4134967144984, 293.63256185659424])\n",
    "\n",
    "MSD = np.array([0.0003847414861754311, 0.0005691466835525396, 0.0010144209807679912, 0.0013070307230908438, 0.0012555662632979016, 0.0011666013309117984])\n",
    "\n",
    "tau = np.array([0.02, 0.04, 0.06, 0.08, 0.1, 0.12])"
   ]
  },
  {
   "cell_type": "markdown",
   "id": "ea88398d-64f6-4416-9e0a-aa1ada900126",
   "metadata": {},
   "source": [
    "## Transform to physical unit"
   ]
  },
  {
   "cell_type": "code",
   "execution_count": 4,
   "id": "1586b0a5-5cb8-4448-8de6-ea623ce27f69",
   "metadata": {
    "tags": []
   },
   "outputs": [],
   "source": [
    "nm_per_pxl = 117\n",
    "s_per_frame = 0.02\n",
    "\n",
    "x = (x - (x.min() + x.max())/2) * nm_per_pxl\n",
    "y = (y - (y.min() + y.max())/2) * nm_per_pxl\n",
    "t = (t - t[0]) * s_per_frame"
   ]
  },
  {
   "cell_type": "markdown",
   "id": "5e1aca42-4a6b-46d4-ab72-0b214337d37c",
   "metadata": {},
   "source": [
    "## Raw data for the track (Option 2: from file)"
   ]
  },
  {
   "cell_type": "code",
   "execution_count": 5,
   "id": "ff2b6105-81bc-4461-a42f-599c52cf6742",
   "metadata": {
    "tags": []
   },
   "outputs": [],
   "source": [
    "if switch_read_from_file:\n",
    "    df_load = pd.read_csv(fname_save_prefix + \"-data.csv\")\n",
    "    t = df_load[df_load[\"variable\"] == \"t_s\"][\"value\"].to_numpy(dtype=float)\n",
    "    x = df_load[df_load[\"variable\"] == \"x_nm\"][\"value\"].to_numpy(dtype=float)\n",
    "    y = df_load[df_load[\"variable\"] == \"y_nm\"][\"value\"].to_numpy(dtype=float)\n",
    "    MSD = df_load[df_load[\"variable\"] == \"MSD_um2\"][\"value\"].to_numpy(dtype=float)\n",
    "    tau = df_load[df_load[\"variable\"] == \"tau_s\"][\"value\"].to_numpy(dtype=float)"
   ]
  },
  {
   "cell_type": "markdown",
   "id": "6dffbba8-9106-4d04-9c4a-9cce91f405bb",
   "metadata": {},
   "source": [
    "## Save data for replot"
   ]
  },
  {
   "cell_type": "code",
   "execution_count": 6,
   "id": "6975e7e4-d102-4114-ac5e-8543a476d2d7",
   "metadata": {
    "tags": []
   },
   "outputs": [],
   "source": [
    "value = np.concatenate([t, x, y, MSD, tau])\n",
    "variable = np.concatenate([\n",
    "    np.repeat(\"t_s\", t.shape[0]),\n",
    "    np.repeat(\"x_nm\", x.shape[0]),\n",
    "    np.repeat(\"y_nm\", y.shape[0]),\n",
    "    np.repeat(\"MSD_um2\", MSD.shape[0]),\n",
    "    np.repeat(\"tau_s\", tau.shape[0]),\n",
    "])\n",
    "df_save = pd.DataFrame({\n",
    "    \"variable\":variable,\n",
    "    \"value\":value,\n",
    "}, dtype=object)\n",
    "df_save.to_csv(fname_save_prefix + \"-data.csv\", index=False)"
   ]
  },
  {
   "cell_type": "markdown",
   "id": "e2fe62fd-c4b0-46af-bb23-831b9fec0568",
   "metadata": {},
   "source": [
    "# Plot RNA track"
   ]
  },
  {
   "cell_type": "code",
   "execution_count": 7,
   "id": "a348d972-5bc2-4a81-a13f-9780d5e78ad0",
   "metadata": {
    "tags": []
   },
   "outputs": [
    {
     "data": {
      "image/png": "[encoded data removed]",
      "text/plain": [
       "<Figure size 500x650 with 2 Axes>"
      ]
     },
     "metadata": {},
     "output_type": "display_data"
    }
   ],
   "source": [
    "cmap = clr.LinearSegmentedColormap.from_list(\n",
    "    cmap_name, [cmap_color_start, cmap_color_end], N=x.shape[0]\n",
    ")\n",
    "\n",
    "plt.figure(figsize=(5,6.5))\n",
    "for i in range(len(t) - 1):\n",
    "    plt.plot(\n",
    "        x[i : i + 2],\n",
    "        y[i : i + 2],\n",
    "        \"-o\",\n",
    "        color=cmap(i/ len(t)),\n",
    "        linewidth=3,\n",
    "    )\n",
    "plt.axis(\"equal\")\n",
    "plt.xlabel(\"X, nm\", weight='bold')\n",
    "plt.ylabel(\"Y, nm\", weight='bold')\n",
    "cbar = plt.colorbar(cm.ScalarMappable(norm=clr.Normalize(t[0], t[-1]), cmap=cmap), ax=plt.gca(), orientation=\"horizontal\", pad=0.11, fraction=0.15)\n",
    "cbar.set_label(label='Time, s', weight='bold')\n",
    "plt.savefig(fname_save_prefix + \"-track-autoscale.png\", format='png', dpi=600, bbox_inches='tight')\n",
    "plt.xlim(-500, 500)\n",
    "plt.ylim(-500, 500)\n",
    "plt.savefig(fname_save_prefix + \"-track-1umscale.png\", format='png', dpi=600, bbox_inches='tight')\n",
    "plt.show()"
   ]
  },
  {
   "cell_type": "markdown",
   "id": "6d134280-51a1-48d5-b08d-e63e583e9876",
   "metadata": {},
   "source": [
    "# Plot MSD-tau"
   ]
  },
  {
   "cell_type": "markdown",
   "id": "4744185d-3f5a-466a-b8bc-776faf671f49",
   "metadata": {},
   "source": [
    "## Equation:\n",
    "\n",
    "- MSD = 2 n D tau^alpha = 4 D tau^alpha\n",
    "- log(MSD) = alpha * log(tau) + log(D) + log(4)\n",
    "- slope = alpha; intercept = log(D) + log(4)"
   ]
  },
  {
   "cell_type": "code",
   "execution_count": 8,
   "id": "1784c54e-36a5-4d4f-a4b3-082bbd2c38de",
   "metadata": {
    "tags": []
   },
   "outputs": [
    {
     "data": {
      "image/png": "[encoded data removed]",
      "text/plain": [
       "<Figure size 500x300 with 1 Axes>"
      ]
     },
     "metadata": {},
     "output_type": "display_data"
    }
   ],
   "source": [
    "plt.figure(figsize=(5,3))\n",
    "plt.plot(tau, MSD, color=color, ls='-', marker='o', label=\"All\")\n",
    "plt.xlabel(\"tau, s\", weight='bold')\n",
    "plt.ylabel(r\"MSD, $\\mu$m$^{2}$\", weight='bold')\n",
    "plt.savefig(fname_save_prefix + \"-MSDtau.png\", format='png', dpi=600, bbox_inches='tight')\n",
    "plt.show()"
   ]
  },
  {
   "cell_type": "code",
   "execution_count": 9,
   "id": "471e554f-e140-44f9-b520-d1718f64ff1f",
   "metadata": {
    "tags": []
   },
   "outputs": [
    {
     "data": {
      "image/png": "[encoded data removed]",
      "text/plain": [
       "<Figure size 500x300 with 1 Axes>"
      ]
     },
     "metadata": {},
     "output_type": "display_data"
    }
   ],
   "source": [
    "plt.figure(figsize=(5,3))\n",
    "plt.plot(tau, MSD, color=color, ls='-', marker='o', label=\"All\")\n",
    "plt.gca().set_yscale('log')\n",
    "plt.gca().set_xscale('log')\n",
    "plt.xlabel(\"tau, s\", weight='bold')\n",
    "plt.ylabel(r\"MSD, $\\mu$m$^{2}$\", weight='bold')\n",
    "plt.savefig(fname_save_prefix + \"-MSDtau-loglog.png\", format='png', dpi=600, bbox_inches='tight')\n",
    "plt.show()"
   ]
  },
  {
   "cell_type": "markdown",
   "id": "904805c3-5e72-430f-b7e3-9ad47c891617",
   "metadata": {},
   "source": [
    "## Max d to center"
   ]
  },
  {
   "cell_type": "code",
   "execution_count": 10,
   "id": "dc931d7c-6dcf-4b47-87d4-1d0956b2396f",
   "metadata": {
    "tags": []
   },
   "outputs": [
    {
     "data": {
      "text/plain": [
       "27.368462558070945"
      ]
     },
     "execution_count": 10,
     "metadata": {},
     "output_type": "execute_result"
    }
   ],
   "source": [
    "max_d_to_center = np.sqrt(np.max((x - x.mean())**2 + (y -  y.mean())**2))\n",
    "d_to_center = np.sqrt((x - x.mean())**2 + (y -  y.mean())**2)\n",
    "max_d_to_center"
   ]
  },
  {
   "cell_type": "markdown",
   "id": "1f7da0b6-d63c-4c72-83a0-9f6001de7ce8",
   "metadata": {},
   "source": [
    "## Max d to start"
   ]
  },
  {
   "cell_type": "code",
   "execution_count": 11,
   "id": "a6304b37-22b9-4519-a482-428d5a0aa131",
   "metadata": {
    "tags": []
   },
   "outputs": [
    {
     "data": {
      "text/plain": [
       "34.49792661435348"
      ]
     },
     "execution_count": 11,
     "metadata": {},
     "output_type": "execute_result"
    }
   ],
   "source": [
    "max_d_to_start = np.sqrt(np.max((x - x[0])**2 + (y -  y[0])**2))\n",
    "d_to_start = np.sqrt((x - x[0])**2 + (y -  y[0])**2)\n",
    "max_d_to_start"
   ]
  },
  {
   "cell_type": "markdown",
   "id": "601d74d1-76cd-428e-ab52-d172d45ea2e0",
   "metadata": {},
   "source": [
    "## Max d between any two points"
   ]
  },
  {
   "cell_type": "code",
   "execution_count": 12,
   "id": "bef4fc0f-1c1b-4acf-97f2-67a9a39da4c8",
   "metadata": {
    "tags": []
   },
   "outputs": [
    {
     "data": {
      "text/plain": [
       "54.55615147137104"
      ]
     },
     "execution_count": 12,
     "metadata": {},
     "output_type": "execute_result"
    }
   ],
   "source": [
    "np.max(np.sqrt((x-np.atleast_2d(x).T)**2 + (y-np.atleast_2d(y).T)**2))"
   ]
  },
  {
   "cell_type": "code",
   "execution_count": 13,
   "id": "3e8907ab-274a-4caa-9a64-5b85f161bc98",
   "metadata": {
    "tags": []
   },
   "outputs": [
    {
     "data": {
      "text/plain": [
       "1"
      ]
     },
     "execution_count": 13,
     "metadata": {},
     "output_type": "execute_result"
    }
   ],
   "source": [
    "vals, counts = np.unique(x, return_counts=True)\n",
    "counts.max()"
   ]
  },
  {
   "cell_type": "code",
   "execution_count": 14,
   "id": "b1897172-1363-4df1-a712-746564c9c07f",
   "metadata": {
    "tags": []
   },
   "outputs": [
    {
     "data": {
      "text/plain": [
       "1"
      ]
     },
     "execution_count": 14,
     "metadata": {},
     "output_type": "execute_result"
    }
   ],
   "source": [
    "vals, counts = np.unique(y, return_counts=True)\n",
    "counts.max()"
   ]
  },
  {
   "cell_type": "code",
   "execution_count": null,
   "id": "7a6f1c93-c9f9-46ae-ac5c-17713ee8d35e",
   "metadata": {},
   "outputs": [],
   "source": []
  }
 ],
 "metadata": {
  "kernelspec": {
   "display_name": "Python 3 (ipykernel)",
   "language": "python",
   "name": "python3"
  },
  "language_info": {
   "codemirror_mode": {
    "name": "ipython",
    "version": 3
   },
   "file_extension": ".py",
   "mimetype": "text/x-python",
   "name": "python",
   "nbconvert_exporter": "python",
   "pygments_lexer": "ipython3",
   "version": "3.9.16"
  }
 },
 "nbformat": 4,
 "nbformat_minor": 5
}
