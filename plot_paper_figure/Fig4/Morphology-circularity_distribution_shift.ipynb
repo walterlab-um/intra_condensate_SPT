{
 "cells": [
  {
   "cell_type": "code",
   "execution_count": 59,
   "id": "3df85541-f0e0-4ae7-8e29-3c0b9eee29fc",
   "metadata": {
    "tags": []
   },
   "outputs": [],
   "source": [
    "import os\n",
    "from os.path import join\n",
    "import cv2\n",
    "from scipy.interpolate import splprep, splev\n",
    "import math\n",
    "import pickle\n",
    "import numpy as np\n",
    "import pandas as pd\n",
    "import matplotlib.pyplot as plt\n",
    "import seaborn as sns\n",
    "from rich.progress import track\n",
    "\n",
    "sns.set(color_codes=True, style=\"white\")\n",
    "pd.options.mode.chained_assignment = None  # default='warn'\n",
    "\n",
    "labels = [\n",
    "    # \"0 h\", # removed due to small dataset size and fuzzy distribution\n",
    "    \"8 h\",\n",
    "    \"24 h\",\n",
    "]\n",
    "\n",
    "color1 = \"#f7a863\"\n",
    "color2 = \"#d25743\"\n",
    "color3 = \"#2b3744\"\n",
    "palette = [\n",
    "    # color1,\n",
    "    color2,\n",
    "    color3,\n",
    "]\n",
    "\n",
    "folder_save = \"/Volumes/lsa-nwalter/Guoming_Gao_turbo/Walterlab_server/PROCESSED_DATA/RNA-diffusion-in-FUS/paper_figure_plots/post_bioRxiv_Figs/Morphology-aging\"\n",
    "\n",
    "\n",
    "# For first time calculation only\n",
    "folder_data = \"/Volumes/lsa-nwalter/Guoming_Gao_turbo/Walterlab_server/PROCESSED_DATA/RNA-diffusion-in-FUS/all_SPT_in_condensates/Reconstruction_20ms-FUS488_10kframes-aging\"\n",
    "folders = [\n",
    "    # \"contours_0h\",\n",
    "    \"contours_8h\",\n",
    "    \"contours_24h\",\n",
    "]"
   ]
  },
  {
   "cell_type": "markdown",
   "id": "f98b124d-ca89-45dc-8a59-5961e397af45",
   "metadata": {
    "tags": []
   },
   "source": [
    "## Calculate and save"
   ]
  },
  {
   "cell_type": "code",
   "execution_count": 60,
   "id": "2cc71efe",
   "metadata": {},
   "outputs": [
    {
     "data": {
      "text/html": [
       "<pre style=\"white-space:pre;overflow-x:auto;line-height:normal;font-family:Menlo,'DejaVu Sans Mono',consolas,'Courier New',monospace\"></pre>\n"
      ],
      "text/plain": [
       "\u001b[?25l"
      ]
     },
     "metadata": {},
     "output_type": "display_data"
    },
    {
     "data": {
      "application/vnd.jupyter.widget-view+json": {
       "model_id": "0f6981931e414905bd688627c87ef5d3",
       "version_major": 2,
       "version_minor": 0
      },
      "text/plain": [
       "Output()"
      ]
     },
     "metadata": {},
     "output_type": "display_data"
    },
    {
     "data": {
      "text/html": [
       "<pre style=\"white-space:pre;overflow-x:auto;line-height:normal;font-family:Menlo,'DejaVu Sans Mono',consolas,'Courier New',monospace\">\n",
       "</pre>\n"
      ],
      "text/plain": [
       "\n",
       "\u001b[?25h"
      ]
     },
     "metadata": {},
     "output_type": "display_data"
    },
    {
     "data": {
      "text/html": [
       "<pre style=\"white-space:pre;overflow-x:auto;line-height:normal;font-family:Menlo,'DejaVu Sans Mono',consolas,'Courier New',monospace\"></pre>\n"
      ],
      "text/plain": [
       "\u001b[?25l"
      ]
     },
     "metadata": {},
     "output_type": "display_data"
    },
    {
     "data": {
      "application/vnd.jupyter.widget-view+json": {
       "model_id": "99fbed8cb3a24e87ad3622c998035c25",
       "version_major": 2,
       "version_minor": 0
      },
      "text/plain": [
       "Output()"
      ]
     },
     "metadata": {},
     "output_type": "display_data"
    },
    {
     "data": {
      "text/html": [
       "<pre style=\"white-space:pre;overflow-x:auto;line-height:normal;font-family:Menlo,'DejaVu Sans Mono',consolas,'Courier New',monospace\">\n",
       "</pre>\n"
      ],
      "text/plain": [
       "\n",
       "\u001b[?25h"
      ]
     },
     "metadata": {},
     "output_type": "display_data"
    }
   ],
   "source": [
    "def smooth_contour(contour):\n",
    "    # Extract x and y coordinates\n",
    "    x, y = contour[:, 0, 0], contour[:, 0, 1]\n",
    "\n",
    "    # Fit a spline to the contour points\n",
    "    tck, u = splprep([x, y], s=1.0, per=1)\n",
    "\n",
    "    # Generate new points along the spline\n",
    "    u_new = np.linspace(u.min(), u.max(), 25)\n",
    "    x_new, y_new = splev(u_new, tck, der=0)\n",
    "\n",
    "    # Convert back to contour format\n",
    "    return np.array([[int(x), int(y)] for x, y in zip(x_new, y_new)], dtype=np.int32).reshape(-1, 1, 2)\n",
    "\n",
    "def calculate_circularity(contour):\n",
    "    area = cv2.contourArea(contour)\n",
    "    perimeter = cv2.arcLength(contour, True)\n",
    "    if perimeter == 0:\n",
    "        return 0\n",
    "    circularity = 4 * math.pi * (area / (perimeter * perimeter))\n",
    "    return circularity\n",
    "\n",
    "\n",
    "os.chdir(folder_data)\n",
    "lst_rows = []\n",
    "for label, folder in zip(labels, folders):  # loop each condition\n",
    "    lst_fname = [f for f in os.listdir(join(folder_data, folder)) if f.endswith(\".p\")]\n",
    "    for fname in track(lst_fname, description=folder):\n",
    "        with open(join(folder_data, folder, fname), \"rb\") as file:\n",
    "            contour = pickle.load(file)\n",
    "        smoothed_contour = smooth_contour(contour)\n",
    "        circularity = calculate_circularity(smoothed_contour)\n",
    "        lst_rows.append([label, fname, circularity])\n",
    "df_raw = pd.DataFrame(\n",
    "    lst_rows,\n",
    "    columns=[\"label\", \"fname\", \"circularity\"],\n",
    "    dtype=object,\n",
    ")\n",
    "df_raw = df_raw.astype(\n",
    "    {\n",
    "        \"label\": str,\n",
    "        \"fname\": str,\n",
    "        \"circularity\": float,\n",
    "    }\n",
    ")\n",
    "df_raw.to_csv(\n",
    "    join(folder_save, \"circularity_per_condition_per_condensate.csv\"),\n",
    "    index=False,\n",
    ")"
   ]
  },
  {
   "cell_type": "markdown",
   "id": "14cbf304",
   "metadata": {},
   "source": [
    "# Circularity distribution"
   ]
  },
  {
   "cell_type": "code",
   "execution_count": 75,
   "id": "7a90e199",
   "metadata": {},
   "outputs": [
    {
     "data": {
      "image/png": "[encoded data removed]",
      "text/plain": [
       "<Figure size 500x200 with 1 Axes>"
      ]
     },
     "metadata": {},
     "output_type": "display_data"
    }
   ],
   "source": [
    "fontsize = 20\n",
    "plt.figure(figsize=(5, 2))\n",
    "bins = 17\n",
    "ax = sns.histplot(\n",
    "    data=df_raw,\n",
    "    x=\"circularity\",\n",
    "    hue=\"label\",\n",
    "    palette=palette,\n",
    "    bins=bins,\n",
    "    stat=\"probability\",\n",
    "    common_norm=False,\n",
    "    binrange=(0.1, 1),\n",
    "    lw=2,\n",
    "    element=\"step\",\n",
    "    # fill=False,\n",
    "    # cumulative=True,\n",
    "    # legend=False,\n",
    ")\n",
    "sns.move_legend(\n",
    "    ax,\n",
    "    \"lower center\",\n",
    "    bbox_to_anchor=(0.45, 1.1),\n",
    "    ncol=3,\n",
    "    title=None,\n",
    "    frameon=False,\n",
    "    fontsize=fontsize,\n",
    ")\n",
    "plt.xlim(0.1, 1)\n",
    "# plt.xticks([0, 90, 180])\n",
    "plt.ylim(0, 0.1)\n",
    "plt.yticks([0, 0.03, 0.06, 0.09])\n",
    "plt.xlabel(\"Circularity\", fontsize=fontsize)\n",
    "plt.ylabel(\"Probability\", fontsize=fontsize)\n",
    "plt.gca().spines[:].set_linewidth(1)\n",
    "plt.gca().tick_params(\n",
    "    axis=\"both\",\n",
    "    which=\"major\",\n",
    "    labelsize=fontsize,\n",
    "    direction=\"in\",\n",
    "    bottom=True,\n",
    "    left=True,\n",
    "    length=5,\n",
    "    width=1,\n",
    ")\n",
    "plt.gca().set_axisbelow(False)\n",
    "plt.gca().tick_params(axis=\"both\", which=\"major\", labelsize=18)\n",
    "plt.savefig(\"circularity_histo.png\", format=\"png\", bbox_inches=\"tight\", dpi=600)"
   ]
  },
  {
   "cell_type": "code",
   "execution_count": null,
   "id": "6e107d8b",
   "metadata": {},
   "outputs": [],
   "source": [
    "#"
   ]
  }
 ],
 "metadata": {
  "kernelspec": {
   "display_name": "spt",
   "language": "python",
   "name": "python3"
  },
  "language_info": {
   "codemirror_mode": {
    "name": "ipython",
    "version": 3
   },
   "file_extension": ".py",
   "mimetype": "text/x-python",
   "name": "python",
   "nbconvert_exporter": "python",
   "pygments_lexer": "ipython3",
   "version": "3.9.16"
  }
 },
 "nbformat": 4,
 "nbformat_minor": 5
}
