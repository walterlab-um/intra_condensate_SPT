{
 "cells": [
  {
   "cell_type": "code",
   "execution_count": 1,
   "id": "194875db-8a0c-49f1-a0c3-d10432deba23",
   "metadata": {
    "tags": []
   },
   "outputs": [],
   "source": [
    "import os\n",
    "from os.path import exists, join\n",
    "\n",
    "import matplotlib.animation as animation\n",
    "import matplotlib.colors as clr\n",
    "import matplotlib.pyplot as plt\n",
    "import numpy as np\n",
    "import pandas as pd\n",
    "from scipy.ndimage import gaussian_filter\n",
    "from tifffile import imread\n",
    "import ffmpeg\n",
    "\n",
    "pd.options.mode.chained_assignment = None  # default='warn'"
   ]
  },
  {
   "cell_type": "markdown",
   "id": "22d485d1-c89b-4854-9595-14cf5e62eff2",
   "metadata": {},
   "source": [
    "### Parameters and path"
   ]
  },
  {
   "cell_type": "code",
   "execution_count": 2,
   "id": "82178fca-05d9-48ec-b517-4bfe124433d1",
   "metadata": {
    "tags": []
   },
   "outputs": [],
   "source": [
    "um_per_pixel = 0.117\n",
    "s_per_frame = 0.03\n",
    "folder_save = \"/Volumes/lsa-nwalter/Guoming_Gao_turbo/Walterlab_server/PROCESSED_DATA/RNA-diffusion-in-FUS/RNAinFUS_PaperFigures/Fig2_diffusion analysis/multi_stage_diffusion_examples/selected_montage\"\n",
    "\n",
    "os.chdir(folder_save)\n",
    "video = imread(\"Merged_cropped_3stage_leaving.tif\")\n",
    "df = pd.read_csv(\"track.csv\")\n",
    "df = df.sort_values(\"t\")\n",
    "\n",
    "plow = 0.5  # imshow intensity percentile\n",
    "phigh = 90\n",
    "scalebar_color = \"white\"\n",
    "\n",
    "cmap_color_start = \"black\"\n",
    "cmap_color_end = \"#B9DBF4\"\n",
    "cmap_name = \"dark2blue\"\n",
    "cmap_blue = clr.LinearSegmentedColormap.from_list(\n",
    "    cmap_name,\n",
    "    [cmap_color_start, cmap_color_end],\n",
    ")\n",
    "\n",
    "cmap_color_start = (0.753, 0.22, 0.188, 0)\n",
    "cmap_color_end = (0.753, 0.22, 0.188, 1)\n",
    "cmap_name = \"transparent2red\"\n",
    "cmap_red = clr.LinearSegmentedColormap.from_list(\n",
    "    cmap_name,\n",
    "    [cmap_color_start, cmap_color_end],\n",
    ")\n",
    "\n",
    "scalebar_length_um = 1\n",
    "scalebar_length_pxl = scalebar_length_um / um_per_pixel\n",
    "scale_bar_offset = 1"
   ]
  },
  {
   "cell_type": "markdown",
   "id": "4482fc16-be41-4d79-856a-930732cb15f0",
   "metadata": {},
   "source": [
    "### All Frames but last, no scale bar"
   ]
  },
  {
   "cell_type": "code",
   "execution_count": 3,
   "id": "7d85d81c-81e9-4146-b634-e261ae6b1cdc",
   "metadata": {
    "tags": []
   },
   "outputs": [],
   "source": [
    "for frame in [10, 46, 66, 93, 115, 126, 137]:\n",
    "    img_blue = video[frame - 1, 1, :, :]\n",
    "    img_red = video[frame - 1, 0, :, :]\n",
    "    fig, ax = plt.subplots(1, 1)\n",
    "    plt.imshow(\n",
    "        img_blue,\n",
    "        cmap=cmap_blue,\n",
    "        vmin=3100,\n",
    "        vmax=5600,\n",
    "    )\n",
    "    plt.imshow(\n",
    "        img_red,\n",
    "        cmap=cmap_red,\n",
    "        vmin=2,\n",
    "        vmax=6,\n",
    "    )\n",
    "\n",
    "    # Add current circle\n",
    "    current_x = df[df[\"t\"] == frame - 1][\"x\"].squeeze()\n",
    "    current_y = df[df[\"t\"] == frame - 1][\"y\"].squeeze()\n",
    "    c = plt.Circle(\n",
    "        (current_x, current_y),\n",
    "        2.5,\n",
    "        color=\"white\",\n",
    "        fill=False,\n",
    "        lw=3,\n",
    "    )\n",
    "    ax.add_patch(c)\n",
    "\n",
    "    # Add track\n",
    "    track = df[df[\"t\"] <= frame - 1]\n",
    "    plt.plot(\n",
    "        track[\"x\"],\n",
    "        track[\"y\"],\n",
    "        color=\"white\",\n",
    "        lw=2,\n",
    "        ls=\"-\",\n",
    "        marker=\"o\",\n",
    "    )\n",
    "\n",
    "    plt.xlim(0, img_blue.shape[0])\n",
    "    plt.ylim(0, img_blue.shape[1])\n",
    "    plt.gca().invert_yaxis()\n",
    "    plt.tight_layout()\n",
    "    plt.axis(\"scaled\")\n",
    "    plt.axis(\"off\")\n",
    "\n",
    "    plt.savefig(\n",
    "        str(frame) + \".png\",\n",
    "        format=\"png\",\n",
    "        bbox_inches=\"tight\",\n",
    "        dpi=300,\n",
    "        transparent=True,\n",
    "    )\n",
    "    plt.close()"
   ]
  },
  {
   "cell_type": "markdown",
   "id": "74662c27",
   "metadata": {},
   "source": [
    "### Last frame with scale bar"
   ]
  },
  {
   "cell_type": "code",
   "execution_count": 4,
   "id": "dcfd61d4",
   "metadata": {},
   "outputs": [
    {
     "data": {
      "image/png": "[encoded data removed]",
      "text/plain": [
       "<Figure size 640x480 with 1 Axes>"
      ]
     },
     "metadata": {},
     "output_type": "display_data"
    }
   ],
   "source": [
    "frame = 138\n",
    "img_blue = video[frame - 1, 1, :, :]\n",
    "img_red = video[frame - 1, 0, :, :]\n",
    "fig, ax = plt.subplots(1, 1)\n",
    "plt.imshow(\n",
    "    img_blue,\n",
    "    cmap=cmap_blue,\n",
    "    vmin=3100,\n",
    "    vmax=5600,\n",
    ")\n",
    "plt.imshow(\n",
    "    img_red,\n",
    "    cmap=cmap_red,\n",
    "    vmin=2,\n",
    "    vmax=6,\n",
    ")\n",
    "\n",
    "# Add track\n",
    "track = df[df[\"t\"] <= frame - 1]\n",
    "plt.plot(\n",
    "    track[\"x\"],\n",
    "    track[\"y\"],\n",
    "    color=\"white\",\n",
    "    lw=2,\n",
    "    ls=\"-\",\n",
    "    marker=\"o\",\n",
    ")\n",
    "\n",
    "# scale bar\n",
    "scale_bar_offset = 0\n",
    "scalebar_length_um = 1\n",
    "base_x = 11.1\n",
    "base_y = 6.7\n",
    "scalebar_length_pxl = scalebar_length_um / um_per_pixel\n",
    "plt.plot(\n",
    "    [\n",
    "        base_x + scale_bar_offset,\n",
    "        base_x + scale_bar_offset + scalebar_length_pxl,\n",
    "    ],\n",
    "    [base_y + scale_bar_offset, base_y + scale_bar_offset],\n",
    "    \"-\",\n",
    "    color=\"white\",\n",
    "    lw=5,\n",
    ")\n",
    "\n",
    "plt.xlim(0, img_blue.shape[0])\n",
    "plt.ylim(0, img_blue.shape[1])\n",
    "plt.gca().invert_yaxis()\n",
    "plt.tight_layout()\n",
    "plt.axis(\"scaled\")\n",
    "plt.axis(\"off\")\n",
    "\n",
    "plt.savefig(\n",
    "    str(frame) + \".png\",\n",
    "    format=\"png\",\n",
    "    bbox_inches=\"tight\",\n",
    "    dpi=300,\n",
    "    transparent=True,\n",
    ")"
   ]
  },
  {
   "cell_type": "markdown",
   "id": "8c4741ef",
   "metadata": {},
   "source": [
    "### All frames with scale bar to video"
   ]
  },
  {
   "cell_type": "code",
   "execution_count": 26,
   "id": "237c4e48",
   "metadata": {},
   "outputs": [
    {
     "data": {
      "image/png": "[encoded data removed]",
      "text/plain": [
       "<Figure size 640x480 with 1 Axes>"
      ]
     },
     "metadata": {},
     "output_type": "display_data"
    }
   ],
   "source": [
    "from matplotlib.animation import FuncAnimation\n",
    "\n",
    "fig, ax = plt.subplots(1, 1)\n",
    "all_avaliable_frames = set(df[\"t\"].unique())\n",
    "\n",
    "\n",
    "def animate(frame):\n",
    "    ax.clear()\n",
    "    img_blue = video[frame - 1, 1, :, :]\n",
    "    img_red = video[frame - 1, 0, :, :]\n",
    "    plt.imshow(\n",
    "        img_blue,\n",
    "        cmap=cmap_blue,\n",
    "        vmin=3100,\n",
    "        vmax=5600,\n",
    "    )\n",
    "    plt.imshow(\n",
    "        img_red,\n",
    "        cmap=cmap_red,\n",
    "        vmin=2,\n",
    "        vmax=6,\n",
    "    )\n",
    "    # Add current circle, except for gaps\n",
    "    if frame - 1 in all_avaliable_frames:\n",
    "        current_x = df[df[\"t\"] == frame - 1][\"x\"].squeeze()\n",
    "        current_y = df[df[\"t\"] == frame - 1][\"y\"].squeeze()\n",
    "        c = plt.Circle(\n",
    "            (current_x, current_y),\n",
    "            1.3,\n",
    "            color=\"white\",\n",
    "            fill=False,\n",
    "            lw=3,\n",
    "        )\n",
    "        ax.add_patch(c)\n",
    "    # Add track\n",
    "    track = df[df[\"t\"] <= frame - 1]\n",
    "    plt.plot(\n",
    "        track[\"x\"],\n",
    "        track[\"y\"],\n",
    "        color=\"white\",\n",
    "        lw=2,\n",
    "        ls=\"-\",\n",
    "        marker=\"o\",\n",
    "    )\n",
    "    # scale bar\n",
    "    scale_bar_offset = 0\n",
    "    scalebar_length_um = 1\n",
    "    base_x = 11.1\n",
    "    base_y = 6.7\n",
    "    scalebar_length_pxl = scalebar_length_um / um_per_pixel\n",
    "    plt.plot(\n",
    "        [\n",
    "            base_x + scale_bar_offset,\n",
    "            base_x + scale_bar_offset + scalebar_length_pxl,\n",
    "        ],\n",
    "        [base_y + scale_bar_offset, base_y + scale_bar_offset],\n",
    "        \"-\",\n",
    "        color=\"white\",\n",
    "        lw=5,\n",
    "    )\n",
    "    plt.xlim(0, img_blue.shape[0])\n",
    "    plt.ylim(0, img_blue.shape[1])\n",
    "    ax.invert_yaxis()\n",
    "    plt.tight_layout()\n",
    "    plt.axis(\"scaled\")\n",
    "    plt.axis(\"off\")\n",
    "\n",
    "\n",
    "ani = FuncAnimation(fig, animate, frames=150, interval=20, repeat=False)\n",
    "writer = animation.FFMpegWriter(fps=10)  # 10 Hz, 0.2x playback\n",
    "ani.save(\"movie_0point2xplayback.mp4\", writer=writer)"
   ]
  },
  {
   "cell_type": "code",
   "execution_count": null,
   "id": "b671ab5d",
   "metadata": {},
   "outputs": [],
   "source": []
  }
 ],
 "metadata": {
  "kernelspec": {
   "display_name": "Python 3 (ipykernel)",
   "language": "python",
   "name": "python3"
  },
  "language_info": {
   "codemirror_mode": {
    "name": "ipython",
    "version": 3
   },
   "file_extension": ".py",
   "mimetype": "text/x-python",
   "name": "python",
   "nbconvert_exporter": "python",
   "pygments_lexer": "ipython3",
   "version": "3.9.16"
  }
 },
 "nbformat": 4,
 "nbformat_minor": 5
}
