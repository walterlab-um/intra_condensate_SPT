{
 "cells": [
  {
   "cell_type": "code",
   "execution_count": null,
   "id": "3df85541-f0e0-4ae7-8e29-3c0b9eee29fc",
   "metadata": {},
   "outputs": [],
   "source": [
    "import os\n",
    "from os.path import dirname\n",
    "import numpy as np\n",
    "import pandas as pd\n",
    "import matplotlib.pyplot as plt\n",
    "import scipy.stats as stats\n",
    "import seaborn as sns\n",
    "\n",
    "sns.set(color_codes=True, style=\"white\")\n",
    "pd.options.mode.chained_assignment = None  # default='warn'\n",
    "\n",
    "color = \"#9a3324\"\n",
    "fpath_concat = \"/Volumes/lsa-nwalter/Guoming_Gao_turbo/Walterlab_server/PROCESSED_DATA/RNA-diffusion-in-FUS/RNAinFUS_PaperFigures/Fig2_diffusion analysis/SPT_results_AIO_concat-0Dex_noTR_0hr.csv\"\n",
    "\n",
    "\n",
    "threshold_disp = 0.2  # unit: um\n",
    "df_all = pd.read_csv(fpath_concat)\n",
    "os.chdir(dirname(fpath_concat))"
   ]
  },
  {
   "cell_type": "markdown",
   "id": "868ef485-79d0-4d35-818c-0afeef4fa444",
   "metadata": {},
   "source": [
    "# calculate error bounds\n",
    "## D formula with errors (MSD: um^2, t: s, D: um^2/s, n: dimension, R: motion blur coefficient; doi:10.1103/PhysRevE.85.061916)\n",
    "### diffusion dimension = 2. Note: This is the dimension of the measured data, not the actual movements! Although particles are doing 3D diffussion, the microscopy data is a projection on 2D plane and thus should be treated as 2D diffusion!\n",
    "### MSD = 2 n D tau + 2 n sigma^2 - 4 n R D tau, n=2, R=1/6\n",
    "### MSD = (4D - 8/6 D) tau + 4 sigma^2\n",
    "### MSD = 8/3 D tau + 4 sigma^2"
   ]
  },
  {
   "cell_type": "code",
   "execution_count": null,
   "id": "6f1ce7da-c281-42d7-b3b5-9c75640b59ee",
   "metadata": {},
   "outputs": [],
   "source": [
    "s_per_frame = 0.02\n",
    "localization_error = df_all[\"linear_fit_sigma\"].mean() / 1000\n",
    "um_per_pxl = 0.117\n",
    "link_max = 3\n",
    "log10D_low = np.log10((localization_error**2) / ((8 / 3) * (s_per_frame)))\n",
    "log10D_high = np.log10(((um_per_pxl * link_max) ** 2) / ((8 / 3) * (s_per_frame)))"
   ]
  },
  {
   "cell_type": "markdown",
   "id": "5c4e1f91-1618-4011-854a-7aa97572f22d",
   "metadata": {},
   "source": [
    "# Coorelations, why small R2?"
   ]
  },
  {
   "cell_type": "code",
   "execution_count": null,
   "id": "90ba9dda-43b6-4f03-b920-b78f46968dc6",
   "metadata": {},
   "outputs": [],
   "source": [
    "plt.figure(figsize=(6, 5), dpi=300)\n",
    "sns.jointplot(\n",
    "    data=df_all,\n",
    "    x=\"linear_fit_R2\",\n",
    "    xlim=(0, 1),\n",
    "    y=\"alpha\",\n",
    "    ylim=(0, 1),\n",
    "    kind=\"kde\",\n",
    "    color=color,\n",
    ")\n",
    "plt.xlabel(r\"Linear Fitting R$^{2}$\", weight=\"bold\")\n",
    "plt.ylabel(\"alpha\", weight=\"bold\")\n",
    "plt.tight_layout()\n",
    "plt.savefig(\"correlation_linearR2_alpha.png\", format=\"png\", bbox_inches=\"tight\")\n",
    "plt.close()"
   ]
  },
  {
   "cell_type": "code",
   "execution_count": null,
   "id": "d2a6c285-7f6a-40bc-88cc-fa7947dd88e6",
   "metadata": {},
   "outputs": [],
   "source": [
    "plt.figure(figsize=(6, 5), dpi=300)\n",
    "sns.jointplot(\n",
    "    data=df_all,\n",
    "    x=\"linear_fit_R2\",\n",
    "    xlim=(0, 1),\n",
    "    y=\"mean_stepsize_nm\",\n",
    "    ylim=(0, 300),\n",
    "    kind=\"kde\",\n",
    "    color=color,\n",
    ")\n",
    "plt.xlabel(r\"Linear Fitting R$^{2}$\", weight=\"bold\")\n",
    "plt.ylabel(\"Mean Step Size, nm\", weight=\"bold\")\n",
    "plt.tight_layout()\n",
    "plt.savefig(\n",
    "    \"unused-correlation_linearR2_stepsize.png\", format=\"png\", bbox_inches=\"tight\"\n",
    ")\n",
    "plt.close()"
   ]
  },
  {
   "cell_type": "code",
   "execution_count": null,
   "id": "63bdcdc3-800a-4d8c-bd70-7f1a6b714077",
   "metadata": {},
   "outputs": [],
   "source": [
    "plt.figure(figsize=(6, 5), dpi=300)\n",
    "sns.jointplot(\n",
    "    data=df_all,\n",
    "    x=\"linear_fit_R2\",\n",
    "    xlim=(0, 1),\n",
    "    y=\"loglog_fit_R2\",\n",
    "    ylim=(0, 1),\n",
    "    kind=\"kde\",\n",
    "    color=color,\n",
    ")\n",
    "plt.xlabel(r\"Linear Fitting R$^{2}$\", weight=\"bold\")\n",
    "plt.ylabel(r\"Log-Log Fitting R$^{2}$\", weight=\"bold\")\n",
    "plt.tight_layout()\n",
    "plt.savefig(\n",
    "    \"unused-correlation_linearR2_loglogR2.png\", format=\"png\", bbox_inches=\"tight\"\n",
    ")\n",
    "plt.close()"
   ]
  },
  {
   "cell_type": "code",
   "execution_count": null,
   "id": "222b8f2b-e17d-4a5d-9e60-d6dbe535ba96",
   "metadata": {},
   "outputs": [],
   "source": [
    "plt.figure(figsize=(6, 5), dpi=300)\n",
    "sns.jointplot(\n",
    "    data=df_all,\n",
    "    x=\"linear_fit_R2\",\n",
    "    xlim=(0, 1),\n",
    "    y=\"(150,180]\",\n",
    "    ylim=(0, 0.7),\n",
    "    kind=\"kde\",\n",
    "    color=color,\n",
    ")\n",
    "plt.xlabel(r\"Linear Fitting R$^{2}$\", weight=\"bold\")\n",
    "plt.ylabel(\"anlge (150,180]\", weight=\"bold\")\n",
    "plt.tight_layout()\n",
    "plt.savefig(\"unused-correlation_linearR2_angle.png\", format=\"png\", bbox_inches=\"tight\")\n",
    "plt.close()"
   ]
  },
  {
   "cell_type": "code",
   "execution_count": null,
   "id": "b8274646-722d-4acb-a9b5-aff4e463047e",
   "metadata": {},
   "outputs": [],
   "source": [
    "plt.figure(figsize=(6, 5), dpi=300)\n",
    "sns.jointplot(\n",
    "    data=df_all,\n",
    "    x=\"linear_fit_R2\",\n",
    "    xlim=(0, 1),\n",
    "    y=\"Displacement_um\",\n",
    "    ylim=(0, 1),\n",
    "    kind=\"kde\",\n",
    "    color=color,\n",
    ")\n",
    "plt.xlabel(r\"Linear Fitting R$^{2}$\", weight=\"bold\")\n",
    "plt.ylabel(r\"Displacement, $\\mu$m\", weight=\"bold\")\n",
    "plt.tight_layout()\n",
    "plt.savefig(\n",
    "    \"unused-correlation_linearR2_displacement.png\", format=\"png\", bbox_inches=\"tight\"\n",
    ")\n",
    "plt.close()"
   ]
  }
 ],
 "metadata": {
  "kernelspec": {
   "display_name": "Python 3 (ipykernel)",
   "language": "python",
   "name": "python3"
  },
  "language_info": {
   "codemirror_mode": {
    "name": "ipython",
    "version": 3
   },
   "file_extension": ".py",
   "mimetype": "text/x-python",
   "name": "python",
   "nbconvert_exporter": "python",
   "pygments_lexer": "ipython3",
   "version": "3.9.16"
  }
 },
 "nbformat": 4,
 "nbformat_minor": 5
}
