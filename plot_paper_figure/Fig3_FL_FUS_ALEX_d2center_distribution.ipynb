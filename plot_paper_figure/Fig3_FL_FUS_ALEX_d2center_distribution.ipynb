{
 "cells": [
  {
   "cell_type": "code",
   "execution_count": 38,
   "metadata": {},
   "outputs": [],
   "source": [
    "import os\n",
    "import matplotlib.pyplot as plt\n",
    "import numpy as np\n",
    "import pickle\n",
    "import pandas as pd\n",
    "import seaborn as sns\n",
    "from rich.progress import track\n",
    "\n",
    "sns.set(color_codes=True, style=\"white\")"
   ]
  },
  {
   "cell_type": "markdown",
   "metadata": {},
   "source": [
    "### Load Data"
   ]
  },
  {
   "cell_type": "code",
   "execution_count": 7,
   "metadata": {},
   "outputs": [
    {
     "data": {
      "text/plain": [
       "dict_keys(['filenames_FUS', 'filenames_RNA', 'lst_N_locations_FUS', 'lst_N_locations_RNA', 'lst_df_FUS_d2center', 'lst_df_RNA_d2center'])"
      ]
     },
     "execution_count": 7,
     "metadata": {},
     "output_type": "execute_result"
    }
   ],
   "source": [
    "folder_FUS_FL = \"/Volumes/lsa-nwalter/Guoming_Gao_turbo/Walterlab_server/PROCESSED_DATA/RNA-diffusion-in-FUS/RNAinFUS_PaperFigures/Fig3_coralled by nano domains/FUS488_FL_PAINT\"\n",
    "os.chdir(folder_FUS_FL)\n",
    "dict_d2center = pickle.load(open(\"distance2center-DataDict-pooled-perTrack.p\", \"rb\"))\n",
    "dict_d2center.keys()"
   ]
  },
  {
   "cell_type": "markdown",
   "metadata": {},
   "source": [
    "### Functions"
   ]
  },
  {
   "cell_type": "code",
   "execution_count": 84,
   "metadata": {},
   "outputs": [],
   "source": [
    "def weighted_stats(lst_PCF_per_condensate, lst_N_locations):\n",
    "    # create arrays for weighted means, SEMs and STDs\n",
    "    N_condensates = len(lst_N_locations)\n",
    "    N_bins = lst_PCF_per_condensate[0].shape[0]\n",
    "    weighted_mean = np.zeros(N_bins)\n",
    "    weighted_sem = np.zeros(N_bins)\n",
    "    weighted_std = np.zeros(N_bins)\n",
    "    weights = np.array(lst_N_locations)\n",
    "\n",
    "    # iterate over the length of a numpy array in the list\n",
    "    for i in range(N_bins):\n",
    "        # extract the i-th element from each array and their respective weight\n",
    "        data_array = np.array(\n",
    "            [lst_PCF_per_condensate[j][i] for j in range(N_condensates)]\n",
    "        )\n",
    "        # calculate the weighted mean\n",
    "        weighted_mean[i] = np.average(data_array, weights=weights)\n",
    "        # calculate the variance\n",
    "        variance = np.average((data_array - weighted_mean[i]) ** 2, weights=weights)\n",
    "        # calculate the weighted SEM\n",
    "        weighted_sem[i] = np.sqrt(variance / N_condensates)\n",
    "        # calculate the weighted STD\n",
    "        weighted_std[i] = np.sqrt(variance)\n",
    "\n",
    "    return weighted_mean, weighted_sem, weighted_std\n",
    "\n",
    "def critical_system_PCF(r, A, characteristic_size):\n",
    "     Gr = 1 + A * np.exp(- r / characteristic_size)\n",
    "     return Gr"
   ]
  },
  {
   "cell_type": "markdown",
   "metadata": {},
   "source": [
    "### Domain distribution in condensate"
   ]
  },
  {
   "cell_type": "code",
   "execution_count": 39,
   "metadata": {},
   "outputs": [
    {
     "data": {
      "text/html": [
       "<pre style=\"white-space:pre;overflow-x:auto;line-height:normal;font-family:Menlo,'DejaVu Sans Mono',consolas,'Courier New',monospace\"></pre>\n"
      ],
      "text/plain": [
       "\u001b[?25l"
      ]
     },
     "metadata": {},
     "output_type": "display_data"
    },
    {
     "data": {
      "application/vnd.jupyter.widget-view+json": {
       "model_id": "b44232af21a440fab1aca3ed179c1377",
       "version_major": 2,
       "version_minor": 0
      },
      "text/plain": [
       "Output()"
      ]
     },
     "metadata": {},
     "output_type": "display_data"
    },
    {
     "data": {
      "text/html": [
       "<pre style=\"white-space:pre;overflow-x:auto;line-height:normal;font-family:Menlo,'DejaVu Sans Mono',consolas,'Courier New',monospace\">\n",
       "</pre>\n"
      ],
      "text/plain": [
       "\n",
       "\u001b[?25h"
      ]
     },
     "metadata": {},
     "output_type": "display_data"
    },
    {
     "data": {
      "text/html": [
       "<pre style=\"white-space:pre;overflow-x:auto;line-height:normal;font-family:Menlo,'DejaVu Sans Mono',consolas,'Courier New',monospace\"></pre>\n"
      ],
      "text/plain": [
       "\u001b[?25l"
      ]
     },
     "metadata": {},
     "output_type": "display_data"
    },
    {
     "data": {
      "application/vnd.jupyter.widget-view+json": {
       "model_id": "749c7a8573564f67804011191fcbc95d",
       "version_major": 2,
       "version_minor": 0
      },
      "text/plain": [
       "Output()"
      ]
     },
     "metadata": {},
     "output_type": "display_data"
    },
    {
     "data": {
      "text/html": [
       "<pre style=\"white-space:pre;overflow-x:auto;line-height:normal;font-family:Menlo,'DejaVu Sans Mono',consolas,'Courier New',monospace\">\n",
       "</pre>\n"
      ],
      "text/plain": [
       "\n",
       "\u001b[?25h"
      ]
     },
     "metadata": {},
     "output_type": "display_data"
    }
   ],
   "source": [
    "lst_df_FUS_d2center = dict_d2center[\"lst_df_FUS_d2center\"]\n",
    "lst_df_RNA_d2center = dict_d2center[\"lst_df_RNA_d2center\"]\n",
    "lst_d2center_norm_FUS = [\n",
    "    df[\"d2center_norm\"].to_numpy(float) for df in lst_df_FUS_d2center\n",
    "]\n",
    "d2center_norm_FUS = np.hstack(lst_d2center_norm_FUS)\n",
    "lst_d2center_norm_RNA = [\n",
    "    df[\"d2center_norm\"].to_numpy(float) for df in lst_df_RNA_d2center\n",
    "]\n",
    "d2center_norm_RNA = np.hstack(lst_d2center_norm_RNA)\n",
    "\n",
    "r_max = 1\n",
    "ringwidth = 0.2\n",
    "dr_slidingrings = 0.05\n",
    "bin_starts = np.arange(0, r_max - ringwidth, dr_slidingrings)\n",
    "bin_ends = bin_starts + ringwidth\n",
    "ring_areas = np.pi * (bin_ends**2 - bin_starts**2)\n",
    "\n",
    "\n",
    "def calculate_hist(d2center_norm, r_max, bin_starts, bin_ends, ring_areas):\n",
    "    # calculate histogram\n",
    "    lst_hist = []\n",
    "    for distance in d2center_norm[d2center_norm <= r_max]:\n",
    "        lst_hist.append(((bin_starts <= distance) & (bin_ends >= distance)) * 1)\n",
    "    hist = np.sum(lst_hist, axis=0)\n",
    "\n",
    "    # determine normalization factors\n",
    "    N_domains = d2center_norm[d2center_norm <= r_max].shape[0]\n",
    "    rho_per_unit_circle = N_domains / (np.pi * 1**2)\n",
    "    norm_factors = ring_areas * rho_per_unit_circle\n",
    "    distribution = hist / norm_factors\n",
    "    probability_norm = distribution / distribution.sum()\n",
    "\n",
    "    return probability_norm\n",
    "\n",
    "\n",
    "def bootstrap(d2center_norm, bs_size, bs_rounds):\n",
    "    lst_probability_norm = []\n",
    "    for i in track(range(bs_rounds)):\n",
    "        idxs = np.random.choice(len(d2center_norm), bs_size)\n",
    "        d2center_norm_bs = np.array([d2center_norm[idx] for idx in idxs], float)\n",
    "        probability_norm = calculate_hist(\n",
    "            d2center_norm_bs, r_max, bin_starts, bin_ends, ring_areas\n",
    "        )\n",
    "\n",
    "        lst_probability_norm.append(probability_norm)\n",
    "\n",
    "    probability_norm_array = np.stack(lst_probability_norm)\n",
    "\n",
    "    return probability_norm_array\n",
    "\n",
    "\n",
    "probability_norm_FUS_array = bootstrap(d2center_norm_FUS, bs_size=10000, bs_rounds=5000)\n",
    "probability_norm_RNA_array = bootstrap(d2center_norm_RNA, bs_size=10000, bs_rounds=5000)"
   ]
  },
  {
   "cell_type": "code",
   "execution_count": 46,
   "metadata": {},
   "outputs": [],
   "source": [
    "lst_FUS_mean = []\n",
    "lst_FUS_err = []\n",
    "for i in range(probability_norm_FUS_array.shape[1]):\n",
    "    column = probability_norm_FUS_array[:, i]\n",
    "    ci = (np.percentile(column, 5), np.percentile(column, 95))\n",
    "    bs_mean = np.mean(ci)\n",
    "    bs_err = (ci[1] - ci[0]) / 2\n",
    "    lst_FUS_mean.append(bs_mean)\n",
    "    lst_FUS_err.append(bs_err)\n",
    "\n",
    "\n",
    "lst_RNA_mean = []\n",
    "lst_RNA_err = []\n",
    "for i in range(probability_norm_RNA_array.shape[1]):\n",
    "    column = probability_norm_RNA_array[:, i]\n",
    "    ci = (np.percentile(column, 5), np.percentile(column, 95))\n",
    "    bs_mean = np.mean(ci)\n",
    "    bs_err = (ci[1] - ci[0]) / 2\n",
    "    lst_RNA_mean.append(bs_mean)\n",
    "    lst_RNA_err.append(bs_err)"
   ]
  },
  {
   "cell_type": "code",
   "execution_count": 86,
   "metadata": {},
   "outputs": [
    {
     "data": {
      "image/png": "[encoded data removed]",
      "text/plain": [
       "<Figure size 250x350 with 1 Axes>"
      ]
     },
     "metadata": {},
     "output_type": "display_data"
    }
   ],
   "source": [
    "fontsize = 18\n",
    "plt.figure(figsize=(2.5, 3.5))\n",
    "plt.axhline(1 / len(bin_starts), c=\"k\", ls=\"--\", lw=2)\n",
    "bar_x = (bin_starts + bin_ends) / 2\n",
    "plt.errorbar(\n",
    "    bar_x,\n",
    "    lst_FUS_mean,\n",
    "    yerr=lst_FUS_err,\n",
    "    fmt=\".\",\n",
    "    color=\"#00274c\",\n",
    "    ecolor=\"#00274c\",\n",
    "    elinewidth=1,\n",
    "    capsize=3,\n",
    ")\n",
    "plt.xlim(bar_x[0] - dr_slidingrings / 2, bar_x[-1] + dr_slidingrings / 2)\n",
    "# plt.xlim(0, 1)\n",
    "plt.ylim(0.02, 0.09)\n",
    "plt.xlabel(r\"FUS $\\mathit{d}$$_{to\\/center,norm.}$\", fontsize=fontsize)\n",
    "plt.ylabel(\"Probability$_{norm.}$\", fontsize=fontsize)\n",
    "plt.gca().spines[:].set_linewidth(2)\n",
    "plt.gca().tick_params(\n",
    "    axis=\"both\",\n",
    "    which=\"major\",\n",
    "    labelsize=17,\n",
    "    direction=\"in\",\n",
    "    bottom=True,\n",
    "    left=True,\n",
    "    length=5,\n",
    "    width=2,\n",
    ")\n",
    "plt.savefig(\n",
    "    \"FUS_d2center_distribution.png\",\n",
    "    format=\"png\",\n",
    "    bbox_inches=\"tight\",\n",
    "    dpi=300,\n",
    ")"
   ]
  },
  {
   "cell_type": "code",
   "execution_count": 85,
   "metadata": {},
   "outputs": [
    {
     "data": {
      "image/png": "[encoded data removed]",
      "text/plain": [
       "<Figure size 250x350 with 1 Axes>"
      ]
     },
     "metadata": {},
     "output_type": "display_data"
    }
   ],
   "source": [
    "fontsize = 18\n",
    "plt.figure(figsize=(2.5, 3.5))\n",
    "plt.axhline(1 / len(bin_starts), c=\"k\", ls=\"--\", lw=2)\n",
    "bar_x = (bin_starts + bin_ends) / 2\n",
    "plt.errorbar(\n",
    "    bar_x,\n",
    "    lst_RNA_mean,\n",
    "    yerr=lst_RNA_err,\n",
    "    fmt=\".\",\n",
    "    color=\"#9a3324\",\n",
    "    ecolor=\"#9a3324\",\n",
    "    elinewidth=1,\n",
    "    capsize=3,\n",
    ")\n",
    "plt.xlim(bar_x[0] - dr_slidingrings / 2, bar_x[-1] + dr_slidingrings / 2)\n",
    "plt.ylim(0.02, 0.09)\n",
    "plt.xlabel(r\"mRNA $\\mathit{d}$$_{to\\/center,norm.}$\", fontsize=fontsize)\n",
    "plt.ylabel(\"Probability$_{norm.}$\", fontsize=fontsize)\n",
    "plt.gca().spines[:].set_linewidth(2)\n",
    "plt.gca().tick_params(\n",
    "    axis=\"both\",\n",
    "    which=\"major\",\n",
    "    labelsize=17,\n",
    "    direction=\"in\",\n",
    "    bottom=True,\n",
    "    left=True,\n",
    "    length=5,\n",
    "    width=2,\n",
    ")\n",
    "plt.savefig(\n",
    "    \"RNA_d2center_distribution.png\",\n",
    "    format=\"png\",\n",
    "    bbox_inches=\"tight\",\n",
    "    dpi=300,\n",
    ")"
   ]
  },
  {
   "cell_type": "code",
   "execution_count": null,
   "metadata": {},
   "outputs": [],
   "source": []
  }
 ],
 "metadata": {
  "kernelspec": {
   "display_name": "spt",
   "language": "python",
   "name": "python3"
  },
  "language_info": {
   "codemirror_mode": {
    "name": "ipython",
    "version": 3
   },
   "file_extension": ".py",
   "mimetype": "text/x-python",
   "name": "python",
   "nbconvert_exporter": "python",
   "pygments_lexer": "ipython3",
   "version": "3.9.16"
  }
 },
 "nbformat": 4,
 "nbformat_minor": 2
}
