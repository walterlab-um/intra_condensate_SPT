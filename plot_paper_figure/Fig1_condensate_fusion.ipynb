{
 "cells": [
  {
   "cell_type": "code",
   "execution_count": 1,
   "id": "194875db-8a0c-49f1-a0c3-d10432deba23",
   "metadata": {
    "tags": []
   },
   "outputs": [],
   "source": [
    "from tifffile import imread\n",
    "import os\n",
    "from os.path import exists, join\n",
    "import cv2\n",
    "import matplotlib.pyplot as plt\n",
    "import matplotlib.colors as clr\n",
    "import numpy as np\n",
    "import pandas as pd\n",
    "\n",
    "pd.options.mode.chained_assignment = None  # default='warn'"
   ]
  },
  {
   "cell_type": "markdown",
   "id": "22d485d1-c89b-4854-9595-14cf5e62eff2",
   "metadata": {},
   "source": [
    "### Parameters and path"
   ]
  },
  {
   "cell_type": "code",
   "execution_count": 2,
   "id": "82178fca-05d9-48ec-b517-4bfe124433d1",
   "metadata": {
    "tags": []
   },
   "outputs": [],
   "source": [
    "um_per_pixel = 0.117\n",
    "s_per_frame = 0.1\n",
    "folder_save = \"/Volumes/lsa-nwalter/Guoming_Gao_turbo/Walterlab_server/PROCESSED_DATA/RNA-diffusion-in-FUS/RNAinFUS_PaperFigures/Fig1_system design/\"\n",
    "\n",
    "img_folder = \"/Volumes/lsa-nwalter/Guoming_Gao_turbo/Walterlab_server/PROCESSED_DATA/RNA-diffusion-in-FUS/Controls/condensation_fusion_timelapse/\"\n",
    "os.chdir(img_folder)\n",
    "lst_imgs = [f for f in os.listdir(img_folder) if f.endswith(\".tif\")]\n",
    "\n",
    "plow = 0.5  # imshow intensity percentile\n",
    "phigh = 90\n",
    "scalebar_color = \"white\"\n",
    "\n",
    "cmap_color_start = \"black\"\n",
    "cmap_color_end = \"#B9DBF4\"\n",
    "cmap_name = \"dark2blue\"\n",
    "cmap = clr.LinearSegmentedColormap.from_list(\n",
    "    cmap_name,\n",
    "    [cmap_color_start, cmap_color_end],\n",
    "    N=200,\n",
    ")\n",
    "\n",
    "vmin = 700\n",
    "vmax = 2000\n",
    "scalebar_length_um = 1\n",
    "scalebar_length_pxl = scalebar_length_um / um_per_pixel\n",
    "scale_bar_offset = 1"
   ]
  },
  {
   "cell_type": "code",
   "execution_count": 18,
   "id": "ea76f180-8573-4329-81cb-272b2e9295de",
   "metadata": {
    "tags": []
   },
   "outputs": [
    {
     "data": {
      "text/plain": [
       "['Substack (90).tif',\n",
       " 'Substack (56).tif',\n",
       " 'Substack (51).tif',\n",
       " 'Substack (190).tif',\n",
       " 'Substack (130).tif',\n",
       " 'Substack (70).tif']"
      ]
     },
     "execution_count": 18,
     "metadata": {},
     "output_type": "execute_result"
    }
   ],
   "source": [
    "lst_imgs"
   ]
  },
  {
   "cell_type": "markdown",
   "id": "e923c7dc-2beb-4b05-9ea6-a4bfd4a8f6ad",
   "metadata": {},
   "source": [
    "### First Frame, with scale bar"
   ]
  },
  {
   "cell_type": "code",
   "execution_count": 7,
   "id": "45efefda-802b-4846-974d-d81fefa5dc09",
   "metadata": {
    "tags": []
   },
   "outputs": [],
   "source": [
    "# # full size: 418x674\n",
    "# zoom_in_x = (0, 418)\n",
    "# zoom_in_y = (0, 674)\n",
    "# scale_bar_offset = 10\n",
    "\n",
    "# # Cropping\n",
    "# ilastik_output = ilastik_output[\n",
    "#     zoom_in_y[0] : zoom_in_y[1], zoom_in_x[0] : zoom_in_x[1]\n",
    "# ]\n",
    "# img = img[zoom_in_y[0] : zoom_in_y[1], zoom_in_x[0] : zoom_in_x[1]]\n",
    "\n",
    "# mask_all_condensates = 2 - ilastik_output  # background label=2, condensate label=1\n",
    "# # find contours coordinates in binary edge image. contours here is a list of np.arrays containing all coordinates of each individual edge/contour.\n",
    "# contours, _ = cv2.findContours(\n",
    "#     mask_all_condensates, cv2.RETR_CCOMP, cv2.CHAIN_APPROX_NONE\n",
    "# )\n",
    "\n",
    "\n",
    "# plt.figure(dpi=300)\n",
    "# # Contrast stretching\n",
    "# vmin, vmax = np.percentile(img, (plow, phigh))\n",
    "# plt.imshow(img, cmap=\"Blues\", vmin=vmin, vmax=vmax)\n",
    "# for cnt in contours:\n",
    "#     x = cnt[:, 0][:, 0]\n",
    "#     y = cnt[:, 0][:, 1]\n",
    "#     plt.plot(x, y, \"-\", color=line_color, linewidth=2, alpha=0.7)\n",
    "#     # still the last closing line will be missing, get it below\n",
    "#     xlast = [x[-1], x[0]]\n",
    "#     ylast = [y[-1], y[0]]\n",
    "#     plt.plot(xlast, ylast, \"-\", color=line_color, linewidth=2, alpha=0.7)\n",
    "# plt.xlim(0, img.shape[0])\n",
    "# plt.ylim(0, img.shape[1])\n",
    "# plt.plot(\n",
    "#     [scale_bar_offset, scale_bar_offset + scalebar_length_pxl],\n",
    "#     [scale_bar_offset, scale_bar_offset],\n",
    "#     \"-\",\n",
    "#     color=scalebar_color,\n",
    "#     lw=7,\n",
    "# )\n",
    "# plt.axis(\"scaled\")\n",
    "# plt.show()"
   ]
  },
  {
   "cell_type": "code",
   "execution_count": 17,
   "id": "4a1b722a-e7ed-42cc-83e4-23b40337a4f3",
   "metadata": {
    "tags": []
   },
   "outputs": [
    {
     "data": {
      "image/png": "[encoded data removed]",
      "text/plain": [
       "<Figure size 640x480 with 1 Axes>"
      ]
     },
     "metadata": {},
     "output_type": "display_data"
    }
   ],
   "source": [
    "fname = \"Substack (51).tif\"\n",
    "raw_img = imread(fname)\n",
    "img_toplot = raw_img[10:60, 5:55]\n",
    "time_s = (int(fname.split(\"(\")[-1].split(\")\")[0]) - 51) * s_per_frame\n",
    "\n",
    "plt.figure()\n",
    "plt.imshow(img_toplot, cmap=cmap, vmin=vmin, vmax=vmax)\n",
    "plt.text(\n",
    "    0,\n",
    "    10,\n",
    "    str(round(time_s, 2)) + \" s\",\n",
    "    fontsize=80,\n",
    "    color=\"white\",\n",
    ")\n",
    "plt.xlim(0, img_toplot.shape[0])\n",
    "plt.ylim(0, img_toplot.shape[1])\n",
    "plt.gca().invert_yaxis()\n",
    "plt.tight_layout()\n",
    "plt.axis(\"scaled\")\n",
    "plt.axis(\"off\")\n",
    "\n",
    "# plot scale bar\n",
    "plt.plot(\n",
    "    [\n",
    "        2,\n",
    "        2 + scalebar_length_pxl,\n",
    "    ],\n",
    "    [47, 47],\n",
    "    \"-\",\n",
    "    color=scalebar_color,\n",
    "    lw=10,\n",
    ")\n",
    "\n",
    "plt.savefig(\n",
    "    join(folder_save, \"Fusion_timelapse-start.png\"), format=\"png\", bbox_inches=\"tight\", dpi=300\n",
    ")\n",
    "\n",
    "plt.show()"
   ]
  },
  {
   "cell_type": "markdown",
   "id": "4482fc16-be41-4d79-856a-930732cb15f0",
   "metadata": {},
   "source": [
    "### Other Frames, no scale bar"
   ]
  },
  {
   "cell_type": "code",
   "execution_count": 18,
   "id": "7d85d81c-81e9-4146-b634-e261ae6b1cdc",
   "metadata": {
    "tags": []
   },
   "outputs": [],
   "source": [
    "for fname in lst_imgs:\n",
    "    raw_img = imread(fname)\n",
    "    img_toplot = raw_img[10:60, 5:55]\n",
    "    time_s = (int(fname.split(\"(\")[-1].split(\")\")[0]) - 51) * s_per_frame\n",
    "\n",
    "    plt.figure()\n",
    "    plt.imshow(img_toplot, cmap=cmap, vmin=vmin, vmax=vmax)\n",
    "    plt.text(\n",
    "        0,\n",
    "        10,\n",
    "        str(round(time_s, 2)) + \" s\",\n",
    "        fontsize=80,\n",
    "        color=\"white\",\n",
    "    )\n",
    "    plt.xlim(0, img_toplot.shape[0])\n",
    "    plt.ylim(0, img_toplot.shape[1])\n",
    "    plt.gca().invert_yaxis()\n",
    "    plt.tight_layout()\n",
    "    plt.axis(\"scaled\")\n",
    "    plt.axis(\"off\")\n",
    "\n",
    "    plt.savefig(\n",
    "        join(folder_save, \"Fusion_timelapse-\" + str(round(time_s, 2)) + \".png\"),\n",
    "        format=\"png\",\n",
    "        bbox_inches=\"tight\",\n",
    "        dpi=300,\n",
    "    )\n",
    "    plt.close()"
   ]
  },
  {
   "cell_type": "code",
   "execution_count": null,
   "id": "6e829b12-8b72-4728-aa13-193788776bf4",
   "metadata": {},
   "outputs": [],
   "source": []
  }
 ],
 "metadata": {
  "kernelspec": {
   "display_name": "Python 3 (ipykernel)",
   "language": "python",
   "name": "python3"
  },
  "language_info": {
   "codemirror_mode": {
    "name": "ipython",
    "version": 3
   },
   "file_extension": ".py",
   "mimetype": "text/x-python",
   "name": "python",
   "nbconvert_exporter": "python",
   "pygments_lexer": "ipython3",
   "version": "3.9.16"
  }
 },
 "nbformat": 4,
 "nbformat_minor": 5
}
