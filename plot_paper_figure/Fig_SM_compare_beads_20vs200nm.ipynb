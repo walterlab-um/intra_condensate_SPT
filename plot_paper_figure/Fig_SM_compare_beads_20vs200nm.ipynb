{
 "cells": [
  {
   "cell_type": "code",
   "execution_count": 55,
   "id": "3df85541-f0e0-4ae7-8e29-3c0b9eee29fc",
   "metadata": {
    "tags": []
   },
   "outputs": [],
   "source": [
    "import os\n",
    "from os.path import dirname\n",
    "import numpy as np\n",
    "from scipy.signal import find_peaks\n",
    "from scipy.stats import sem\n",
    "import pandas as pd\n",
    "import matplotlib.pyplot as plt\n",
    "from matplotlib.colors import LogNorm\n",
    "import seaborn as sns\n",
    "\n",
    "sns.set(color_codes=True, style=\"white\")\n",
    "pd.options.mode.chained_assignment = None  # default='warn'\n",
    "\n",
    "# Displacement threshold for immobile molecules\n",
    "immobile_stepsize_threshold_nm = 30\n",
    "# alpha component threshold for constrained diffusion\n",
    "threshold_alpha = 0.7\n",
    "\n",
    "label_1 = \"20 nm beads\"\n",
    "label_2 = \"200 nm beads\"\n",
    "color_1 = \"#9a3324\"\n",
    "color_2 = \"#333232\"\n",
    "palette = [color_1, color_2]\n",
    "\n",
    "postfix = \"20vs200nmbeads_in_buffer.png\"\n",
    "\n",
    "folder_save = \"/Volumes/lsa-nwalter/Guoming_Gao_turbo/Walterlab_server/PROCESSED_DATA/RNA-diffusion-in-FUS/RNAinFUS_PaperFigures/Fig2_diffusion analysis/beads_and_RNA_control/\"\n",
    "fname_AIO_1 = \"SPT_results_AIO_concat-20nm_beads_in_buffer.csv\"\n",
    "fname_AIO_2 = \"SPT_results_AIO_concat-200nm_beads_in_buffer.csv\"\n",
    "fname_saspt_1 = \"saSPT-pooled-mobile-20nm_beads_in_buffer.csv\"\n",
    "fname_saspt_2 = \"saSPT-pooled-mobile-200nm_beads_in_buffer.csv\""
   ]
  },
  {
   "cell_type": "markdown",
   "id": "f98b124d-ca89-45dc-8a59-5961e397af45",
   "metadata": {
    "tags": []
   },
   "source": [
    "## Combine dataframes"
   ]
  },
  {
   "cell_type": "code",
   "execution_count": 56,
   "id": "b488c863-58b4-448a-871a-652889df9934",
   "metadata": {},
   "outputs": [
    {
     "name": "stdout",
     "output_type": "stream",
     "text": [
      "20 nm beads 3854\n",
      "200 nm beads 3383\n"
     ]
    }
   ],
   "source": [
    "os.chdir(folder_save)\n",
    "\n",
    "df1 = pd.read_csv(fname_AIO_1)\n",
    "df2 = pd.read_csv(fname_AIO_2)\n",
    "\n",
    "df1.insert(0, \"label\", np.repeat(label_1, df1.shape[0]))\n",
    "df2.insert(0, \"label\", np.repeat(label_2, df2.shape[0]))\n",
    "\n",
    "# Below sequence is important for the layer order\n",
    "df_AIO = pd.concat([df1, df2], ignore_index=True)\n",
    "print(label_1, df1.shape[0])\n",
    "print(label_2, df2.shape[0])"
   ]
  },
  {
   "cell_type": "code",
   "execution_count": 57,
   "id": "5d4d9906-41fc-4660-ac04-bc7fd77624da",
   "metadata": {
    "tags": []
   },
   "outputs": [],
   "source": [
    "df1 = pd.read_csv(fname_saspt_1, dtype=float)\n",
    "df2 = pd.read_csv(fname_saspt_2, dtype=float)\n",
    "\n",
    "\n",
    "def extract_log10D_density(df_current_file):\n",
    "    range_D = df_current_file[\"diff_coef\"].unique()\n",
    "    log10D_density = []\n",
    "    for log10D in range_D:\n",
    "        df_current_log10D = df_current_file[df_current_file[\"diff_coef\"] == log10D]\n",
    "        log10D_density.append(df_current_log10D[\"mean_posterior_occupation\"].sum())\n",
    "\n",
    "    df_toplot = pd.DataFrame(\n",
    "        {\"log10D\": np.log10(range_D), \"Probability\": log10D_density}, dtype=float\n",
    "    )\n",
    "\n",
    "    return df_toplot\n",
    "\n",
    "\n",
    "df_saspt_1 = extract_log10D_density(df1)\n",
    "df_saspt_2 = extract_log10D_density(df2)\n",
    "\n",
    "df_saspt_1.insert(0, \"label\", np.repeat(label_1, df_saspt_1.shape[0]))\n",
    "df_saspt_2.insert(0, \"label\", np.repeat(label_2, df_saspt_2.shape[0]))\n",
    "\n",
    "# Below sequence is important for the layer order\n",
    "df_saspt = pd.concat([df_saspt_1, df_saspt_2], ignore_index=True)"
   ]
  },
  {
   "cell_type": "markdown",
   "id": "ab26b113-3b03-431c-8f44-b4c59a3a28ba",
   "metadata": {},
   "source": [
    "# Plots"
   ]
  },
  {
   "cell_type": "markdown",
   "id": "0ca7aacc-379d-42da-ab7e-4314b0b821d0",
   "metadata": {
    "tags": []
   },
   "source": [
    "### Localization error"
   ]
  },
  {
   "cell_type": "code",
   "execution_count": 58,
   "id": "32301dfc-eddc-4999-8583-1da4dadecb6d",
   "metadata": {
    "tags": []
   },
   "outputs": [
    {
     "name": "stdout",
     "output_type": "stream",
     "text": [
      "268.4619408371871 2.7392983958788997\n",
      "149.83443605179266 1.9997711181157327\n"
     ]
    },
    {
     "data": {
      "image/png": "[encoded data removed]",
      "text/plain": [
       "<Figure size 500x300 with 1 Axes>"
      ]
     },
     "metadata": {},
     "output_type": "display_data"
    }
   ],
   "source": [
    "fontsize = 18\n",
    "data = df_AIO[df_AIO[\"mean_stepsize_nm\"] > immobile_stepsize_threshold_nm]\n",
    "data = data[data[\"linear_fit_R2\"] > 0.7]\n",
    "# quantile = np.quantile(df_AIO[\"linear_fit_sigma\"].dropna().to_numpy(), 0.999)\n",
    "plt.figure(figsize=(5, 3))\n",
    "ax = sns.histplot(\n",
    "    data=data,\n",
    "    x=\"linear_fit_sigma\",\n",
    "    hue=\"label\",\n",
    "    palette=palette,\n",
    "    bins=30,\n",
    "    binrange=(0, 700),\n",
    "    stat=\"probability\",\n",
    "    common_norm=False,\n",
    "    element=\"step\",\n",
    "    lw=2,\n",
    ")\n",
    "plt.xlim(0, 700)\n",
    "sns.move_legend(\n",
    "    ax,\n",
    "    0,\n",
    "    title=None,\n",
    "    frameon=False,\n",
    "    fontsize=fontsize,\n",
    ")\n",
    "plt.xlabel(\"Localization Error, nm\", fontsize=fontsize)\n",
    "plt.ylabel(\"Probability\", fontsize=fontsize)\n",
    "plt.gca().spines[:].set_linewidth(1)\n",
    "plt.gca().tick_params(\n",
    "    axis=\"both\",\n",
    "    which=\"major\",\n",
    "    labelsize=fontsize,\n",
    "    direction=\"in\",\n",
    "    bottom=True,\n",
    "    left=True,\n",
    "    length=5,\n",
    "    width=1,\n",
    ")\n",
    "plt.gca().set_axisbelow(False)\n",
    "plt.gca().tick_params(axis=\"both\", which=\"major\", labelsize=fontsize)\n",
    "plt.savefig(\"1.LocError_histo_\" + postfix, format=\"png\", bbox_inches=\"tight\", dpi=300)\n",
    "print(data[data[\"label\"]==label_1][\"linear_fit_sigma\"].mean(), sem(data[data[\"label\"]==label_1][\"linear_fit_sigma\"].dropna()))\n",
    "print(data[data[\"label\"]==label_2][\"linear_fit_sigma\"].mean(), sem(data[data[\"label\"]==label_2][\"linear_fit_sigma\"].dropna()))"
   ]
  },
  {
   "cell_type": "markdown",
   "id": "cedcb26c-e155-4407-9ad7-9283bfc74e14",
   "metadata": {
    "tags": []
   },
   "source": [
    "### Mean Step Size (whether static molecule)"
   ]
  },
  {
   "cell_type": "code",
   "execution_count": 59,
   "id": "3dc9b397-cc74-4915-a3f7-d470465b5748",
   "metadata": {
    "tags": []
   },
   "outputs": [
    {
     "name": "stdout",
     "output_type": "stream",
     "text": [
      "749.8750907755872 3.197935094601675\n",
      "340.30636785089825 1.5448321773909757\n",
      "20 nm beads 3139\n",
      "200 nm beads 2915\n"
     ]
    },
    {
     "data": {
      "text/plain": [
       "2915"
      ]
     },
     "execution_count": 59,
     "metadata": {},
     "output_type": "execute_result"
    },
    {
     "data": {
      "image/png": "[encoded data removed]",
      "text/plain": [
       "<Figure size 500x300 with 1 Axes>"
      ]
     },
     "metadata": {},
     "output_type": "display_data"
    }
   ],
   "source": [
    "fontsize = 20\n",
    "plt.figure(figsize=(5, 3))\n",
    "ax = sns.histplot(\n",
    "    data=df_AIO,\n",
    "    x=\"mean_stepsize_nm\",\n",
    "    hue=\"label\",\n",
    "    palette=palette,\n",
    "    bins=40,\n",
    "    stat=\"probability\",\n",
    "    common_norm=False,\n",
    "    binrange=(0, 1500),\n",
    "    lw=2,\n",
    "    element=\"step\",\n",
    ")\n",
    "plt.xlim(0, 1500)\n",
    "sns.move_legend(ax, 0, title=None, frameon=False, fontsize=fontsize)\n",
    "# plt.axvline(immobile_stepsize_threshold_nm - 4, ls=\"--\", color=\"#333232\", lw=1.6)\n",
    "# plt.axvline(immobile_stepsize_threshold_nm + 4, ls=\"--\", color=\"#f7b801\", lw=1.6)\n",
    "plt.xlabel(\"Mean Step Size, nm\", fontsize=fontsize, labelpad=0)\n",
    "plt.ylabel(\"Probability\", fontsize=fontsize)\n",
    "plt.gca().spines[:].set_linewidth(1)\n",
    "plt.gca().tick_params(\n",
    "    axis=\"both\",\n",
    "    which=\"major\",\n",
    "    labelsize=fontsize,\n",
    "    direction=\"in\",\n",
    "    bottom=True,\n",
    "    left=True,\n",
    "    length=5,\n",
    "    width=1,\n",
    ")\n",
    "plt.gca().set_axisbelow(False)\n",
    "plt.gca().tick_params(axis=\"both\", which=\"major\", labelsize=fontsize)\n",
    "plt.savefig(\n",
    "    \"2.mean_stepsize_nm_histo_\" + postfix, format=\"png\", bbox_inches=\"tight\", dpi=300\n",
    ")\n",
    "print(data[data[\"label\"] == label_1][\"mean_stepsize_nm\"].mean(), sem(data[data[\"label\"] == label_1][\"mean_stepsize_nm\"].dropna()))\n",
    "print(data[data[\"label\"] == label_2][\"mean_stepsize_nm\"].mean(), sem(data[data[\"label\"] == label_2][\"mean_stepsize_nm\"].dropna()))\n",
    "print(label_1, data[data[\"label\"] == label_1].shape[0])\n",
    "print(label_2, data[data[\"label\"] == label_2].shape[0])\n",
    "data[data[\"label\"] == label_2].shape[0]"
   ]
  },
  {
   "cell_type": "markdown",
   "id": "bc326ba2-4d5e-4b38-85a7-e4ce77a9bedc",
   "metadata": {
    "tags": []
   },
   "source": [
    "### alpha distribution"
   ]
  },
  {
   "cell_type": "code",
   "execution_count": 74,
   "id": "eda3ff98-618a-4a22-a0b3-00f252a957a8",
   "metadata": {},
   "outputs": [
    {
     "name": "stdout",
     "output_type": "stream",
     "text": [
      "0.980403363244253 0.006268673871717843\n",
      "1.0394735867538965 0.005794102482974263\n",
      "20 nm beads 3203\n",
      "200 nm beads 3052\n"
     ]
    },
    {
     "data": {
      "image/png": "[encoded data removed]",
      "text/plain": [
       "<Figure size 500x300 with 1 Axes>"
      ]
     },
     "metadata": {},
     "output_type": "display_data"
    }
   ],
   "source": [
    "fontsize = 20\n",
    "plt.figure(figsize=(5, 3))\n",
    "data = df_AIO[df_AIO[\"mean_stepsize_nm\"] > immobile_stepsize_threshold_nm]\n",
    "data = data[data[\"loglog_fit_R2\"] > 0.7]\n",
    "data = data[data[\"alpha\"] > 0]\n",
    "ax = sns.histplot(\n",
    "    data=data,\n",
    "    x=\"alpha\",\n",
    "    hue=\"label\",\n",
    "    palette=palette,\n",
    "    bins=30,\n",
    "    stat=\"probability\",\n",
    "    common_norm=False,\n",
    "    binrange=(0, 2),\n",
    "    lw=2,\n",
    "    element=\"step\",\n",
    "    legend=False,\n",
    ")\n",
    "# plt.axvline(threshold_alpha - 0.005, ls=\"--\", color=\"#f7b801\")\n",
    "# plt.axvline(threshold_alpha + 0.005, ls=\"--\", color=\"#87a878\")\n",
    "plt.xlim(0, 2)\n",
    "plt.ylim(0, 0.11)\n",
    "plt.ylabel(\"Probability\", fontsize=fontsize)\n",
    "plt.xlabel(r\"$\\alpha$ Component\", fontsize=fontsize, labelpad=0)\n",
    "plt.gca().spines[:].set_linewidth(1)\n",
    "plt.gca().tick_params(\n",
    "    axis=\"both\",\n",
    "    which=\"major\",\n",
    "    labelsize=fontsize,\n",
    "    direction=\"in\",\n",
    "    bottom=True,\n",
    "    left=True,\n",
    "    length=5,\n",
    "    width=1,\n",
    ")\n",
    "plt.gca().set_axisbelow(False)\n",
    "plt.gca().tick_params(axis=\"both\", which=\"major\", labelsize=fontsize)\n",
    "plt.savefig(\"3.alpha_histo_\" + postfix, format=\"png\", bbox_inches=\"tight\", dpi=300)\n",
    "print(data[data[\"label\"] == label_1][\"alpha\"].mean(), sem(data[data[\"label\"]==label_1][\"alpha\"].dropna()))\n",
    "print(data[data[\"label\"] == label_2][\"alpha\"].mean(), sem(data[data[\"label\"]==label_2][\"alpha\"].dropna()))\n",
    "print(label_1, data[data[\"label\"] == label_1].shape[0])\n",
    "print(label_2, data[data[\"label\"] == label_2].shape[0])"
   ]
  },
  {
   "cell_type": "markdown",
   "id": "6ad4ef8b-f6f3-4f3f-afb4-f7d4dc495a1e",
   "metadata": {
    "tags": []
   },
   "source": [
    "### Angle Distribution"
   ]
  },
  {
   "cell_type": "code",
   "execution_count": 75,
   "id": "3cfda476-905f-4212-84d3-39164fc2ac26",
   "metadata": {
    "tags": []
   },
   "outputs": [
    {
     "name": "stdout",
     "output_type": "stream",
     "text": [
      "91.91667128707542 0.3319099294320363\n",
      "82.8880638494955 0.25843240081182683\n"
     ]
    },
    {
     "data": {
      "image/png": "[encoded data removed]",
      "text/plain": [
       "<Figure size 500x300 with 1 Axes>"
      ]
     },
     "metadata": {},
     "output_type": "display_data"
    }
   ],
   "source": [
    "fontsize = 23\n",
    "lst_angle = []\n",
    "lst_label = []\n",
    "for _, row in df_AIO[\n",
    "    df_AIO[\"mean_stepsize_nm\"] > immobile_stepsize_threshold_nm\n",
    "].iterrows():\n",
    "    angles = np.fromstring(\n",
    "        row[\"list_of_angles\"][1:-1],\n",
    "        dtype=float,\n",
    "        sep=\", \",\n",
    "    )\n",
    "    labels = np.repeat(row[\"label\"], angles.shape[0])\n",
    "    lst_angle.extend(angles)\n",
    "    lst_label.extend(labels)\n",
    "\n",
    "data = pd.DataFrame(\n",
    "    {\n",
    "        \"angle\": np.abs(lst_angle),\n",
    "        \"label\": lst_label,\n",
    "    },\n",
    "    dtype=object,\n",
    ")\n",
    "\n",
    "plt.figure(figsize=(5, 3))\n",
    "bins = 30\n",
    "ax = sns.histplot(\n",
    "    data=data,\n",
    "    x=\"angle\",\n",
    "    hue=\"label\",\n",
    "    palette=palette,\n",
    "    bins=bins,\n",
    "    stat=\"probability\",\n",
    "    common_norm=False,\n",
    "    binrange=(0, 180),\n",
    "    lw=2,\n",
    "    element=\"step\",\n",
    "    legend=False,\n",
    ")\n",
    "# plt.axhline(1 / bins - 0.0004, color=\"#87a878\", ls=\"--\")\n",
    "# plt.axhline(1 / bins + 0.0004, color=\"#f7b801\", ls=\"--\")\n",
    "plt.axhline(1 / bins, color=\"gray\", ls=\"--\", lw=2)\n",
    "plt.xlim(0, 180)\n",
    "plt.xticks([0, 90, 180])\n",
    "plt.ylim(0, 0.08)\n",
    "plt.ylabel(\"Probability\", fontsize=fontsize)\n",
    "plt.xlabel(\"Angle, Degree\", fontsize=fontsize, labelpad=0)\n",
    "plt.gca().spines[:].set_linewidth(1)\n",
    "plt.gca().tick_params(\n",
    "    axis=\"both\",\n",
    "    which=\"major\",\n",
    "    labelsize=fontsize,\n",
    "    direction=\"in\",\n",
    "    bottom=True,\n",
    "    left=True,\n",
    "    length=5,\n",
    "    width=1,\n",
    ")\n",
    "plt.gca().set_axisbelow(False)\n",
    "plt.gca().tick_params(axis=\"both\", which=\"major\", labelsize=fontsize)\n",
    "plt.savefig(\"4.angle_histo_\" + postfix, format=\"png\", bbox_inches=\"tight\", dpi=300)\n",
    "print(data[data[\"label\"]==label_1][\"angle\"].mean(), sem(data[data[\"label\"]==label_1][\"angle\"].dropna()))\n",
    "print(data[data[\"label\"]==label_2][\"angle\"].mean(), sem(data[data[\"label\"]==label_2][\"angle\"].dropna()))"
   ]
  },
  {
   "cell_type": "markdown",
   "id": "ddbebb84-cc8a-4a49-8c23-c5397737065b",
   "metadata": {
    "tags": []
   },
   "source": [
    "### D distribution among the non contrained molecules"
   ]
  },
  {
   "cell_type": "code",
   "execution_count": 62,
   "id": "4545771a-0b70-4178-9889-3c1c5fa1be1b",
   "metadata": {
    "tags": []
   },
   "outputs": [
    {
     "data": {
      "image/png": "[encoded data removed]",
      "text/plain": [
       "<Figure size 500x300 with 1 Axes>"
      ]
     },
     "metadata": {},
     "output_type": "display_data"
    },
    {
     "name": "stdout",
     "output_type": "stream",
     "text": [
      "20 nm beads 3139\n",
      "200 nm beads 2915\n"
     ]
    }
   ],
   "source": [
    "fontsize = 23\n",
    "data = df_AIO[df_AIO[\"linear_fit_R2\"] > 0.7]\n",
    "data = data[data[\"mean_stepsize_nm\"] > immobile_stepsize_threshold_nm]\n",
    "# data = data[data[\"alpha\"] > 0.5]\n",
    "plt.figure(figsize=(5, 3))\n",
    "ax = sns.histplot(\n",
    "    data=data,\n",
    "    x=\"linear_fit_log10D\",\n",
    "    hue=\"label\",\n",
    "    palette=palette,\n",
    "    bins=40,\n",
    "    stat=\"probability\",\n",
    "    common_norm=False,\n",
    "    binrange=(-3, 2.5),\n",
    "    element=\"step\",\n",
    "    lw=2,\n",
    "    legend=False,\n",
    ")\n",
    "plt.xlim(-3, 2)\n",
    "plt.xlabel(r\"log$_{10}$D$_{app}$, $\\mu$m$^2$/s\", fontsize=fontsize)\n",
    "plt.ylabel(\"Probability\", fontsize=fontsize)\n",
    "# plt.gca().yaxis.set_label_coords(-0.1, 0.3)\n",
    "plt.gca().spines[:].set_linewidth(1)\n",
    "plt.gca().tick_params(\n",
    "    axis=\"both\",\n",
    "    which=\"major\",\n",
    "    labelsize=fontsize,\n",
    "    direction=\"in\",\n",
    "    bottom=True,\n",
    "    left=True,\n",
    "    length=5,\n",
    "    width=1,\n",
    ")\n",
    "plt.gca().set_axisbelow(False)\n",
    "plt.gca().tick_params(axis=\"both\", which=\"major\", labelsize=fontsize)\n",
    "plt.savefig(\n",
    "    \"5.ApparentD_linear_histo_\" + postfix, format=\"png\", bbox_inches=\"tight\", dpi=300\n",
    ")\n",
    "plt.show()\n",
    "print(label_1, data[data[\"label\"] == label_1].shape[0])\n",
    "print(label_2, data[data[\"label\"] == label_2].shape[0])"
   ]
  },
  {
   "cell_type": "markdown",
   "id": "6227460c-da19-457f-968f-805f59435b0b",
   "metadata": {
    "tags": []
   },
   "source": [
    "### Plot saSPT"
   ]
  },
  {
   "cell_type": "code",
   "execution_count": 63,
   "id": "70cb9959-dc7c-470f-84bf-377b5ec71470",
   "metadata": {
    "tags": []
   },
   "outputs": [],
   "source": [
    "df1 = pd.read_csv(fname_saspt_1, dtype=float)\n",
    "df2 = pd.read_csv(fname_saspt_2, dtype=float)\n",
    "\n",
    "def extract_log10D_density(df_current_file):\n",
    "    range_D = df_current_file[\"diff_coef\"].unique()\n",
    "    log10D_density = []\n",
    "    for log10D in range_D:\n",
    "        df_current_log10D = df_current_file[df_current_file[\"diff_coef\"] == log10D]\n",
    "        log10D_density.append(df_current_log10D[\"mean_posterior_occupation\"].sum())\n",
    "\n",
    "    df_toplot = pd.DataFrame(\n",
    "        {\"log10D\": np.log10(range_D), \"Probability\": log10D_density}, dtype=float\n",
    "    )\n",
    "\n",
    "    return df_toplot\n",
    "\n",
    "\n",
    "df_saspt_1 = extract_log10D_density(df1)\n",
    "df_saspt_2 = extract_log10D_density(df2)\n",
    "\n",
    "df_saspt_1.insert(0, \"label\", np.repeat(label_1, df_saspt_1.shape[0]))\n",
    "df_saspt_2.insert(0, \"label\", np.repeat(label_2, df_saspt_2.shape[0]))\n",
    "\n",
    "# Below sequence is important for the layer order\n",
    "df_saspt = pd.concat([df_saspt_1, df_saspt_2], ignore_index=True)"
   ]
  },
  {
   "cell_type": "code",
   "execution_count": 64,
   "id": "8728287b",
   "metadata": {},
   "outputs": [
    {
     "data": {
      "text/plain": [
       "(2.5, -2.0, 2.5, -2.0)"
      ]
     },
     "execution_count": 64,
     "metadata": {},
     "output_type": "execute_result"
    }
   ],
   "source": [
    "df_saspt_1[\"log10D\"].max(), df_saspt_1[\"log10D\"].min(), df_saspt_2[\n",
    "    \"log10D\"\n",
    "].max(), df_saspt_2[\"log10D\"].min()"
   ]
  },
  {
   "cell_type": "code",
   "execution_count": 65,
   "id": "742c7752",
   "metadata": {},
   "outputs": [
    {
     "data": {
      "image/png": "[encoded data removed]",
      "text/plain": [
       "<Figure size 500x300 with 1 Axes>"
      ]
     },
     "metadata": {},
     "output_type": "display_data"
    }
   ],
   "source": [
    "fontsize = 23\n",
    "plt.figure(figsize=(5,3))\n",
    "data = df_saspt\n",
    "data[\"102\"] = data[\"Probability\"].to_numpy(float) * 100\n",
    "ax = sns.lineplot(\n",
    "    data=data,\n",
    "    x=\"log10D\",\n",
    "    y=\"Probability\",\n",
    "    hue=\"label\",\n",
    "    palette=palette,\n",
    "    lw=3,\n",
    "    legend=False,\n",
    ")\n",
    "\n",
    "# plt.axvline(\n",
    "#     0.955, color=\"#FF4F00\", ls=\"--\", lw=3\n",
    "# )  # 20 nm beads in solution saSPT peak position\n",
    "\n",
    "log10D = df_saspt[\"log10D\"].to_numpy(dtype=float)\n",
    "\n",
    "# sns.move_legend(ax, 2, title=None, frameon=False)\n",
    "plt.xlim(log10D.min(), log10D.max())\n",
    "# plt.ylim(0, 0.025)\n",
    "# plt.yticks([0, 1, 2])\n",
    "plt.xlim(-2, 2.5)\n",
    "plt.xlabel(r\"log$_{10}$D$_{app}$, $\\mu$m$^2$/s\", fontsize=fontsize)\n",
    "plt.ylabel(\"SA Occupation\", fontsize=fontsize)\n",
    "# plt.gca().yaxis.set_label_coords(-0.13, 0.3)\n",
    "plt.gca().spines[:].set_linewidth(1)\n",
    "plt.gca().tick_params(\n",
    "    axis=\"both\",\n",
    "    which=\"major\",\n",
    "    labelsize=fontsize,\n",
    "    direction=\"out\",\n",
    "    bottom=True,\n",
    "    left=True,\n",
    "    length=5,\n",
    "    width=1,\n",
    ")\n",
    "plt.gca().yaxis.get_offset_text().set_fontsize(15)\n",
    "plt.gca().tick_params(\n",
    "    axis=\"both\",\n",
    "    which=\"major\",\n",
    "    labelsize=fontsize,\n",
    "    direction=\"in\",\n",
    "    bottom=True,\n",
    "    left=True,\n",
    "    length=5,\n",
    "    width=1,\n",
    ")\n",
    "plt.gca().set_axisbelow(False)\n",
    "plt.savefig(\"6.saspt_histo_\" + postfix, format=\"png\", bbox_inches=\"tight\", dpi=300)\n",
    "plt.show()"
   ]
  },
  {
   "cell_type": "code",
   "execution_count": 66,
   "id": "e3350b61",
   "metadata": {},
   "outputs": [
    {
     "name": "stdout",
     "output_type": "stream",
     "text": [
      "20 nm beads 9.006280202112785\n",
      "200 nm beads 1.873817422860385\n"
     ]
    }
   ],
   "source": [
    "from scipy.signal import find_peaks\n",
    "\n",
    "\n",
    "def find_major_peak(x, y):\n",
    "  \"\"\"\n",
    "  Finds the x value corresponding to the major peak (highest value) in the y data.\n",
    "\n",
    "  Args:\n",
    "      x: A 1D NumPy array representing the x-axis values.\n",
    "      y: A 1D NumPy array representing the y-axis values (curve).\n",
    "\n",
    "  Returns:\n",
    "      A tuple containing the x value and the corresponding y value of the major peak, \n",
    "      or None if no peak is found.\n",
    "  \"\"\"\n",
    "  peaks, _ = find_peaks(y)\n",
    "  # If no peaks are found, return None\n",
    "  if len(peaks) == 0:\n",
    "    return None\n",
    "\n",
    "  # Find the index of the major peak (highest value in y)\n",
    "  major_peak_index = peaks[np.argmax(y[peaks])]\n",
    "  major_peak_x = x[major_peak_index]\n",
    "  major_peak_y = y[major_peak_index]\n",
    "\n",
    "  return major_peak_x, major_peak_y\n",
    "\n",
    "\n",
    "major_peak_x, major_peak_y = find_major_peak(\n",
    "    data[data[\"label\"] == label_1][\"log10D\"].to_numpy(float),\n",
    "    data[data[\"label\"] == label_1][\"Probability\"].to_numpy(float),\n",
    ")\n",
    "print(label_1, 10**major_peak_x)\n",
    "major_peak_x, major_peak_y = find_major_peak(\n",
    "    data[data[\"label\"] == label_2][\"log10D\"].to_numpy(float),\n",
    "    data[data[\"label\"] == label_2][\"Probability\"].to_numpy(float),\n",
    ")\n",
    "print(label_2, 10**major_peak_x)"
   ]
  },
  {
   "cell_type": "markdown",
   "id": "6b11469b",
   "metadata": {},
   "source": [
    "### Stacked bar plot of fractions"
   ]
  },
  {
   "cell_type": "markdown",
   "id": "41f9f132",
   "metadata": {},
   "source": [
    "#### Calculations"
   ]
  },
  {
   "cell_type": "code",
   "execution_count": 67,
   "id": "404fc011",
   "metadata": {},
   "outputs": [],
   "source": [
    "labels = [label_1, label_2]\n",
    "columns = [\n",
    "    \"label\",\n",
    "    \"N, Total\",\n",
    "    \"N, Mobile\",\n",
    "    \"N, Constrained\",\n",
    "    \"Static Fraction\",\n",
    "    \"Constrained Fraction\",\n",
    "]\n",
    "lst_rows_of_df = []\n",
    "fnames = [fname_AIO_1, fname_AIO_2]\n",
    "\n",
    "for i in range(2):\n",
    "    df_current = pd.read_csv(fnames[i])\n",
    "    df_current = df_current.astype(\n",
    "        {\"linear_fit_log10D\": float, \"mean_stepsize_nm\": float, \"alpha\": float}\n",
    "    )\n",
    "\n",
    "    # all filenames within the current condition/file\n",
    "    all_filenames = df_current[\"filename\"].unique().tolist()\n",
    "    # filename prefix for each replicate\n",
    "    replicate_prefixs = np.unique([f for f in all_filenames])\n",
    "\n",
    "    for prefix in replicate_prefixs:\n",
    "        current_replicate_filenames = [f for f in all_filenames if prefix in f]\n",
    "        df_current_replicate = df_current[\n",
    "            df_current[\"filename\"].isin(current_replicate_filenames)\n",
    "        ]\n",
    "        # Judege if immobile by mean step size\n",
    "        df_mobile = df_current_replicate[\n",
    "            df_current_replicate[\"mean_stepsize_nm\"] >= immobile_stepsize_threshold_nm\n",
    "        ]\n",
    "\n",
    "        # Judge if constrained by alpha component\n",
    "        df_constrained = df_mobile[df_mobile[\"alpha\"] <= threshold_alpha]\n",
    "\n",
    "        N_total = df_current_replicate.shape[0]\n",
    "        N_mobile = df_mobile.shape[0]\n",
    "        N_constrained = df_constrained.shape[0]\n",
    "\n",
    "        if N_constrained < 1:\n",
    "            continue\n",
    "\n",
    "        F_immobile = (N_total - N_mobile) / N_total\n",
    "        F_constrained = N_constrained / N_mobile\n",
    "\n",
    "        # save\n",
    "        lst_rows_of_df.append(\n",
    "            [\n",
    "                labels[i],\n",
    "                N_total,\n",
    "                N_mobile,\n",
    "                N_constrained,\n",
    "                F_immobile,\n",
    "                F_constrained,\n",
    "            ]\n",
    "        )\n",
    "\n",
    "data = pd.DataFrame.from_records(\n",
    "    lst_rows_of_df,\n",
    "    columns=columns,\n",
    ")"
   ]
  },
  {
   "cell_type": "code",
   "execution_count": 68,
   "id": "1a7c98b4",
   "metadata": {},
   "outputs": [
    {
     "data": {
      "text/html": [
       "<div>\n",
       "<style scoped>\n",
       "    .dataframe tbody tr th:only-of-type {\n",
       "        vertical-align: middle;\n",
       "    }\n",
       "\n",
       "    .dataframe tbody tr th {\n",
       "        vertical-align: top;\n",
       "    }\n",
       "\n",
       "    .dataframe thead th {\n",
       "        text-align: right;\n",
       "    }\n",
       "</style>\n",
       "<table border=\"1\" class=\"dataframe\">\n",
       "  <thead>\n",
       "    <tr style=\"text-align: right;\">\n",
       "      <th></th>\n",
       "      <th>label</th>\n",
       "      <th>N, Total</th>\n",
       "      <th>N, Mobile</th>\n",
       "      <th>N, Constrained</th>\n",
       "      <th>Static Fraction</th>\n",
       "      <th>Constrained Fraction</th>\n",
       "    </tr>\n",
       "  </thead>\n",
       "  <tbody>\n",
       "    <tr>\n",
       "      <th>0</th>\n",
       "      <td>20 nm beads</td>\n",
       "      <td>697</td>\n",
       "      <td>697</td>\n",
       "      <td>240</td>\n",
       "      <td>0.000000</td>\n",
       "      <td>0.344333</td>\n",
       "    </tr>\n",
       "    <tr>\n",
       "      <th>1</th>\n",
       "      <td>20 nm beads</td>\n",
       "      <td>846</td>\n",
       "      <td>846</td>\n",
       "      <td>295</td>\n",
       "      <td>0.000000</td>\n",
       "      <td>0.348700</td>\n",
       "    </tr>\n",
       "    <tr>\n",
       "      <th>2</th>\n",
       "      <td>20 nm beads</td>\n",
       "      <td>1153</td>\n",
       "      <td>1153</td>\n",
       "      <td>428</td>\n",
       "      <td>0.000000</td>\n",
       "      <td>0.371206</td>\n",
       "    </tr>\n",
       "    <tr>\n",
       "      <th>3</th>\n",
       "      <td>20 nm beads</td>\n",
       "      <td>1158</td>\n",
       "      <td>1158</td>\n",
       "      <td>416</td>\n",
       "      <td>0.000000</td>\n",
       "      <td>0.359240</td>\n",
       "    </tr>\n",
       "    <tr>\n",
       "      <th>4</th>\n",
       "      <td>200 nm beads</td>\n",
       "      <td>995</td>\n",
       "      <td>995</td>\n",
       "      <td>228</td>\n",
       "      <td>0.000000</td>\n",
       "      <td>0.229146</td>\n",
       "    </tr>\n",
       "    <tr>\n",
       "      <th>5</th>\n",
       "      <td>200 nm beads</td>\n",
       "      <td>1004</td>\n",
       "      <td>1004</td>\n",
       "      <td>214</td>\n",
       "      <td>0.000000</td>\n",
       "      <td>0.213147</td>\n",
       "    </tr>\n",
       "    <tr>\n",
       "      <th>6</th>\n",
       "      <td>200 nm beads</td>\n",
       "      <td>701</td>\n",
       "      <td>701</td>\n",
       "      <td>168</td>\n",
       "      <td>0.000000</td>\n",
       "      <td>0.239658</td>\n",
       "    </tr>\n",
       "    <tr>\n",
       "      <th>7</th>\n",
       "      <td>200 nm beads</td>\n",
       "      <td>294</td>\n",
       "      <td>286</td>\n",
       "      <td>74</td>\n",
       "      <td>0.027211</td>\n",
       "      <td>0.258741</td>\n",
       "    </tr>\n",
       "    <tr>\n",
       "      <th>8</th>\n",
       "      <td>200 nm beads</td>\n",
       "      <td>389</td>\n",
       "      <td>389</td>\n",
       "      <td>90</td>\n",
       "      <td>0.000000</td>\n",
       "      <td>0.231362</td>\n",
       "    </tr>\n",
       "  </tbody>\n",
       "</table>\n",
       "</div>"
      ],
      "text/plain": [
       "          label  N, Total  N, Mobile  N, Constrained  Static Fraction  \\\n",
       "0   20 nm beads       697        697             240         0.000000   \n",
       "1   20 nm beads       846        846             295         0.000000   \n",
       "2   20 nm beads      1153       1153             428         0.000000   \n",
       "3   20 nm beads      1158       1158             416         0.000000   \n",
       "4  200 nm beads       995        995             228         0.000000   \n",
       "5  200 nm beads      1004       1004             214         0.000000   \n",
       "6  200 nm beads       701        701             168         0.000000   \n",
       "7  200 nm beads       294        286              74         0.027211   \n",
       "8  200 nm beads       389        389              90         0.000000   \n",
       "\n",
       "   Constrained Fraction  \n",
       "0              0.344333  \n",
       "1              0.348700  \n",
       "2              0.371206  \n",
       "3              0.359240  \n",
       "4              0.229146  \n",
       "5              0.213147  \n",
       "6              0.239658  \n",
       "7              0.258741  \n",
       "8              0.231362  "
      ]
     },
     "execution_count": 68,
     "metadata": {},
     "output_type": "execute_result"
    }
   ],
   "source": [
    "data"
   ]
  },
  {
   "cell_type": "code",
   "execution_count": 69,
   "id": "eb28b870",
   "metadata": {},
   "outputs": [],
   "source": [
    "N_total = data[\"N, Total\"].to_numpy(int)\n",
    "N_mobile = data[\"N, Mobile\"].to_numpy(int)\n",
    "N_immobile = N_total - N_mobile\n",
    "N_constrained = data[\"N, Constrained\"].to_numpy(int)\n",
    "N_normal = N_mobile - N_constrained\n",
    "\n",
    "frac_immobile = N_immobile / N_total\n",
    "frac_constrained = N_constrained / N_total\n",
    "frac_normal = N_normal / N_total\n",
    "\n",
    "data[\"Immobile\"] = frac_immobile\n",
    "data[\"Constrained\"] = frac_constrained\n",
    "data[\"Normal\"] = frac_normal\n",
    "\n",
    "df_mean_error = pd.DataFrame(\n",
    "    {\n",
    "        \"label\": data[\"label\"].unique(),\n",
    "        \"F_immobile_mean\": [\n",
    "            data[data[\"label\"] == label][\"Immobile\"].mean()\n",
    "            for label in data[\"label\"].unique()\n",
    "        ],\n",
    "        \"F_immobile_sem\": [\n",
    "            data[data[\"label\"] == label][\"Immobile\"].sem()\n",
    "            for label in data[\"label\"].unique()\n",
    "        ],\n",
    "        \"F_immobile_std\": [\n",
    "            data[data[\"label\"] == label][\"Immobile\"].std()\n",
    "            for label in data[\"label\"].unique()\n",
    "        ],\n",
    "        \"F_constrained_mean\": [\n",
    "            data[data[\"label\"] == label][\"Constrained\"].mean()\n",
    "            for label in data[\"label\"].unique()\n",
    "        ],\n",
    "        \"F_constrained_sem\": [\n",
    "            data[data[\"label\"] == label][\"Constrained\"].sem()\n",
    "            for label in data[\"label\"].unique()\n",
    "        ],\n",
    "        \"F_constrained_std\": [\n",
    "            data[data[\"label\"] == label][\"Constrained\"].std()\n",
    "            for label in data[\"label\"].unique()\n",
    "        ],\n",
    "        \"F_normal_mean\": [\n",
    "            data[data[\"label\"] == label][\"Normal\"].mean()\n",
    "            for label in data[\"label\"].unique()\n",
    "        ],\n",
    "        \"F_normal_sem\": [\n",
    "            data[data[\"label\"] == label][\"Normal\"].sem()\n",
    "            for label in data[\"label\"].unique()\n",
    "        ],\n",
    "        \"F_normal_std\": [\n",
    "            data[data[\"label\"] == label][\"Normal\"].std()\n",
    "            for label in data[\"label\"].unique()\n",
    "        ],\n",
    "        \"nobs\": [\n",
    "            data[data[\"label\"] == label].shape[0]\n",
    "            for label in data[\"label\"].unique()\n",
    "        ],  # number of observations\n",
    "    },\n",
    "    dtype=object,\n",
    ")"
   ]
  },
  {
   "cell_type": "code",
   "execution_count": 70,
   "id": "6d4546c2",
   "metadata": {},
   "outputs": [],
   "source": [
    "from scipy.stats import ttest_ind_from_stats\n",
    "\n",
    "def p_annot(p):\n",
    "    \"\"\"\n",
    "    p-value annotation legend:\n",
    "    ns: 0.05 < p <= 1\n",
    "    *: 0.01 < p <= 0.05\n",
    "    **: 0.001 < p <= 0.01\n",
    "    ***: 0.0001 < p <= 0.001\n",
    "    ****: p <= 0.0001\n",
    "    \"\"\"\n",
    "    if p > 0.05:\n",
    "        return \"ns\"\n",
    "    elif p > 0.01:\n",
    "        return \"*\"\n",
    "    elif p > 0.001:\n",
    "        return \"**\"\n",
    "    elif p > 0.0001:\n",
    "        return \"***\"\n",
    "    else:\n",
    "        return \"****\"\n",
    "\n",
    "\n",
    "def compare2labels(label1, label2):\n",
    "    print(\"(\", label1, \") vs (\", label2, \"):\")\n",
    "    _, pval = ttest_ind_from_stats(\n",
    "        mean1=df_mean_error[df_mean_error[\"label\"] == label1][\n",
    "            \"F_normal_mean\"\n",
    "        ].squeeze(),\n",
    "        std1=df_mean_error[df_mean_error[\"label\"] == label1][\"F_normal_std\"].squeeze(),\n",
    "        nobs1=df_mean_error[df_mean_error[\"label\"] == label1][\"nobs\"].squeeze(),\n",
    "        mean2=df_mean_error[df_mean_error[\"label\"] == label2][\n",
    "            \"F_normal_mean\"\n",
    "        ].squeeze(),\n",
    "        std2=df_mean_error[df_mean_error[\"label\"] == label2][\"F_normal_std\"].squeeze(),\n",
    "        nobs2=df_mean_error[df_mean_error[\"label\"] == label2][\"nobs\"].squeeze(),\n",
    "        equal_var=False,\n",
    "        alternative=\"two-sided\",\n",
    "    )\n",
    "    print(\"p value of normal fraction:\", pval, p_annot(pval))\n",
    "    _, pval = ttest_ind_from_stats(\n",
    "        mean1=df_mean_error[df_mean_error[\"label\"] == label1][\n",
    "            \"F_constrained_mean\"\n",
    "        ].squeeze(),\n",
    "        std1=df_mean_error[df_mean_error[\"label\"] == label1][\n",
    "            \"F_constrained_std\"\n",
    "        ].squeeze(),\n",
    "        nobs1=df_mean_error[df_mean_error[\"label\"] == label1][\"nobs\"].squeeze(),\n",
    "        mean2=df_mean_error[df_mean_error[\"label\"] == label2][\n",
    "            \"F_constrained_mean\"\n",
    "        ].squeeze(),\n",
    "        std2=df_mean_error[df_mean_error[\"label\"] == label2][\n",
    "            \"F_constrained_std\"\n",
    "        ].squeeze(),\n",
    "        nobs2=df_mean_error[df_mean_error[\"label\"] == label2][\"nobs\"].squeeze(),\n",
    "        equal_var=False,\n",
    "        alternative=\"two-sided\",\n",
    "    )\n",
    "    print(\"p value of constrained fraction:\", pval, p_annot(pval))\n",
    "    _, pval = ttest_ind_from_stats(\n",
    "        mean1=df_mean_error[df_mean_error[\"label\"] == label1][\n",
    "            \"F_immobile_mean\"\n",
    "        ].squeeze(),\n",
    "        std1=df_mean_error[df_mean_error[\"label\"] == label1][\n",
    "            \"F_immobile_std\"\n",
    "        ].squeeze(),\n",
    "        nobs1=df_mean_error[df_mean_error[\"label\"] == label1][\"nobs\"].squeeze(),\n",
    "        mean2=df_mean_error[df_mean_error[\"label\"] == label2][\n",
    "            \"F_immobile_mean\"\n",
    "        ].squeeze(),\n",
    "        std2=df_mean_error[df_mean_error[\"label\"] == label2][\n",
    "            \"F_immobile_std\"\n",
    "        ].squeeze(),\n",
    "        nobs2=df_mean_error[df_mean_error[\"label\"] == label2][\"nobs\"].squeeze(),\n",
    "        equal_var=False,\n",
    "        alternative=\"two-sided\",\n",
    "    )\n",
    "    print(\"p value of immobile fraction:\", pval, p_annot(pval))"
   ]
  },
  {
   "cell_type": "code",
   "execution_count": 71,
   "id": "59a3fbcf",
   "metadata": {},
   "outputs": [
    {
     "name": "stdout",
     "output_type": "stream",
     "text": [
      "( 20 nm beads ) vs ( 200 nm beads ):\n",
      "p value of normal fraction: 8.147764968064513e-05 ****\n",
      "p value of constrained fraction: 2.314559007515973e-06 ****\n",
      "p value of immobile fraction: 0.3739009663000589 ns\n"
     ]
    }
   ],
   "source": [
    "compare2labels(labels[0], labels[1])"
   ]
  },
  {
   "cell_type": "markdown",
   "id": "05a8cd6e",
   "metadata": {},
   "source": [
    "#### Plot"
   ]
  },
  {
   "cell_type": "code",
   "execution_count": 72,
   "id": "5b8a24b0",
   "metadata": {},
   "outputs": [
    {
     "name": "stdout",
     "output_type": "stream",
     "text": [
      "F_immobile_mean :\n",
      "label: ['20 nm beads', '200 nm beads']\n",
      "fraction: [0.0 0.5442176870748299]\n",
      "SEM: [0.0 0.5442176870748298]\n",
      "\n",
      "F_constrained_mean :\n",
      "label: ['20 nm beads', '200 nm beads']\n",
      "fraction: [35.58695596271183 23.300278381891314]\n",
      "SEM: [0.5993430319934456 0.6347053260304052]\n",
      "\n",
      "F_normal_mean :\n",
      "label: ['20 nm beads', '200 nm beads']\n",
      "fraction: [64.41304403728816 76.15550393103386]\n",
      "SEM: [0.5993430319934456 1.0990041127596304]\n",
      "\n"
     ]
    },
    {
     "data": {
      "image/png": "[encoded data removed]",
      "text/plain": [
       "<Figure size 220x350 with 1 Axes>"
      ]
     },
     "metadata": {},
     "output_type": "display_data"
    }
   ],
   "source": [
    "fig = plt.figure(figsize=(2.2, 3.5))\n",
    "x = [1, 2]\n",
    "colors = [\n",
    "    \"#333232\",\n",
    "    \"#f7b801\",\n",
    "    \"#87a878\",\n",
    "]\n",
    "fontsize = 21\n",
    "df_fractions = df_mean_error[df_mean_error[\"label\"].isin(labels)]\n",
    "bottom = np.zeros(len(x))\n",
    "categories = [\"F_immobile_mean\", \"F_constrained_mean\", \"F_normal_mean\"]\n",
    "for i in range(len(categories)):\n",
    "    plt.bar(\n",
    "        x=x,\n",
    "        height=df_fractions[categories[i]],\n",
    "        yerr=df_fractions[categories[i][:-4] + \"sem\"],\n",
    "        error_kw={\"elinewidth\": 1},\n",
    "        capsize=3,\n",
    "        label=labels,\n",
    "        bottom=bottom,\n",
    "        color=colors[i],\n",
    "    )\n",
    "    print(categories[i], \":\")\n",
    "    print(\"label:\", labels)\n",
    "    print(\"fraction:\", df_fractions[categories[i]].to_numpy() * 100)\n",
    "    print(\"SEM:\", df_fractions[categories[i][:-4] + \"sem\"].to_numpy() * 100)\n",
    "    print()\n",
    "    bottom += df_fractions[categories[i]]\n",
    "plt.ylim(0, 1.07)\n",
    "plt.ylabel(\"Fraction\", size=fontsize)\n",
    "plt.xticks([])\n",
    "plt.yticks([0, 0.5, 1], size=fontsize)\n",
    "plt.gca().spines[:].set_linewidth(3)\n",
    "plt.gca().spines[[\"right\", \"top\", \"bottom\"]].set_visible(False)\n",
    "plt.gca().tick_params(\n",
    "    axis=\"y\",\n",
    "    which=\"major\",\n",
    "    labelsize=fontsize,\n",
    "    direction=\"out\",\n",
    "    bottom=True,\n",
    "    left=True,\n",
    "    length=5,\n",
    "    width=3,\n",
    ")\n",
    "canvas_width = 0.5\n",
    "plt.xlim(1 - canvas_width, 2 + canvas_width)\n",
    "plt.xlabel(\"\")\n",
    "plt.tight_layout()\n",
    "plt.savefig(\n",
    "    \"Fracs_compare_left_20nm_right_200nm_same20ms.png\",\n",
    "    format=\"png\",\n",
    "    bbox_inches=\"tight\",\n",
    "    dpi=300,\n",
    ")"
   ]
  },
  {
   "cell_type": "markdown",
   "id": "aa6fffaa-a806-4727-af70-a7e65e44c4c4",
   "metadata": {
    "tags": []
   },
   "source": [
    "### Fitting R2 of all mobile molecules"
   ]
  },
  {
   "cell_type": "code",
   "execution_count": 73,
   "id": "eb7d7cd1-b8c4-4740-8d10-7e59faefb7c6",
   "metadata": {},
   "outputs": [
    {
     "ename": "NameError",
     "evalue": "name 'threshold_max_d_anytwo_nm' is not defined",
     "output_type": "error",
     "traceback": [
      "\u001b[0;31m---------------------------------------------------------------------------\u001b[0m",
      "\u001b[0;31mNameError\u001b[0m                                 Traceback (most recent call last)",
      "Cell \u001b[0;32mIn[73], line 1\u001b[0m\n\u001b[0;32m----> 1\u001b[0m data \u001b[38;5;241m=\u001b[39m df_AIO[df_AIO[\u001b[38;5;124m\"\u001b[39m\u001b[38;5;124mmax_d_anytwo_nm\u001b[39m\u001b[38;5;124m\"\u001b[39m] \u001b[38;5;241m>\u001b[39m \u001b[43mthreshold_max_d_anytwo_nm\u001b[49m]\n\u001b[1;32m      2\u001b[0m plt\u001b[38;5;241m.\u001b[39mfigure(figsize\u001b[38;5;241m=\u001b[39m(\u001b[38;5;241m5\u001b[39m, \u001b[38;5;241m2.5\u001b[39m), dpi\u001b[38;5;241m=\u001b[39m\u001b[38;5;241m300\u001b[39m)\n\u001b[1;32m      3\u001b[0m ax \u001b[38;5;241m=\u001b[39m sns\u001b[38;5;241m.\u001b[39mhistplot(\n\u001b[1;32m      4\u001b[0m     data\u001b[38;5;241m=\u001b[39mdata,\n\u001b[1;32m      5\u001b[0m     x\u001b[38;5;241m=\u001b[39m\u001b[38;5;124m\"\u001b[39m\u001b[38;5;124mlinear_fit_R2\u001b[39m\u001b[38;5;124m\"\u001b[39m,\n\u001b[0;32m   (...)\u001b[0m\n\u001b[1;32m     11\u001b[0m     binrange\u001b[38;5;241m=\u001b[39m(\u001b[38;5;241m0\u001b[39m, \u001b[38;5;241m1\u001b[39m),\n\u001b[1;32m     12\u001b[0m )\n",
      "\u001b[0;31mNameError\u001b[0m: name 'threshold_max_d_anytwo_nm' is not defined"
     ]
    }
   ],
   "source": [
    "data = df_AIO[df_AIO[\"max_d_anytwo_nm\"] > threshold_max_d_anytwo_nm]\n",
    "plt.figure(figsize=(5, 2.5), dpi=300)\n",
    "ax = sns.histplot(\n",
    "    data=data,\n",
    "    x=\"linear_fit_R2\",\n",
    "    hue=\"label\",\n",
    "    palette=palette,\n",
    "    bins=40,\n",
    "    stat=\"probability\",\n",
    "    common_norm=False,\n",
    "    binrange=(0, 1),\n",
    ")\n",
    "sns.move_legend(ax, 0, title=None, frameon=False)\n",
    "plt.xlim(0, 1)\n",
    "plt.xlabel(r\"Fitting R$^2$\", weight=\"bold\", fontsize=15)\n",
    "plt.ylabel(\"Probability\", weight=\"bold\", fontsize=15)\n",
    "plt.gca().spines[:].set_linewidth(1)\n",
    "plt.gca().tick_params(\n",
    "    axis=\"both\",\n",
    "    which=\"major\",\n",
    "    labelsize=15,\n",
    "    direction=\"out\",\n",
    "    bottom=True,\n",
    "    left=True,\n",
    "    length=5,\n",
    "    width=1,\n",
    ")\n",
    "plt.savefig(\"SM1.fitting_R2_histo_\" + postfix, format=\"png\", bbox_inches=\"tight\")\n",
    "plt.show()\n",
    "print(label_1, data[data[\"label\"] == label_1].shape[0])\n",
    "print(label_2, data[data[\"label\"] == label_2].shape[0])"
   ]
  }
 ],
 "metadata": {
  "kernelspec": {
   "display_name": "Python 3 (ipykernel)",
   "language": "python",
   "name": "python3"
  },
  "language_info": {
   "codemirror_mode": {
    "name": "ipython",
    "version": 3
   },
   "file_extension": ".py",
   "mimetype": "text/x-python",
   "name": "python",
   "nbconvert_exporter": "python",
   "pygments_lexer": "ipython3",
   "version": "3.9.16"
  }
 },
 "nbformat": 4,
 "nbformat_minor": 5
}
