{
 "cells": [
  {
   "cell_type": "code",
   "execution_count": 2,
   "id": "3df85541-f0e0-4ae7-8e29-3c0b9eee29fc",
   "metadata": {
    "tags": []
   },
   "outputs": [],
   "source": [
    "import os\n",
    "from os.path import dirname\n",
    "import numpy as np\n",
    "from scipy.signal import find_peaks\n",
    "import pandas as pd\n",
    "import matplotlib.pyplot as plt\n",
    "from matplotlib.colors import LogNorm\n",
    "import seaborn as sns\n",
    "\n",
    "sns.set(color_codes=True, style=\"white\")\n",
    "pd.options.mode.chained_assignment = None  # default='warn'\n",
    "\n",
    "postfix = \"FL_alone.png\"\n",
    "\n",
    "folder_save = \"/Volumes/lsa-nwalter/Guoming_Gao_turbo/Walterlab_server/PROCESSED_DATA/RNA-diffusion-in-FUS/RNAinFUS_PaperFigures/Fig2_diffusion analysis/fractions_FL_alone\"\n",
    "os.chdir(folder_save)\n",
    "fname = \"SPT_results_AIO_concat-0Dex_noTR_0hr.csv\"\n",
    "df = pd.read_csv(fname)"
   ]
  },
  {
   "cell_type": "markdown",
   "id": "255a4b50-faea-436e-b473-a5f30b54eb11",
   "metadata": {
    "tags": []
   },
   "source": [
    "### Stacked bar plot of fractions"
   ]
  },
  {
   "cell_type": "markdown",
   "id": "df0eaee3-6c47-412d-a88c-afe04e8896c8",
   "metadata": {},
   "source": [
    "#### Calculations"
   ]
  },
  {
   "cell_type": "code",
   "execution_count": 3,
   "id": "4063f09b-1ca0-4761-862f-35d838733371",
   "metadata": {
    "tags": []
   },
   "outputs": [],
   "source": [
    "# Displacement threshold for immobile molecules\n",
    "immobile_stepsize_threshold_nm = 30\n",
    "# alpha component threshold for constrained diffusion\n",
    "threshold_alpha = 0.5\n",
    "# Output file structure\n",
    "columns = [\n",
    "    \"replicate_prefix\",\n",
    "    \"N, Total\",\n",
    "    \"N, Mobile\",\n",
    "    \"N, Constrained\",\n",
    "    \"Static Fraction\",\n",
    "    \"Constrained Fraction\",\n",
    "]"
   ]
  },
  {
   "cell_type": "code",
   "execution_count": 5,
   "id": "f5527e49-6fd2-485e-8e10-5cb365763c22",
   "metadata": {
    "tags": []
   },
   "outputs": [],
   "source": [
    "lst_rows_of_df = []\n",
    "df_current = df.astype(\n",
    "    {\"linear_fit_log10D\": float, \"mean_stepsize_nm\": float, \"alpha\": float}\n",
    ")\n",
    "# all filenames within the current condition/file\n",
    "all_filenames = df_current[\"filename\"].unique().tolist()\n",
    "# filename prefix for each replicate\n",
    "replicate_prefixs = np.unique([f.split(\"FOV\")[0] for f in all_filenames])\n",
    "\n",
    "for prefix in replicate_prefixs:\n",
    "    current_replicate_filenames = [f for f in all_filenames if prefix in f]\n",
    "    df_current_replicate = df_current[\n",
    "        df_current[\"filename\"].isin(current_replicate_filenames)\n",
    "    ]\n",
    "\n",
    "    # Judege if immobile by mean step size\n",
    "    df_mobile = df_current_replicate[\n",
    "        df_current_replicate[\"mean_stepsize_nm\"] >= immobile_stepsize_threshold_nm\n",
    "    ]\n",
    "\n",
    "    # Judge if constrained by alpha component\n",
    "    df_constrained = df_mobile[df_mobile[\"alpha\"] <= threshold_alpha]\n",
    "\n",
    "    N_total = df_current_replicate.shape[0]\n",
    "    N_mobile = df_mobile.shape[0]\n",
    "    N_constrained = df_constrained.shape[0]\n",
    "\n",
    "    if N_constrained < 1:\n",
    "        continue\n",
    "\n",
    "    F_immobile = (N_total - N_mobile) / N_total\n",
    "    F_constrained = N_constrained / N_mobile\n",
    "\n",
    "    # save\n",
    "    lst_rows_of_df.append(\n",
    "        [\n",
    "            prefix,\n",
    "            N_total,\n",
    "            N_mobile,\n",
    "            N_constrained,\n",
    "            F_immobile,\n",
    "            F_constrained,\n",
    "        ]\n",
    "    )\n",
    "\n",
    "data = pd.DataFrame.from_records(\n",
    "lst_rows_of_df,\n",
    "columns=columns,\n",
    ")"
   ]
  },
  {
   "cell_type": "code",
   "execution_count": 10,
   "id": "2a2cbb42-e9b0-4afb-aa99-b541817c11f0",
   "metadata": {},
   "outputs": [],
   "source": [
    "N_total = data[\"N, Total\"].to_numpy(int)\n",
    "N_mobile = data[\"N, Mobile\"].to_numpy(int)\n",
    "N_immobile = N_total - N_mobile\n",
    "N_constrained = data[\"N, Constrained\"].to_numpy(int)\n",
    "N_normal = N_mobile - N_constrained\n",
    "\n",
    "frac_immobile = N_immobile / N_total\n",
    "frac_constrained = N_constrained / N_total\n",
    "frac_normal = N_normal / N_total\n",
    "\n",
    "data[\"Immobile\"] = frac_immobile\n",
    "data[\"Constrained\"] = frac_constrained\n",
    "data[\"Normal\"] = frac_normal\n",
    "\n",
    "F_immobile_mean = data[\"Immobile\"].mean()\n",
    "F_immobile_sem=data[\"Immobile\"].sem()\n",
    "F_constrained_mean=data[\"Constrained\"].mean()\n",
    "F_constrained_sem=data[\"Constrained\"].sem()\n",
    "F_normal_mean=data[\"Normal\"].mean()\n",
    "F_normal_sem=data[\"Normal\"].sem()"
   ]
  },
  {
   "cell_type": "markdown",
   "id": "80968e0d-937e-455d-9da2-ff3fbb72447a",
   "metadata": {
    "tags": []
   },
   "source": [
    "#### Plot"
   ]
  },
  {
   "cell_type": "code",
   "execution_count": 35,
   "id": "a18f1a41-997a-4df3-9233-7839785a514c",
   "metadata": {
    "tags": []
   },
   "outputs": [
    {
     "data": {
      "image/png": "[encoded data removed]",
      "text/plain": [
       "<Figure size 200x400 with 1 Axes>"
      ]
     },
     "metadata": {},
     "output_type": "display_data"
    }
   ],
   "source": [
    "fig = plt.figure(figsize=(2, 4))\n",
    "x = [1]\n",
    "colors = [\n",
    "    \"#333232\",\n",
    "    \"#f7b801\",\n",
    "    \"#87a878\",\n",
    "]\n",
    "\n",
    "bottom = np.zeros(len(x))\n",
    "plt.bar(\n",
    "    x=0,\n",
    "    height=F_immobile_mean,\n",
    "    yerr=F_immobile_sem,\n",
    "    error_kw={\"elinewidth\": 1},\n",
    "    capsize=5,\n",
    "    bottom=0,\n",
    "    color=colors[0],\n",
    ")\n",
    "plt.bar(\n",
    "    x=0,\n",
    "    height=F_constrained_mean,\n",
    "    yerr=F_constrained_sem,\n",
    "    error_kw={\"elinewidth\": 1},\n",
    "    capsize=5,\n",
    "    bottom=F_immobile_mean,\n",
    "    color=colors[1],\n",
    ")\n",
    "plt.bar(\n",
    "    x=0,\n",
    "    height=F_normal_mean,\n",
    "    yerr=F_normal_sem,\n",
    "    error_kw={\"elinewidth\": 1},\n",
    "    capsize=5,\n",
    "    bottom=F_immobile_mean+F_constrained_mean,\n",
    "    color=colors[2],\n",
    ")\n",
    "plt.ylim(0, 1.05)\n",
    "plt.ylabel(\"Fraction\", weight=\"bold\", size=25)\n",
    "plt.xticks([])\n",
    "plt.yticks([0, 0.5, 1], size=15)\n",
    "plt.gca().spines[:].set_linewidth(3)\n",
    "plt.gca().spines[['right', 'top', 'bottom']].set_visible(False)\n",
    "plt.gca().tick_params(\n",
    "    axis=\"y\",\n",
    "    which=\"major\",\n",
    "    labelsize=20,\n",
    "    direction=\"out\",\n",
    "    bottom=True,\n",
    "    left=True,\n",
    "    length=5,\n",
    "    width=3,\n",
    ")\n",
    "canvas_width = 0.7\n",
    "plt.xlim(-canvas_width,canvas_width)\n",
    "plt.xlabel(\"\")\n",
    "plt.tight_layout()\n",
    "plt.savefig(\"Fracs_FL_alone.png\", format=\"png\", bbox_inches=\"tight\", dpi=600)\n",
    "plt.show()"
   ]
  },
  {
   "cell_type": "code",
   "execution_count": null,
   "id": "e607dfbc",
   "metadata": {},
   "outputs": [],
   "source": []
  }
 ],
 "metadata": {
  "kernelspec": {
   "display_name": "Python 3 (ipykernel)",
   "language": "python",
   "name": "python3"
  },
  "language_info": {
   "codemirror_mode": {
    "name": "ipython",
    "version": 3
   },
   "file_extension": ".py",
   "mimetype": "text/x-python",
   "name": "python",
   "nbconvert_exporter": "python",
   "pygments_lexer": "ipython3",
   "version": "3.9.16"
  }
 },
 "nbformat": 4,
 "nbformat_minor": 5
}
